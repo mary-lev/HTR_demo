{
 "cells": [
  {
   "cell_type": "code",
   "execution_count": 1,
   "metadata": {},
   "outputs": [
    {
     "name": "stdout",
     "output_type": "stream",
     "text": [
      "Files: ['image_serial_12_12_cropped_line.jpg', 'image_serial_37_14_cropped_line.jpg', 'image_serial_34_41_cropped_line.jpg', 'image_serial_32_23_cropped_line.jpg', 'image_serial_34_46_cropped_line.jpg', 'image_serial_48_3_cropped_line.jpg', 'image_serial_50_11_cropped_line.jpg', 'image_serial_21_9_cropped_line.jpg', 'image_serial_53_1_cropped_line.jpg', 'image_serial_24_9_cropped_line.jpg', 'image_serial_29_26_cropped_line.jpg', 'image_serial_131_29_cropped_line.jpg', 'image_serial_128_6_cropped_line.jpg', 'image_serial_45_16_cropped_line.jpg', 'image_serial_25_12_cropped_line.jpg', 'image_serial_22_17_cropped_line.jpg', 'image_serial_129_31_cropped_line.jpg', 'image_serial_131_28_cropped_line.jpg', 'image_serial_51_49_cropped_line.jpg', 'image_serial_46_33_cropped_line.jpg', 'image_serial_41_5_cropped_line.jpg', 'image_serial_40_30_cropped_line.jpg', 'image_serial_22_3_cropped_line.jpg', 'image_serial_39_2_cropped_line.jpg', 'image_serial_17_24_cropped_line.jpg', 'image_serial_48_31_cropped_line.jpg', 'image_serial_43_11_cropped_line.jpg', 'image_serial_51_0_cropped_line.jpg', 'image_serial_34_42_cropped_line.jpg', 'image_serial_134_28_cropped_line.jpg', 'image_serial_51_46_cropped_line.jpg', 'image_serial_37_10_cropped_line.jpg', 'image_serial_19_24_cropped_line.jpg', 'image_serial_38_14_cropped_line.jpg', 'image_serial_136_20_cropped_line.jpg', 'image_serial_134_25_cropped_line.jpg', 'image_serial_45_14_cropped_line.jpg', 'image_serial_30_27_cropped_line.jpg', 'image_serial_48_14_cropped_line.jpg', 'image_serial_16_25_cropped_line.jpg', 'image_serial_38_18_cropped_line.jpg', 'image_serial_31_42_cropped_line.jpg', 'image_serial_13_10_cropped_line.jpg', 'image_serial_46_31_cropped_line.jpg', 'image_serial_29_18_cropped_line.jpg', 'image_serial_31_7_cropped_line.jpg', 'image_serial_48_47_cropped_line.jpg', 'image_serial_14_28_cropped_line.jpg', 'image_serial_26_35_cropped_line.jpg', 'image_serial_54_13_cropped_line.jpg', 'image_serial_45_6_cropped_line.jpg', 'image_serial_44_9_cropped_line.jpg', 'image_serial_44_4_cropped_line.jpg', 'image_serial_129_15_cropped_line.jpg', 'image_serial_48_42_cropped_line.jpg', 'image_serial_23_23_cropped_line.jpg', 'image_serial_29_11_cropped_line.jpg', 'image_serial_52_12_cropped_line.jpg', 'image_serial_35_2_cropped_line.jpg', 'image_serial_41_11_cropped_line.jpg', 'image_serial_46_20_cropped_line.jpg', 'image_serial_21_27_cropped_line.jpg', 'image_serial_23_3_cropped_line.jpg', 'image_serial_131_1_cropped_line.jpg', 'image_serial_40_31_cropped_line.jpg', 'image_serial_35_4_cropped_line.jpg', 'image_serial_45_9_cropped_line.jpg', 'image_serial_48_0_cropped_line.jpg', 'image_serial_50_3_cropped_line.jpg', 'image_serial_16_19_cropped_line.jpg', 'image_serial_53_8_cropped_line.jpg', 'image_serial_134_26_cropped_line.jpg', 'image_serial_49_39_cropped_line.jpg', 'image_serial_132_26_cropped_line.jpg', 'image_serial_52_35_cropped_line.jpg', 'image_serial_54_17_cropped_line.jpg', 'image_serial_18_20_cropped_line.jpg', 'image_serial_31_33_cropped_line.jpg', 'image_serial_134_20_cropped_line.jpg', 'image_serial_130_13_cropped_line.jpg', 'image_serial_46_11_cropped_line.jpg', 'image_serial_133_17_cropped_line.jpg', 'image_serial_40_16_cropped_line.jpg', 'image_serial_136_6_cropped_line.jpg', 'image_serial_36_27_cropped_line.jpg', 'image_serial_17_19_cropped_line.jpg', 'image_serial_35_37_cropped_line.jpg', 'image_serial_130_0_cropped_line.jpg', 'image_serial_50_14_cropped_line.jpg', 'image_serial_49_4_cropped_line.jpg', 'image_serial_48_27_cropped_line.jpg', 'image_serial_49_6_cropped_line.jpg', 'image_serial_51_26_cropped_line.jpg', 'image_serial_43_25_cropped_line.jpg', 'image_serial_40_22_cropped_line.jpg', 'image_serial_51_32_cropped_line.jpg', 'image_serial_41_18_cropped_line.jpg', 'image_serial_13_12_cropped_line.jpg', 'image_serial_45_15_cropped_line.jpg', 'image_serial_19_1_cropped_line.jpg', 'image_serial_128_2_cropped_line.jpg', 'image_serial_22_13_cropped_line.jpg', 'image_serial_17_0_cropped_line.jpg', 'image_serial_43_8_cropped_line.jpg', 'image_serial_21_13_cropped_line.jpg', 'image_serial_46_32_cropped_line.jpg', 'image_serial_136_10_cropped_line.jpg', 'image_serial_15_9_cropped_line.jpg', 'image_serial_36_7_cropped_line.jpg', 'image_serial_36_1_cropped_line.jpg', 'image_serial_34_38_cropped_line.jpg', 'image_serial_129_8_cropped_line.jpg', 'image_serial_29_34_cropped_line.jpg', 'image_serial_30_22_cropped_line.jpg', 'image_serial_46_30_cropped_line.jpg', 'image_serial_14_12_cropped_line.jpg', 'image_serial_25_22_cropped_line.jpg', 'image_serial_22_14_cropped_line.jpg', 'image_serial_49_33_cropped_line.jpg', 'image_serial_34_35_cropped_line.jpg', 'image_serial_137_3_cropped_line.jpg', 'image_serial_25_6_cropped_line.jpg', 'image_serial_49_11_cropped_line.jpg', 'image_serial_132_8_cropped_line.jpg', 'image_serial_46_26_cropped_line.jpg', 'image_serial_130_10_cropped_line.jpg', 'image_serial_129_34_cropped_line.jpg', 'image_serial_24_18_cropped_line.jpg', 'image_serial_23_12_cropped_line.jpg', 'image_serial_38_31_cropped_line.jpg', 'image_serial_30_11_cropped_line.jpg', 'image_serial_50_38_cropped_line.jpg', 'image_serial_53_13_cropped_line.jpg', 'image_serial_43_39_cropped_line.jpg', 'image_serial_43_14_cropped_line.jpg', 'image_serial_129_35_cropped_line.jpg', 'image_serial_52_14_cropped_line.jpg', 'image_serial_36_10_cropped_line.jpg', 'image_serial_52_27_cropped_line.jpg', 'image_serial_15_1_cropped_line.jpg', 'image_serial_41_10_cropped_line.jpg', 'image_serial_21_14_cropped_line.jpg', 'image_serial_22_22_cropped_line.jpg', 'image_serial_47_3_cropped_line.jpg', 'image_serial_37_1_cropped_line.jpg', 'image_serial_51_16_cropped_line.jpg', 'image_serial_30_4_cropped_line.jpg', 'image_serial_46_12_cropped_line.jpg', 'image_serial_50_28_cropped_line.jpg', 'image_serial_46_2_cropped_line.jpg', 'image_serial_16_20_cropped_line.jpg', 'image_serial_27_14_cropped_line.jpg', 'image_serial_36_30_cropped_line.jpg', 'image_serial_53_7_cropped_line.jpg', 'image_serial_14_27_cropped_line.jpg', 'image_serial_48_25_cropped_line.jpg', 'image_serial_15_17_cropped_line.jpg', 'image_serial_50_25_cropped_line.jpg', 'image_serial_54_3_cropped_line.jpg', 'image_serial_19_28_cropped_line.jpg', 'image_serial_32_3_cropped_line.jpg', 'image_serial_49_17_cropped_line.jpg', 'image_serial_31_28_cropped_line.jpg', 'image_serial_132_23_cropped_line.jpg', 'image_serial_38_19_cropped_line.jpg', 'image_serial_34_44_cropped_line.jpg', 'image_serial_54_4_cropped_line.jpg', 'image_serial_46_3_cropped_line.jpg', 'image_serial_50_23_cropped_line.jpg', 'image_serial_40_4_cropped_line.jpg', 'image_serial_23_32_cropped_line.jpg', 'image_serial_132_0_cropped_line.jpg', 'image_serial_40_13_cropped_line.jpg', 'image_serial_34_28_cropped_line.jpg', 'image_serial_30_15_cropped_line.jpg', 'image_serial_27_6_cropped_line.jpg', 'image_serial_14_15_cropped_line.jpg', 'image_serial_132_22_cropped_line.jpg', 'image_serial_41_7_cropped_line.jpg', 'image_serial_22_25_cropped_line.jpg', 'image_serial_42_33_cropped_line.jpg', 'image_serial_19_9_cropped_line.jpg', 'image_serial_42_1_cropped_line.jpg', 'image_serial_51_38_cropped_line.jpg', 'image_serial_49_23_cropped_line.jpg', 'image_serial_43_34_cropped_line.jpg', 'image_serial_22_1_cropped_line.jpg', 'image_serial_46_23_cropped_line.jpg', 'image_serial_48_38_cropped_line.jpg', 'image_serial_35_6_cropped_line.jpg', 'image_serial_129_24_cropped_line.jpg', 'image_serial_41_21_cropped_line.jpg', 'image_serial_135_7_cropped_line.jpg', 'image_serial_34_0_cropped_line.jpg', 'image_serial_46_35_cropped_line.jpg', 'image_serial_16_23_cropped_line.jpg', 'image_serial_54_20_cropped_line.jpg', 'image_serial_47_11_cropped_line.jpg', 'image_serial_47_6_cropped_line.jpg', 'image_serial_40_25_cropped_line.jpg', 'image_serial_22_9_cropped_line.jpg', 'image_serial_130_22_cropped_line.jpg', 'image_serial_50_26_cropped_line.jpg', 'image_serial_31_27_cropped_line.jpg', 'image_serial_19_26_cropped_line.jpg', 'image_serial_40_35_cropped_line.jpg', 'image_serial_50_16_cropped_line.jpg', 'image_serial_31_19_cropped_line.jpg', 'image_serial_39_17_cropped_line.jpg', 'image_serial_19_2_cropped_line.jpg', 'image_serial_41_12_cropped_line.jpg', 'image_serial_21_2_cropped_line.jpg', 'image_serial_29_28_cropped_line.jpg', 'image_serial_130_28_cropped_line.jpg', 'image_serial_49_31_cropped_line.jpg', 'image_serial_17_6_cropped_line.jpg', 'image_serial_17_10_cropped_line.jpg', 'image_serial_29_37_cropped_line.jpg', 'image_serial_17_11_cropped_line.jpg', 'image_serial_42_34_cropped_line.jpg', 'image_serial_26_16_cropped_line.jpg', 'image_serial_49_38_cropped_line.jpg', 'image_serial_44_17_cropped_line.jpg', 'image_serial_14_6_cropped_line.jpg', 'image_serial_19_8_cropped_line.jpg', 'image_serial_39_31_cropped_line.jpg', 'image_serial_128_16_cropped_line.jpg', 'image_serial_39_21_cropped_line.jpg', 'image_serial_32_47_cropped_line.jpg', 'image_serial_46_29_cropped_line.jpg', 'image_serial_31_36_cropped_line.jpg', 'image_serial_34_11_cropped_line.jpg', 'image_serial_136_28_cropped_line.jpg', 'image_serial_132_2_cropped_line.jpg', 'image_serial_51_57_cropped_line.jpg', 'image_serial_133_1_cropped_line.jpg', 'image_serial_39_24_cropped_line.jpg', 'image_serial_49_8_cropped_line.jpg', 'image_serial_23_29_cropped_line.jpg', 'image_serial_136_24_cropped_line.jpg', 'image_serial_43_23_cropped_line.jpg', 'image_serial_46_36_cropped_line.jpg', 'image_serial_53_12_cropped_line.jpg', 'image_serial_130_17_cropped_line.jpg', 'image_serial_30_26_cropped_line.jpg', 'image_serial_43_19_cropped_line.jpg', 'image_serial_137_11_cropped_line.jpg', 'image_serial_32_9_cropped_line.jpg', 'image_serial_128_14_cropped_line.jpg', 'image_serial_43_12_cropped_line.jpg', 'image_serial_18_25_cropped_line.jpg', 'image_serial_42_6_cropped_line.jpg', 'image_serial_29_31_cropped_line.jpg', 'image_serial_31_1_cropped_line.jpg', 'image_serial_21_18_cropped_line.jpg', 'image_serial_48_50_cropped_line.jpg', 'image_serial_134_1_cropped_line.jpg', 'image_serial_49_29_cropped_line.jpg', 'image_serial_39_16_cropped_line.jpg', 'image_serial_135_4_cropped_line.jpg', 'image_serial_24_6_cropped_line.jpg', 'image_serial_30_2_cropped_line.jpg', 'image_serial_23_10_cropped_line.jpg', 'image_serial_19_19_cropped_line.jpg', 'image_serial_23_31_cropped_line.jpg', 'image_serial_129_27_cropped_line.jpg', 'image_serial_129_17_cropped_line.jpg', 'image_serial_51_39_cropped_line.jpg', 'image_serial_32_5_cropped_line.jpg', 'image_serial_32_38_cropped_line.jpg', 'image_serial_14_23_cropped_line.jpg', 'image_serial_48_46_cropped_line.jpg', 'image_serial_37_13_cropped_line.jpg', 'image_serial_52_29_cropped_line.jpg', 'image_serial_52_9_cropped_line.jpg', 'image_serial_36_33_cropped_line.jpg', 'image_serial_52_19_cropped_line.jpg', 'image_serial_128_19_cropped_line.jpg', 'image_serial_38_16_cropped_line.jpg', 'image_serial_17_13_cropped_line.jpg', 'image_serial_46_4_cropped_line.jpg', 'image_serial_38_9_cropped_line.jpg', 'image_serial_42_23_cropped_line.jpg', 'image_serial_31_23_cropped_line.jpg', 'image_serial_135_2_cropped_line.jpg', 'image_serial_131_30_cropped_line.jpg', 'image_serial_15_21_cropped_line.jpg', 'image_serial_19_7_cropped_line.jpg', 'image_serial_42_26_cropped_line.jpg', 'image_serial_49_13_cropped_line.jpg', 'image_serial_39_30_cropped_line.jpg', 'image_serial_35_40_cropped_line.jpg', 'image_serial_30_29_cropped_line.jpg', 'image_serial_136_18_cropped_line.jpg', 'image_serial_23_8_cropped_line.jpg', 'image_serial_30_18_cropped_line.jpg', 'image_serial_17_4_cropped_line.jpg', 'image_serial_43_27_cropped_line.jpg', 'image_serial_134_2_cropped_line.jpg', 'image_serial_38_1_cropped_line.jpg', 'image_serial_36_32_cropped_line.jpg', 'image_serial_131_19_cropped_line.jpg', 'image_serial_16_29_cropped_line.jpg', 'image_serial_22_0_cropped_line.jpg', 'image_serial_27_12_cropped_line.jpg', 'image_serial_128_0_cropped_line.jpg', 'image_serial_129_11_cropped_line.jpg', 'image_serial_135_18_cropped_line.jpg', 'image_serial_29_25_cropped_line.jpg', 'image_serial_15_4_cropped_line.jpg', 'image_serial_42_8_cropped_line.jpg', 'image_serial_43_0_cropped_line.jpg', 'image_serial_19_31_cropped_line.jpg', 'image_serial_48_53_cropped_line.jpg', 'image_serial_30_32_cropped_line.jpg', 'image_serial_46_27_cropped_line.jpg', 'image_serial_52_0_cropped_line.jpg', 'image_serial_135_16_cropped_line.jpg', 'image_serial_52_30_cropped_line.jpg', 'image_serial_137_0_cropped_line.jpg', 'image_serial_17_28_cropped_line.jpg', 'image_serial_34_39_cropped_line.jpg', 'image_serial_48_12_cropped_line.jpg', 'image_serial_36_22_cropped_line.jpg', 'image_serial_31_30_cropped_line.jpg', 'image_serial_134_12_cropped_line.jpg', 'image_serial_18_19_cropped_line.jpg', 'image_serial_15_18_cropped_line.jpg', 'image_serial_14_26_cropped_line.jpg', 'image_serial_16_10_cropped_line.jpg', 'image_serial_130_32_cropped_line.jpg', 'image_serial_34_12_cropped_line.jpg', 'image_serial_130_2_cropped_line.jpg', 'image_serial_134_9_cropped_line.jpg', 'image_serial_130_31_cropped_line.jpg', 'image_serial_12_7_cropped_line.jpg', 'image_serial_40_8_cropped_line.jpg', 'image_serial_19_30_cropped_line.jpg', 'image_serial_24_10_cropped_line.jpg', 'image_serial_16_30_cropped_line.jpg', 'image_serial_39_14_cropped_line.jpg', 'image_serial_52_38_cropped_line.jpg', 'image_serial_134_15_cropped_line.jpg', 'image_serial_16_21_cropped_line.jpg', 'image_serial_32_11_cropped_line.jpg', 'image_serial_45_8_cropped_line.jpg', 'image_serial_50_8_cropped_line.jpg', 'image_serial_130_8_cropped_line.jpg', 'image_serial_29_5_cropped_line.jpg', 'image_serial_54_19_cropped_line.jpg', 'image_serial_26_14_cropped_line.jpg', 'image_serial_37_12_cropped_line.jpg', 'image_serial_31_2_cropped_line.jpg', 'image_serial_48_40_cropped_line.jpg', 'image_serial_31_17_cropped_line.jpg', 'image_serial_21_12_cropped_line.jpg', 'image_serial_17_3_cropped_line.jpg', 'image_serial_21_10_cropped_line.jpg', 'image_serial_42_29_cropped_line.jpg', 'image_serial_128_27_cropped_line.jpg', 'image_serial_32_4_cropped_line.jpg', 'image_serial_44_15_cropped_line.jpg', 'image_serial_52_11_cropped_line.jpg', 'image_serial_17_9_cropped_line.jpg', 'image_serial_38_0_cropped_line.jpg', 'image_serial_16_24_cropped_line.jpg', 'image_serial_131_9_cropped_line.jpg', 'image_serial_137_5_cropped_line.jpg', 'image_serial_134_24_cropped_line.jpg', 'image_serial_35_16_cropped_line.jpg', 'image_serial_35_28_cropped_line.jpg', 'image_serial_23_7_cropped_line.jpg', 'image_serial_46_21_cropped_line.jpg', 'image_serial_43_24_cropped_line.jpg', 'image_serial_26_3_cropped_line.jpg', 'image_serial_25_21_cropped_line.jpg', 'image_serial_37_5_cropped_line.jpg', 'image_serial_44_6_cropped_line.jpg', 'image_serial_39_37_cropped_line.jpg', 'image_serial_131_23_cropped_line.jpg', 'image_serial_15_28_cropped_line.jpg', 'image_serial_34_24_cropped_line.jpg', 'image_serial_39_13_cropped_line.jpg', 'image_serial_35_17_cropped_line.jpg', 'image_serial_25_5_cropped_line.jpg', 'image_serial_12_19_cropped_line.jpg', 'image_serial_46_44_cropped_line.jpg', 'image_serial_12_6_cropped_line.jpg', 'image_serial_129_9_cropped_line.jpg', 'image_serial_130_11_cropped_line.jpg', 'image_serial_25_17_cropped_line.jpg', 'image_serial_13_8_cropped_line.jpg', 'image_serial_46_22_cropped_line.jpg', 'image_serial_15_16_cropped_line.jpg', 'image_serial_26_27_cropped_line.jpg', 'image_serial_21_29_cropped_line.jpg', 'image_serial_36_20_cropped_line.jpg', 'image_serial_129_12_cropped_line.jpg', 'image_serial_51_13_cropped_line.jpg', 'image_serial_51_21_cropped_line.jpg', 'image_serial_35_3_cropped_line.jpg', 'image_serial_12_27_cropped_line.jpg', 'image_serial_48_54_cropped_line.jpg', 'image_serial_24_8_cropped_line.jpg', 'image_serial_12_0_cropped_line.jpg', 'image_serial_38_7_cropped_line.jpg', 'image_serial_25_7_cropped_line.jpg', 'image_serial_48_35_cropped_line.jpg', 'image_serial_31_12_cropped_line.jpg', 'image_serial_32_22_cropped_line.jpg', 'image_serial_51_8_cropped_line.jpg', 'image_serial_53_0_cropped_line.jpg', 'image_serial_14_17_cropped_line.jpg', 'image_serial_39_8_cropped_line.jpg', 'image_serial_51_31_cropped_line.jpg', 'image_serial_128_11_cropped_line.jpg', 'image_serial_51_14_cropped_line.jpg', 'image_serial_15_32_cropped_line.jpg', 'image_serial_49_2_cropped_line.jpg', 'image_serial_137_2_cropped_line.jpg', 'image_serial_42_9_cropped_line.jpg', 'image_serial_136_25_cropped_line.jpg', 'image_serial_46_18_cropped_line.jpg', 'image_serial_135_13_cropped_line.jpg', 'image_serial_40_7_cropped_line.jpg', 'image_serial_18_18_cropped_line.jpg', 'image_serial_51_61_cropped_line.jpg', 'image_serial_135_3_cropped_line.jpg', 'image_serial_31_29_cropped_line.jpg', 'image_serial_136_14_cropped_line.jpg', 'image_serial_30_24_cropped_line.jpg', 'image_serial_39_28_cropped_line.jpg', 'image_serial_17_16_cropped_line.jpg', 'image_serial_18_6_cropped_line.jpg', 'image_serial_12_1_cropped_line.jpg', 'image_serial_135_21_cropped_line.jpg', 'image_serial_52_21_cropped_line.jpg', 'image_serial_23_0_cropped_line.jpg', 'image_serial_39_0_cropped_line.jpg', 'image_serial_35_34_cropped_line.jpg', 'image_serial_35_32_cropped_line.jpg', 'image_serial_25_29_cropped_line.jpg', 'image_serial_32_10_cropped_line.jpg', 'image_serial_41_16_cropped_line.jpg', 'image_serial_129_14_cropped_line.jpg', 'image_serial_53_16_cropped_line.jpg', 'image_serial_136_11_cropped_line.jpg', 'image_serial_45_12_cropped_line.jpg', 'image_serial_32_1_cropped_line.jpg', 'image_serial_49_15_cropped_line.jpg', 'image_serial_128_31_cropped_line.jpg', 'image_serial_13_16_cropped_line.jpg', 'image_serial_49_20_cropped_line.jpg', 'image_serial_50_1_cropped_line.jpg', 'image_serial_25_18_cropped_line.jpg', 'image_serial_34_5_cropped_line.jpg', 'image_serial_12_8_cropped_line.jpg', 'image_serial_15_7_cropped_line.jpg', 'image_serial_32_7_cropped_line.jpg', 'image_serial_43_28_cropped_line.jpg', 'image_serial_32_40_cropped_line.jpg', 'image_serial_132_6_cropped_line.jpg', 'image_serial_25_16_cropped_line.jpg', 'image_serial_51_44_cropped_line.jpg', 'image_serial_42_11_cropped_line.jpg', 'image_serial_22_6_cropped_line.jpg', 'image_serial_130_19_cropped_line.jpg', 'image_serial_48_20_cropped_line.jpg', 'image_serial_18_16_cropped_line.jpg', 'image_serial_24_25_cropped_line.jpg', 'image_serial_128_17_cropped_line.jpg', 'image_serial_48_41_cropped_line.jpg', 'image_serial_135_1_cropped_line.jpg', 'image_serial_18_29_cropped_line.jpg', 'image_serial_48_26_cropped_line.jpg', 'image_serial_14_14_cropped_line.jpg', 'image_serial_32_44_cropped_line.jpg', 'image_serial_136_4_cropped_line.jpg', 'image_serial_19_5_cropped_line.jpg', 'image_serial_12_2_cropped_line.jpg', 'image_serial_16_6_cropped_line.jpg', 'image_serial_26_5_cropped_line.jpg', 'image_serial_130_29_cropped_line.jpg', 'image_serial_46_19_cropped_line.jpg', 'image_serial_132_4_cropped_line.jpg', 'image_serial_18_22_cropped_line.jpg', 'image_serial_128_3_cropped_line.jpg', 'image_serial_51_1_cropped_line.jpg', 'image_serial_51_20_cropped_line.jpg', 'image_serial_29_0_cropped_line.jpg', 'image_serial_23_13_cropped_line.jpg', 'image_serial_39_19_cropped_line.jpg', 'image_serial_34_7_cropped_line.jpg', 'image_serial_48_52_cropped_line.jpg', 'image_serial_43_16_cropped_line.jpg', 'image_serial_32_37_cropped_line.jpg', 'image_serial_42_16_cropped_line.jpg', 'image_serial_32_36_cropped_line.jpg', 'image_serial_51_59_cropped_line.jpg', 'image_serial_52_42_cropped_line.jpg', 'image_serial_53_10_cropped_line.jpg', 'image_serial_12_20_cropped_line.jpg', 'image_serial_136_13_cropped_line.jpg', 'image_serial_128_34_cropped_line.jpg', 'image_serial_131_31_cropped_line.jpg', 'image_serial_50_0_cropped_line.jpg', 'image_serial_38_4_cropped_line.jpg', 'image_serial_137_14_cropped_line.jpg', 'image_serial_26_21_cropped_line.jpg', 'image_serial_31_34_cropped_line.jpg', 'image_serial_21_32_cropped_line.jpg', 'image_serial_50_32_cropped_line.jpg', 'image_serial_21_22_cropped_line.jpg', 'image_serial_15_14_cropped_line.jpg', 'image_serial_43_37_cropped_line.jpg', 'image_serial_34_16_cropped_line.jpg', 'image_serial_130_6_cropped_line.jpg', 'image_serial_136_29_cropped_line.jpg', 'image_serial_21_26_cropped_line.jpg', 'image_serial_29_24_cropped_line.jpg', 'image_serial_46_9_cropped_line.jpg', 'image_serial_133_21_cropped_line.jpg', 'image_serial_130_7_cropped_line.jpg', 'image_serial_131_15_cropped_line.jpg', 'image_serial_16_4_cropped_line.jpg', 'image_serial_46_25_cropped_line.jpg', 'image_serial_36_8_cropped_line.jpg', 'image_serial_45_20_cropped_line.jpg', 'image_serial_131_18_cropped_line.jpg', 'image_serial_23_28_cropped_line.jpg', 'image_serial_47_19_cropped_line.jpg', 'image_serial_43_3_cropped_line.jpg', 'image_serial_17_22_cropped_line.jpg', 'image_serial_17_17_cropped_line.jpg', 'image_serial_15_29_cropped_line.jpg', 'image_serial_51_60_cropped_line.jpg', 'image_serial_34_49_cropped_line.jpg', 'image_serial_133_14_cropped_line.jpg', 'image_serial_49_25_cropped_line.jpg', 'image_serial_46_39_cropped_line.jpg', 'image_serial_46_24_cropped_line.jpg', 'image_serial_48_37_cropped_line.jpg', 'image_serial_54_5_cropped_line.jpg', 'image_serial_35_18_cropped_line.jpg', 'image_serial_40_9_cropped_line.jpg', 'image_serial_12_29_cropped_line.jpg', 'image_serial_129_3_cropped_line.jpg', 'image_serial_51_48_cropped_line.jpg', 'image_serial_36_0_cropped_line.jpg', 'image_serial_49_1_cropped_line.jpg', 'image_serial_34_33_cropped_line.jpg', 'image_serial_34_9_cropped_line.jpg', 'image_serial_36_4_cropped_line.jpg', 'image_serial_16_13_cropped_line.jpg', 'image_serial_131_11_cropped_line.jpg', 'image_serial_39_23_cropped_line.jpg', 'image_serial_29_3_cropped_line.jpg', 'image_serial_128_5_cropped_line.jpg', 'image_serial_51_30_cropped_line.jpg', 'image_serial_32_0_cropped_line.jpg', 'image_serial_54_14_cropped_line.jpg', 'image_serial_137_4_cropped_line.jpg', 'image_serial_14_31_cropped_line.jpg', 'image_serial_19_25_cropped_line.jpg', 'image_serial_134_16_cropped_line.jpg', 'image_serial_25_27_cropped_line.jpg', 'image_serial_48_1_cropped_line.jpg', 'image_serial_47_13_cropped_line.jpg', 'image_serial_52_4_cropped_line.jpg', 'image_serial_50_19_cropped_line.jpg', 'image_serial_29_7_cropped_line.jpg', 'image_serial_34_36_cropped_line.jpg', 'image_serial_132_7_cropped_line.jpg', 'image_serial_21_31_cropped_line.jpg', 'image_serial_16_11_cropped_line.jpg', 'image_serial_131_20_cropped_line.jpg', 'image_serial_42_7_cropped_line.jpg', 'image_serial_48_17_cropped_line.jpg', 'image_serial_135_8_cropped_line.jpg', 'image_serial_23_33_cropped_line.jpg', 'image_serial_37_9_cropped_line.jpg', 'image_serial_51_15_cropped_line.jpg', 'image_serial_30_23_cropped_line.jpg', 'image_serial_128_28_cropped_line.jpg', 'image_serial_130_18_cropped_line.jpg', 'image_serial_39_4_cropped_line.jpg', 'image_serial_129_32_cropped_line.jpg', 'image_serial_12_22_cropped_line.jpg', 'image_serial_32_29_cropped_line.jpg', 'image_serial_35_0_cropped_line.jpg', 'image_serial_42_3_cropped_line.jpg', 'image_serial_47_14_cropped_line.jpg', 'image_serial_29_38_cropped_line.jpg', 'image_serial_22_4_cropped_line.jpg', 'image_serial_53_18_cropped_line.jpg', 'image_serial_23_9_cropped_line.jpg', 'image_serial_30_33_cropped_line.jpg', 'image_serial_19_29_cropped_line.jpg', 'image_serial_43_15_cropped_line.jpg', 'image_serial_18_17_cropped_line.jpg', 'image_serial_17_29_cropped_line.jpg', 'image_serial_32_19_cropped_line.jpg', 'image_serial_14_10_cropped_line.jpg', 'image_serial_52_16_cropped_line.jpg', 'image_serial_24_20_cropped_line.jpg', 'image_serial_27_9_cropped_line.jpg', 'image_serial_49_7_cropped_line.jpg', 'image_serial_17_27_cropped_line.jpg', 'image_serial_13_1_cropped_line.jpg', 'image_serial_29_29_cropped_line.jpg', 'image_serial_14_29_cropped_line.jpg', 'image_serial_51_4_cropped_line.jpg', 'image_serial_31_37_cropped_line.jpg', 'image_serial_54_9_cropped_line.jpg', 'image_serial_49_32_cropped_line.jpg', 'image_serial_41_3_cropped_line.jpg', 'image_serial_45_11_cropped_line.jpg', 'image_serial_25_31_cropped_line.jpg', 'image_serial_38_10_cropped_line.jpg', 'image_serial_37_2_cropped_line.jpg', 'image_serial_21_8_cropped_line.jpg', 'image_serial_52_24_cropped_line.jpg', 'image_serial_37_3_cropped_line.jpg', 'image_serial_17_2_cropped_line.jpg', 'image_serial_22_8_cropped_line.jpg', 'image_serial_49_16_cropped_line.jpg', 'image_serial_41_23_cropped_line.jpg', 'image_serial_136_12_cropped_line.jpg', 'image_serial_42_19_cropped_line.jpg', 'image_serial_23_18_cropped_line.jpg', 'image_serial_43_18_cropped_line.jpg', 'image_serial_24_21_cropped_line.jpg', 'image_serial_32_48_cropped_line.jpg', 'image_serial_35_36_cropped_line.jpg', 'image_serial_14_3_cropped_line.jpg', 'image_serial_43_21_cropped_line.jpg', 'image_serial_137_7_cropped_line.jpg', 'image_serial_128_8_cropped_line.jpg', 'image_serial_16_17_cropped_line.jpg', 'image_serial_25_14_cropped_line.jpg', 'image_serial_22_11_cropped_line.jpg', 'image_serial_35_11_cropped_line.jpg', 'image_serial_47_1_cropped_line.jpg', 'image_serial_37_11_cropped_line.jpg', 'image_serial_25_30_cropped_line.jpg', 'image_serial_52_18_cropped_line.jpg', 'image_serial_39_26_cropped_line.jpg', 'image_serial_53_3_cropped_line.jpg', 'image_serial_15_22_cropped_line.jpg', 'image_serial_40_1_cropped_line.jpg', 'image_serial_26_29_cropped_line.jpg', 'image_serial_27_5_cropped_line.jpg', 'image_serial_25_20_cropped_line.jpg', 'image_serial_50_35_cropped_line.jpg', 'image_serial_36_25_cropped_line.jpg', 'image_serial_133_20_cropped_line.jpg', 'image_serial_47_2_cropped_line.jpg', 'image_serial_40_36_cropped_line.jpg', 'image_serial_16_5_cropped_line.jpg', 'image_serial_40_11_cropped_line.jpg', 'image_serial_41_1_cropped_line.jpg', 'image_serial_22_21_cropped_line.jpg', 'image_serial_51_17_cropped_line.jpg', 'image_serial_27_3_cropped_line.jpg', 'image_serial_44_3_cropped_line.jpg', 'image_serial_17_18_cropped_line.jpg', 'image_serial_54_10_cropped_line.jpg', 'image_serial_54_18_cropped_line.jpg', 'image_serial_31_40_cropped_line.jpg', 'image_serial_32_2_cropped_line.jpg', 'image_serial_17_15_cropped_line.jpg', 'image_serial_30_30_cropped_line.jpg', 'image_serial_51_3_cropped_line.jpg', 'image_serial_134_5_cropped_line.jpg', 'image_serial_34_23_cropped_line.jpg', 'image_serial_45_3_cropped_line.jpg', 'image_serial_35_41_cropped_line.jpg', 'image_serial_38_20_cropped_line.jpg', 'image_serial_16_8_cropped_line.jpg', 'image_serial_13_9_cropped_line.jpg', 'image_serial_132_1_cropped_line.jpg', 'image_serial_32_26_cropped_line.jpg', 'image_serial_19_14_cropped_line.jpg', 'image_serial_29_30_cropped_line.jpg', 'image_serial_12_23_cropped_line.jpg', 'image_serial_29_15_cropped_line.jpg', 'image_serial_135_6_cropped_line.jpg', 'image_serial_16_7_cropped_line.jpg', 'image_serial_38_32_cropped_line.jpg', 'image_serial_38_29_cropped_line.jpg', 'image_serial_14_21_cropped_line.jpg', 'image_serial_47_17_cropped_line.jpg', 'image_serial_21_24_cropped_line.jpg', 'image_serial_51_25_cropped_line.jpg', 'image_serial_12_9_cropped_line.jpg', 'image_serial_27_11_cropped_line.jpg', 'image_serial_31_15_cropped_line.jpg', 'image_serial_24_7_cropped_line.jpg', 'image_serial_27_13_cropped_line.jpg', 'image_serial_35_31_cropped_line.jpg', 'image_serial_35_23_cropped_line.jpg', 'image_serial_129_16_cropped_line.jpg', 'image_serial_39_1_cropped_line.jpg', 'image_serial_38_34_cropped_line.jpg', 'image_serial_43_1_cropped_line.jpg', 'image_serial_39_7_cropped_line.jpg', 'image_serial_51_10_cropped_line.jpg', 'image_serial_18_24_cropped_line.jpg', 'image_serial_16_28_cropped_line.jpg', 'image_serial_35_22_cropped_line.jpg', 'image_serial_21_7_cropped_line.jpg', 'image_serial_14_16_cropped_line.jpg', 'image_serial_136_22_cropped_line.jpg', 'image_serial_32_43_cropped_line.jpg', 'image_serial_136_5_cropped_line.jpg', 'image_serial_48_13_cropped_line.jpg', 'image_serial_49_24_cropped_line.jpg', 'image_serial_34_19_cropped_line.jpg', 'image_serial_30_19_cropped_line.jpg', 'image_serial_45_1_cropped_line.jpg', 'image_serial_46_7_cropped_line.jpg', 'image_serial_40_0_cropped_line.jpg', 'image_serial_49_40_cropped_line.jpg', 'image_serial_134_3_cropped_line.jpg', 'image_serial_128_1_cropped_line.jpg', 'image_serial_46_10_cropped_line.jpg', 'image_serial_49_19_cropped_line.jpg', 'image_serial_21_19_cropped_line.jpg', 'image_serial_136_7_cropped_line.jpg', 'image_serial_128_18_cropped_line.jpg', 'image_serial_13_14_cropped_line.jpg', 'image_serial_29_39_cropped_line.jpg', 'image_serial_48_33_cropped_line.jpg', 'image_serial_50_22_cropped_line.jpg', 'image_serial_135_11_cropped_line.jpg', 'image_serial_46_28_cropped_line.jpg', 'image_serial_42_28_cropped_line.jpg', 'image_serial_36_13_cropped_line.jpg', 'image_serial_32_31_cropped_line.jpg', 'image_serial_50_9_cropped_line.jpg', 'image_serial_32_33_cropped_line.jpg', 'image_serial_48_32_cropped_line.jpg', 'image_serial_49_5_cropped_line.jpg', 'image_serial_52_32_cropped_line.jpg', 'image_serial_29_40_cropped_line.jpg', 'image_serial_25_23_cropped_line.jpg', 'image_serial_21_3_cropped_line.jpg', 'image_serial_29_22_cropped_line.jpg', 'image_serial_19_16_cropped_line.jpg', 'image_serial_43_5_cropped_line.jpg', 'image_serial_37_7_cropped_line.jpg', 'image_serial_133_13_cropped_line.jpg', 'image_serial_15_10_cropped_line.jpg', 'image_serial_131_33_cropped_line.jpg', 'image_serial_25_11_cropped_line.jpg', 'image_serial_132_21_cropped_line.jpg', 'image_serial_36_31_cropped_line.jpg', 'image_serial_24_19_cropped_line.jpg', 'image_serial_21_28_cropped_line.jpg', 'image_serial_35_20_cropped_line.jpg', 'image_serial_34_48_cropped_line.jpg', 'image_serial_44_1_cropped_line.jpg', 'image_serial_50_20_cropped_line.jpg', 'image_serial_51_36_cropped_line.jpg', 'image_serial_131_5_cropped_line.jpg', 'image_serial_51_53_cropped_line.jpg', 'image_serial_25_9_cropped_line.jpg', 'image_serial_29_9_cropped_line.jpg', 'image_serial_51_43_cropped_line.jpg', 'image_serial_36_2_cropped_line.jpg', 'image_serial_32_34_cropped_line.jpg', 'image_serial_49_21_cropped_line.jpg', 'image_serial_130_27_cropped_line.jpg', 'image_serial_13_11_cropped_line.jpg', 'image_serial_51_33_cropped_line.jpg', 'image_serial_49_36_cropped_line.jpg', 'image_serial_40_20_cropped_line.jpg', 'image_serial_52_6_cropped_line.jpg', 'image_serial_40_15_cropped_line.jpg', 'image_serial_32_20_cropped_line.jpg', 'image_serial_45_5_cropped_line.jpg', 'image_serial_26_40_cropped_line.jpg', 'image_serial_32_27_cropped_line.jpg', 'image_serial_39_27_cropped_line.jpg', 'image_serial_41_13_cropped_line.jpg', 'image_serial_133_6_cropped_line.jpg', 'image_serial_35_19_cropped_line.jpg', 'image_serial_134_0_cropped_line.jpg', 'image_serial_23_21_cropped_line.jpg', 'image_serial_31_3_cropped_line.jpg', 'image_serial_128_33_cropped_line.jpg', 'image_serial_47_15_cropped_line.jpg', 'image_serial_54_21_cropped_line.jpg', 'image_serial_18_1_cropped_line.jpg', 'image_serial_16_0_cropped_line.jpg', 'image_serial_32_45_cropped_line.jpg', 'image_serial_39_12_cropped_line.jpg', 'image_serial_32_8_cropped_line.jpg', 'image_serial_31_26_cropped_line.jpg', 'image_serial_51_24_cropped_line.jpg', 'image_serial_34_25_cropped_line.jpg', 'image_serial_32_46_cropped_line.jpg', 'image_serial_48_2_cropped_line.jpg', 'image_serial_52_7_cropped_line.jpg', 'image_serial_53_15_cropped_line.jpg', 'image_serial_26_38_cropped_line.jpg', 'image_serial_48_7_cropped_line.jpg', 'image_serial_42_20_cropped_line.jpg', 'image_serial_18_14_cropped_line.jpg', 'image_serial_51_35_cropped_line.jpg', 'image_serial_48_6_cropped_line.jpg', 'image_serial_132_20_cropped_line.jpg', 'image_serial_15_24_cropped_line.jpg', 'image_serial_133_18_cropped_line.jpg', 'image_serial_24_1_cropped_line.jpg', 'image_serial_26_19_cropped_line.jpg', 'image_serial_31_21_cropped_line.jpg', 'image_serial_38_5_cropped_line.jpg', 'image_serial_136_9_cropped_line.jpg', 'image_serial_134_7_cropped_line.jpg', 'image_serial_45_18_cropped_line.jpg', 'image_serial_31_20_cropped_line.jpg', 'image_serial_26_13_cropped_line.jpg', 'image_serial_45_22_cropped_line.jpg', 'image_serial_50_39_cropped_line.jpg', 'image_serial_36_28_cropped_line.jpg', 'image_serial_15_30_cropped_line.jpg', 'image_serial_22_16_cropped_line.jpg', 'image_serial_25_33_cropped_line.jpg', 'image_serial_31_11_cropped_line.jpg', 'image_serial_53_17_cropped_line.jpg', 'image_serial_52_10_cropped_line.jpg', 'image_serial_132_12_cropped_line.jpg', 'image_serial_51_7_cropped_line.jpg', 'image_serial_48_29_cropped_line.jpg', 'image_serial_46_16_cropped_line.jpg', 'image_serial_39_33_cropped_line.jpg', 'image_serial_35_9_cropped_line.jpg', 'image_serial_44_16_cropped_line.jpg', 'image_serial_51_23_cropped_line.jpg', 'image_serial_42_15_cropped_line.jpg', 'image_serial_21_25_cropped_line.jpg', 'image_serial_133_4_cropped_line.jpg', 'image_serial_38_26_cropped_line.jpg', 'image_serial_15_27_cropped_line.jpg', 'image_serial_40_27_cropped_line.jpg', 'image_serial_30_8_cropped_line.jpg', 'image_serial_42_31_cropped_line.jpg', 'image_serial_23_6_cropped_line.jpg', 'image_serial_18_8_cropped_line.jpg', 'image_serial_52_3_cropped_line.jpg', 'image_serial_48_8_cropped_line.jpg', 'image_serial_48_4_cropped_line.jpg', 'image_serial_133_2_cropped_line.jpg', 'image_serial_24_2_cropped_line.jpg', 'image_serial_32_13_cropped_line.jpg', 'image_serial_26_4_cropped_line.jpg', 'image_serial_34_17_cropped_line.jpg', 'image_serial_129_25_cropped_line.jpg', 'image_serial_41_9_cropped_line.jpg', 'image_serial_54_16_cropped_line.jpg', 'image_serial_22_7_cropped_line.jpg', 'image_serial_135_14_cropped_line.jpg', 'image_serial_130_21_cropped_line.jpg', 'image_serial_46_5_cropped_line.jpg', 'image_serial_37_8_cropped_line.jpg', 'image_serial_133_15_cropped_line.jpg', 'image_serial_29_17_cropped_line.jpg', 'image_serial_39_22_cropped_line.jpg', 'image_serial_22_10_cropped_line.jpg', 'image_serial_128_10_cropped_line.jpg', 'image_serial_45_13_cropped_line.jpg', 'image_serial_19_27_cropped_line.jpg', 'image_serial_14_30_cropped_line.jpg', 'image_serial_132_27_cropped_line.jpg', 'image_serial_26_43_cropped_line.jpg', 'image_serial_49_18_cropped_line.jpg', 'image_serial_30_35_cropped_line.jpg', 'image_serial_16_9_cropped_line.jpg', 'image_serial_29_32_cropped_line.jpg', 'image_serial_132_11_cropped_line.jpg', 'image_serial_129_19_cropped_line.jpg', 'image_serial_30_0_cropped_line.jpg', 'image_serial_49_28_cropped_line.jpg', 'image_serial_34_2_cropped_line.jpg', 'image_serial_129_20_cropped_line.jpg', 'image_serial_137_10_cropped_line.jpg', 'image_serial_27_4_cropped_line.jpg', 'image_serial_17_5_cropped_line.jpg', 'image_serial_132_13_cropped_line.jpg', 'image_serial_130_23_cropped_line.jpg', 'image_serial_26_20_cropped_line.jpg', 'image_serial_17_7_cropped_line.jpg', 'image_serial_131_0_cropped_line.jpg', 'image_serial_35_15_cropped_line.jpg', 'image_serial_131_25_cropped_line.jpg', 'image_serial_34_18_cropped_line.jpg', 'image_serial_51_12_cropped_line.jpg', 'image_serial_51_40_cropped_line.jpg', 'image_serial_131_7_cropped_line.jpg', 'image_serial_39_25_cropped_line.jpg', 'image_serial_39_36_cropped_line.jpg', 'image_serial_31_25_cropped_line.jpg', 'image_serial_50_18_cropped_line.jpg', 'image_serial_45_10_cropped_line.jpg', 'image_serial_39_15_cropped_line.jpg', 'image_serial_51_18_cropped_line.jpg', 'image_serial_133_7_cropped_line.jpg', 'image_serial_40_28_cropped_line.jpg', 'image_serial_17_1_cropped_line.jpg', 'image_serial_34_15_cropped_line.jpg', 'image_serial_19_12_cropped_line.jpg', 'image_serial_133_11_cropped_line.jpg', 'image_serial_134_8_cropped_line.jpg', 'image_serial_17_26_cropped_line.jpg', 'image_serial_52_1_cropped_line.jpg', 'image_serial_38_15_cropped_line.jpg', 'image_serial_39_29_cropped_line.jpg', 'image_serial_50_2_cropped_line.jpg', 'image_serial_23_25_cropped_line.jpg', 'image_serial_50_10_cropped_line.jpg', 'image_serial_24_16_cropped_line.jpg', 'image_serial_26_26_cropped_line.jpg', 'image_serial_131_14_cropped_line.jpg', 'image_serial_42_21_cropped_line.jpg', 'image_serial_136_21_cropped_line.jpg', 'image_serial_13_3_cropped_line.jpg', 'image_serial_43_26_cropped_line.jpg', 'image_serial_17_21_cropped_line.jpg', 'image_serial_129_7_cropped_line.jpg', 'image_serial_31_13_cropped_line.jpg', 'image_serial_47_4_cropped_line.jpg', 'image_serial_25_1_cropped_line.jpg', 'image_serial_24_27_cropped_line.jpg', 'image_serial_42_30_cropped_line.jpg', 'image_serial_135_15_cropped_line.jpg', 'image_serial_29_8_cropped_line.jpg', 'image_serial_54_1_cropped_line.jpg', 'image_serial_51_47_cropped_line.jpg', 'image_serial_38_2_cropped_line.jpg', 'image_serial_52_13_cropped_line.jpg', 'image_serial_23_5_cropped_line.jpg', 'image_serial_128_9_cropped_line.jpg', 'image_serial_50_36_cropped_line.jpg', 'image_serial_46_13_cropped_line.jpg', 'image_serial_136_1_cropped_line.jpg', 'image_serial_49_37_cropped_line.jpg', 'image_serial_30_14_cropped_line.jpg', 'image_serial_51_51_cropped_line.jpg', 'image_serial_16_32_cropped_line.jpg', 'image_serial_14_18_cropped_line.jpg', 'image_serial_26_22_cropped_line.jpg', 'image_serial_47_7_cropped_line.jpg', 'image_serial_32_41_cropped_line.jpg', 'image_serial_16_16_cropped_line.jpg', 'image_serial_52_34_cropped_line.jpg', 'image_serial_52_17_cropped_line.jpg', 'image_serial_39_6_cropped_line.jpg', 'image_serial_47_22_cropped_line.jpg', 'image_serial_31_8_cropped_line.jpg', 'image_serial_39_5_cropped_line.jpg', 'image_serial_22_2_cropped_line.jpg', 'image_serial_131_35_cropped_line.jpg', 'image_serial_42_12_cropped_line.jpg', 'image_serial_51_34_cropped_line.jpg', 'image_serial_43_40_cropped_line.jpg', 'image_serial_26_30_cropped_line.jpg', 'image_serial_24_23_cropped_line.jpg', 'image_serial_128_23_cropped_line.jpg', 'image_serial_35_27_cropped_line.jpg', 'image_serial_136_3_cropped_line.jpg', 'image_serial_36_12_cropped_line.jpg', 'image_serial_12_14_cropped_line.jpg', 'image_serial_13_2_cropped_line.jpg', 'image_serial_23_15_cropped_line.jpg', 'image_serial_12_28_cropped_line.jpg', 'image_serial_23_22_cropped_line.jpg', 'image_serial_45_0_cropped_line.jpg', 'image_serial_35_35_cropped_line.jpg', 'image_serial_30_10_cropped_line.jpg', 'image_serial_12_25_cropped_line.jpg', 'image_serial_34_45_cropped_line.jpg', 'image_serial_45_19_cropped_line.jpg', 'image_serial_15_15_cropped_line.jpg', 'image_serial_35_7_cropped_line.jpg', 'image_serial_50_33_cropped_line.jpg', 'image_serial_134_14_cropped_line.jpg', 'image_serial_38_17_cropped_line.jpg', 'image_serial_26_9_cropped_line.jpg', 'image_serial_130_1_cropped_line.jpg', 'image_serial_129_33_cropped_line.jpg', 'image_serial_44_12_cropped_line.jpg', 'image_serial_12_26_cropped_line.jpg', 'image_serial_34_4_cropped_line.jpg', 'image_serial_12_18_cropped_line.jpg', 'image_serial_39_18_cropped_line.jpg', 'image_serial_50_27_cropped_line.jpg', 'image_serial_40_6_cropped_line.jpg', 'image_serial_36_29_cropped_line.jpg', 'image_serial_25_4_cropped_line.jpg', 'image_serial_52_26_cropped_line.jpg', 'image_serial_40_12_cropped_line.jpg', 'image_serial_130_24_cropped_line.jpg', 'image_serial_49_10_cropped_line.jpg', 'image_serial_14_8_cropped_line.jpg', 'image_serial_131_16_cropped_line.jpg', 'image_serial_23_27_cropped_line.jpg', 'image_serial_34_10_cropped_line.jpg', 'image_serial_133_9_cropped_line.jpg', 'image_serial_36_18_cropped_line.jpg', 'image_serial_46_14_cropped_line.jpg', 'image_serial_18_28_cropped_line.jpg', 'image_serial_54_15_cropped_line.jpg', 'image_serial_47_9_cropped_line.jpg', 'image_serial_36_6_cropped_line.jpg', 'image_serial_25_15_cropped_line.jpg', 'image_serial_14_25_cropped_line.jpg', 'image_serial_34_3_cropped_line.jpg', 'image_serial_54_8_cropped_line.jpg', 'image_serial_47_12_cropped_line.jpg', 'image_serial_134_18_cropped_line.jpg', 'image_serial_35_1_cropped_line.jpg', 'image_serial_32_14_cropped_line.jpg', 'image_serial_12_10_cropped_line.jpg', 'image_serial_47_20_cropped_line.jpg', 'image_serial_36_9_cropped_line.jpg', 'image_serial_21_6_cropped_line.jpg', 'image_serial_26_23_cropped_line.jpg', 'image_serial_41_6_cropped_line.jpg', 'image_serial_46_17_cropped_line.jpg', 'image_serial_52_37_cropped_line.jpg', 'image_serial_49_14_cropped_line.jpg', 'image_serial_36_21_cropped_line.jpg', 'image_serial_38_22_cropped_line.jpg', 'image_serial_34_47_cropped_line.jpg', 'image_serial_18_9_cropped_line.jpg', 'image_serial_36_3_cropped_line.jpg', 'image_serial_14_7_cropped_line.jpg', 'image_serial_26_37_cropped_line.jpg', 'image_serial_46_8_cropped_line.jpg', 'image_serial_50_21_cropped_line.jpg', 'image_serial_53_11_cropped_line.jpg', 'image_serial_41_17_cropped_line.jpg', 'image_serial_25_26_cropped_line.jpg', 'image_serial_131_6_cropped_line.jpg', 'image_serial_48_49_cropped_line.jpg', 'image_serial_47_0_cropped_line.jpg', 'image_serial_38_6_cropped_line.jpg', 'image_serial_19_10_cropped_line.jpg', 'image_serial_32_30_cropped_line.jpg', 'image_serial_19_20_cropped_line.jpg', 'image_serial_129_2_cropped_line.jpg', 'image_serial_38_8_cropped_line.jpg', 'image_serial_27_7_cropped_line.jpg', 'image_serial_46_43_cropped_line.jpg', 'image_serial_39_34_cropped_line.jpg', 'image_serial_128_15_cropped_line.jpg', 'image_serial_53_6_cropped_line.jpg', 'image_serial_15_26_cropped_line.jpg', 'image_serial_47_10_cropped_line.jpg', 'image_serial_48_24_cropped_line.jpg', 'image_serial_35_24_cropped_line.jpg', 'image_serial_129_6_cropped_line.jpg', 'image_serial_30_16_cropped_line.jpg', 'image_serial_136_19_cropped_line.jpg', 'image_serial_131_22_cropped_line.jpg', 'image_serial_43_22_cropped_line.jpg', 'image_serial_18_12_cropped_line.jpg', 'image_serial_135_10_cropped_line.jpg', 'image_serial_31_0_cropped_line.jpg', 'image_serial_31_4_cropped_line.jpg', 'image_serial_29_14_cropped_line.jpg', 'image_serial_48_16_cropped_line.jpg', 'image_serial_25_13_cropped_line.jpg', 'image_serial_36_17_cropped_line.jpg', 'image_serial_130_16_cropped_line.jpg', 'image_serial_51_52_cropped_line.jpg', 'image_serial_21_1_cropped_line.jpg', 'image_serial_129_5_cropped_line.jpg', 'image_serial_43_31_cropped_line.jpg', 'image_serial_16_14_cropped_line.jpg', 'image_serial_37_16_cropped_line.jpg', 'image_serial_17_8_cropped_line.jpg', 'image_serial_29_33_cropped_line.jpg', 'image_serial_130_12_cropped_line.jpg', 'image_serial_135_17_cropped_line.jpg', 'image_serial_131_27_cropped_line.jpg', 'image_serial_21_30_cropped_line.jpg', 'image_serial_16_1_cropped_line.jpg', 'image_serial_45_4_cropped_line.jpg', 'image_serial_19_22_cropped_line.jpg', 'image_serial_54_12_cropped_line.jpg', 'image_serial_129_1_cropped_line.jpg', 'image_serial_135_24_cropped_line.jpg', 'image_serial_36_14_cropped_line.jpg', 'image_serial_134_23_cropped_line.jpg', 'image_serial_137_9_cropped_line.jpg', 'image_serial_43_35_cropped_line.jpg', 'image_serial_42_4_cropped_line.jpg', 'image_serial_36_26_cropped_line.jpg', 'image_serial_13_0_cropped_line.jpg', 'image_serial_38_3_cropped_line.jpg', 'image_serial_31_43_cropped_line.jpg', 'image_serial_26_24_cropped_line.jpg', 'image_serial_48_45_cropped_line.jpg', 'image_serial_26_39_cropped_line.jpg', 'image_serial_16_27_cropped_line.jpg', 'image_serial_51_50_cropped_line.jpg', 'image_serial_50_40_cropped_line.jpg', 'image_serial_19_17_cropped_line.jpg', 'image_serial_18_0_cropped_line.jpg', 'image_serial_26_15_cropped_line.jpg', 'image_serial_16_2_cropped_line.jpg', 'image_serial_52_33_cropped_line.jpg', 'image_serial_23_4_cropped_line.jpg', 'image_serial_24_0_cropped_line.jpg', 'image_serial_132_14_cropped_line.jpg', 'image_serial_42_10_cropped_line.jpg', 'image_serial_21_17_cropped_line.jpg', 'image_serial_34_32_cropped_line.jpg', 'image_serial_39_10_cropped_line.jpg', 'image_serial_52_5_cropped_line.jpg', 'image_serial_32_21_cropped_line.jpg', 'image_serial_129_10_cropped_line.jpg', 'image_serial_131_8_cropped_line.jpg', 'image_serial_128_13_cropped_line.jpg', 'image_serial_43_17_cropped_line.jpg', 'image_serial_13_5_cropped_line.jpg', 'image_serial_129_13_cropped_line.jpg', 'image_serial_51_58_cropped_line.jpg', 'image_serial_131_24_cropped_line.jpg', 'image_serial_29_4_cropped_line.jpg', 'image_serial_24_17_cropped_line.jpg', 'image_serial_40_33_cropped_line.jpg', 'image_serial_21_5_cropped_line.jpg', 'image_serial_36_23_cropped_line.jpg', 'image_serial_128_35_cropped_line.jpg', 'image_serial_132_24_cropped_line.jpg', 'image_serial_49_27_cropped_line.jpg', 'image_serial_43_2_cropped_line.jpg', 'image_serial_18_11_cropped_line.jpg', 'image_serial_31_31_cropped_line.jpg', 'image_serial_14_0_cropped_line.jpg', 'image_serial_40_18_cropped_line.jpg', 'image_serial_50_6_cropped_line.jpg', 'image_serial_132_19_cropped_line.jpg', 'image_serial_32_49_cropped_line.jpg', 'image_serial_26_6_cropped_line.jpg', 'image_serial_47_8_cropped_line.jpg', 'image_serial_52_31_cropped_line.jpg', 'image_serial_135_19_cropped_line.jpg', 'image_serial_13_7_cropped_line.jpg', 'image_serial_40_34_cropped_line.jpg', 'image_serial_42_22_cropped_line.jpg', 'image_serial_48_15_cropped_line.jpg', 'image_serial_21_11_cropped_line.jpg', 'image_serial_26_17_cropped_line.jpg', 'image_serial_136_0_cropped_line.jpg', 'image_serial_133_0_cropped_line.jpg', 'image_serial_36_16_cropped_line.jpg', 'image_serial_38_11_cropped_line.jpg', 'image_serial_133_16_cropped_line.jpg', 'image_serial_31_16_cropped_line.jpg', 'image_serial_31_32_cropped_line.jpg', 'image_serial_15_25_cropped_line.jpg', 'image_serial_131_21_cropped_line.jpg', 'image_serial_19_6_cropped_line.jpg', 'image_serial_34_14_cropped_line.jpg', 'image_serial_134_21_cropped_line.jpg', 'image_serial_54_11_cropped_line.jpg', 'image_serial_51_6_cropped_line.jpg', 'image_serial_15_12_cropped_line.jpg', 'image_serial_29_27_cropped_line.jpg', 'image_serial_130_26_cropped_line.jpg', 'image_serial_42_27_cropped_line.jpg', 'image_serial_31_5_cropped_line.jpg', 'image_serial_132_25_cropped_line.jpg', 'image_serial_38_12_cropped_line.jpg', 'image_serial_16_26_cropped_line.jpg', 'image_serial_34_13_cropped_line.jpg', 'image_serial_30_5_cropped_line.jpg', 'image_serial_42_14_cropped_line.jpg', 'image_serial_23_30_cropped_line.jpg', 'image_serial_44_13_cropped_line.jpg', 'image_serial_34_43_cropped_line.jpg', 'image_serial_12_17_cropped_line.jpg', 'image_serial_52_2_cropped_line.jpg', 'image_serial_40_19_cropped_line.jpg', 'image_serial_22_23_cropped_line.jpg', 'image_serial_130_30_cropped_line.jpg', 'image_serial_128_21_cropped_line.jpg', 'image_serial_31_38_cropped_line.jpg', 'image_serial_38_25_cropped_line.jpg', 'image_serial_23_2_cropped_line.jpg', 'image_serial_40_3_cropped_line.jpg', 'image_serial_47_16_cropped_line.jpg', 'image_serial_35_21_cropped_line.jpg', 'image_serial_35_5_cropped_line.jpg', 'image_serial_128_12_cropped_line.jpg', 'image_serial_30_25_cropped_line.jpg', 'image_serial_43_32_cropped_line.jpg', 'image_serial_49_0_cropped_line.jpg', 'image_serial_50_31_cropped_line.jpg', 'image_serial_32_15_cropped_line.jpg', 'image_serial_46_6_cropped_line.jpg', 'image_serial_136_8_cropped_line.jpg', 'image_serial_26_34_cropped_line.jpg', 'image_serial_12_4_cropped_line.jpg', 'image_serial_49_26_cropped_line.jpg', 'image_serial_18_21_cropped_line.jpg', 'image_serial_35_12_cropped_line.jpg', 'image_serial_41_0_cropped_line.jpg', 'image_serial_25_24_cropped_line.jpg', 'image_serial_32_18_cropped_line.jpg', 'image_serial_39_20_cropped_line.jpg', 'image_serial_12_3_cropped_line.jpg', 'image_serial_51_41_cropped_line.jpg', 'image_serial_24_4_cropped_line.jpg', 'image_serial_19_0_cropped_line.jpg', 'image_serial_21_23_cropped_line.jpg', 'image_serial_43_33_cropped_line.jpg', 'image_serial_15_2_cropped_line.jpg', 'image_serial_51_19_cropped_line.jpg', 'image_serial_128_4_cropped_line.jpg', 'image_serial_132_5_cropped_line.jpg', 'image_serial_24_3_cropped_line.jpg', 'image_serial_131_4_cropped_line.jpg', 'image_serial_15_19_cropped_line.jpg', 'image_serial_26_10_cropped_line.jpg', 'image_serial_48_30_cropped_line.jpg', 'image_serial_129_36_cropped_line.jpg', 'image_serial_35_30_cropped_line.jpg', 'image_serial_40_24_cropped_line.jpg', 'image_serial_25_3_cropped_line.jpg', 'image_serial_40_39_cropped_line.jpg', 'image_serial_137_15_cropped_line.jpg', 'image_serial_48_10_cropped_line.jpg', 'image_serial_51_22_cropped_line.jpg', 'image_serial_48_5_cropped_line.jpg', 'image_serial_27_10_cropped_line.jpg', 'image_serial_51_37_cropped_line.jpg', 'image_serial_43_4_cropped_line.jpg', 'image_serial_51_28_cropped_line.jpg', 'image_serial_13_4_cropped_line.jpg', 'image_serial_38_23_cropped_line.jpg', 'image_serial_17_23_cropped_line.jpg', 'image_serial_131_3_cropped_line.jpg', 'image_serial_35_13_cropped_line.jpg', 'image_serial_32_25_cropped_line.jpg', 'image_serial_29_6_cropped_line.jpg', 'image_serial_34_40_cropped_line.jpg', 'image_serial_44_7_cropped_line.jpg', 'image_serial_12_15_cropped_line.jpg', 'image_serial_26_33_cropped_line.jpg', 'image_serial_43_13_cropped_line.jpg', 'image_serial_24_15_cropped_line.jpg', 'image_serial_29_12_cropped_line.jpg', 'image_serial_136_27_cropped_line.jpg', 'image_serial_34_8_cropped_line.jpg', 'image_serial_43_38_cropped_line.jpg', 'image_serial_135_22_cropped_line.jpg', 'image_serial_50_5_cropped_line.jpg', 'image_serial_130_3_cropped_line.jpg', 'image_serial_53_5_cropped_line.jpg', 'image_serial_36_19_cropped_line.jpg', 'image_serial_25_28_cropped_line.jpg', 'image_serial_137_1_cropped_line.jpg', 'image_serial_136_23_cropped_line.jpg', 'image_serial_34_37_cropped_line.jpg', 'image_serial_42_13_cropped_line.jpg', 'image_serial_45_7_cropped_line.jpg', 'image_serial_38_30_cropped_line.jpg', 'image_serial_129_0_cropped_line.jpg', 'image_serial_41_22_cropped_line.jpg', 'image_serial_50_4_cropped_line.jpg', 'image_serial_47_23_cropped_line.jpg', 'image_serial_132_10_cropped_line.jpg', 'image_serial_39_11_cropped_line.jpg', 'image_serial_137_12_cropped_line.jpg', 'image_serial_25_34_cropped_line.jpg', 'image_serial_24_11_cropped_line.jpg', 'image_serial_133_12_cropped_line.jpg', 'image_serial_14_32_cropped_line.jpg', 'image_serial_23_20_cropped_line.jpg', 'image_serial_129_23_cropped_line.jpg', 'image_serial_134_6_cropped_line.jpg', 'image_serial_43_10_cropped_line.jpg', 'image_serial_34_27_cropped_line.jpg', 'image_serial_14_1_cropped_line.jpg', 'image_serial_49_12_cropped_line.jpg', 'image_serial_12_24_cropped_line.jpg', 'image_serial_49_35_cropped_line.jpg', 'image_serial_41_4_cropped_line.jpg', 'image_serial_133_5_cropped_line.jpg', 'image_serial_48_23_cropped_line.jpg', 'image_serial_32_6_cropped_line.jpg', 'image_serial_131_26_cropped_line.jpg', 'image_serial_130_4_cropped_line.jpg', 'image_serial_26_42_cropped_line.jpg', 'image_serial_16_31_cropped_line.jpg', 'image_serial_42_5_cropped_line.jpg', 'image_serial_19_13_cropped_line.jpg', 'image_serial_13_6_cropped_line.jpg', 'image_serial_128_7_cropped_line.jpg', 'image_serial_37_4_cropped_line.jpg', 'image_serial_32_24_cropped_line.jpg', 'image_serial_44_14_cropped_line.jpg', 'image_serial_26_41_cropped_line.jpg', 'image_serial_41_8_cropped_line.jpg', 'image_serial_129_21_cropped_line.jpg', 'image_serial_50_34_cropped_line.jpg', 'image_serial_45_23_cropped_line.jpg', 'image_serial_44_11_cropped_line.jpg', 'image_serial_48_21_cropped_line.jpg', 'image_serial_40_23_cropped_line.jpg', 'image_serial_135_0_cropped_line.jpg', 'image_serial_22_24_cropped_line.jpg', 'image_serial_34_1_cropped_line.jpg', 'image_serial_15_23_cropped_line.jpg', 'image_serial_18_27_cropped_line.jpg', 'image_serial_29_10_cropped_line.jpg', 'image_serial_129_29_cropped_line.jpg', 'image_serial_21_20_cropped_line.jpg', 'image_serial_41_19_cropped_line.jpg', 'image_serial_18_7_cropped_line.jpg', 'image_serial_30_6_cropped_line.jpg', 'image_serial_30_20_cropped_line.jpg', 'image_serial_31_6_cropped_line.jpg', 'image_serial_50_12_cropped_line.jpg', 'image_serial_52_36_cropped_line.jpg', 'image_serial_54_0_cropped_line.jpg', 'image_serial_37_0_cropped_line.jpg', 'image_serial_136_17_cropped_line.jpg', 'image_serial_128_26_cropped_line.jpg', 'image_serial_137_16_cropped_line.jpg', 'image_serial_22_12_cropped_line.jpg', 'image_serial_129_18_cropped_line.jpg', 'image_serial_29_16_cropped_line.jpg', 'image_serial_51_55_cropped_line.jpg', 'image_serial_46_42_cropped_line.jpg', 'image_serial_46_38_cropped_line.jpg', 'image_serial_130_9_cropped_line.jpg', 'image_serial_41_14_cropped_line.jpg', 'image_serial_50_17_cropped_line.jpg', 'image_serial_32_17_cropped_line.jpg', 'image_serial_49_34_cropped_line.jpg', 'image_serial_14_22_cropped_line.jpg', 'image_serial_51_2_cropped_line.jpg', 'image_serial_46_0_cropped_line.jpg', 'image_serial_30_3_cropped_line.jpg', 'image_serial_34_31_cropped_line.jpg', 'image_serial_12_13_cropped_line.jpg', 'image_serial_51_5_cropped_line.jpg', 'image_serial_130_14_cropped_line.jpg', 'image_serial_131_10_cropped_line.jpg', 'image_serial_19_23_cropped_line.jpg', 'image_serial_29_1_cropped_line.jpg', 'image_serial_51_62_cropped_line.jpg', 'image_serial_51_11_cropped_line.jpg', 'image_serial_14_24_cropped_line.jpg', 'image_serial_12_21_cropped_line.jpg', 'image_serial_41_15_cropped_line.jpg', 'image_serial_16_15_cropped_line.jpg', 'image_serial_30_7_cropped_line.jpg', 'image_serial_40_37_cropped_line.jpg', 'image_serial_134_27_cropped_line.jpg', 'image_serial_12_5_cropped_line.jpg', 'image_serial_43_7_cropped_line.jpg', 'image_serial_43_30_cropped_line.jpg', 'image_serial_18_3_cropped_line.jpg', 'image_serial_34_30_cropped_line.jpg', 'image_serial_26_11_cropped_line.jpg', 'image_serial_32_12_cropped_line.jpg', 'image_serial_35_8_cropped_line.jpg', 'image_serial_36_5_cropped_line.jpg', 'image_serial_51_54_cropped_line.jpg', 'image_serial_48_9_cropped_line.jpg', 'image_serial_32_16_cropped_line.jpg', 'image_serial_29_20_cropped_line.jpg', 'image_serial_31_10_cropped_line.jpg', 'image_serial_40_38_cropped_line.jpg', 'image_serial_129_26_cropped_line.jpg', 'image_serial_39_9_cropped_line.jpg', 'image_serial_48_51_cropped_line.jpg', 'image_serial_16_22_cropped_line.jpg', 'image_serial_21_4_cropped_line.jpg', 'image_serial_25_19_cropped_line.jpg', 'image_serial_48_34_cropped_line.jpg', 'image_serial_47_18_cropped_line.jpg', 'image_serial_31_24_cropped_line.jpg', 'image_serial_25_0_cropped_line.jpg', 'image_serial_42_0_cropped_line.jpg', 'image_serial_136_16_cropped_line.jpg', 'image_serial_133_22_cropped_line.jpg', 'image_serial_25_32_cropped_line.jpg', 'image_serial_22_5_cropped_line.jpg', 'image_serial_51_27_cropped_line.jpg', 'image_serial_34_26_cropped_line.jpg', 'image_serial_25_2_cropped_line.jpg', 'image_serial_23_19_cropped_line.jpg', 'image_serial_24_26_cropped_line.jpg', 'image_serial_50_15_cropped_line.jpg', 'image_serial_34_29_cropped_line.jpg', 'image_serial_48_18_cropped_line.jpg', 'image_serial_19_3_cropped_line.jpg', 'image_serial_50_24_cropped_line.jpg', 'image_serial_52_8_cropped_line.jpg', 'image_serial_35_14_cropped_line.jpg', 'image_serial_49_9_cropped_line.jpg', 'image_serial_131_13_cropped_line.jpg', 'image_serial_23_16_cropped_line.jpg', 'image_serial_19_15_cropped_line.jpg', 'image_serial_49_22_cropped_line.jpg', 'image_serial_30_9_cropped_line.jpg', 'image_serial_14_9_cropped_line.jpg', 'image_serial_15_13_cropped_line.jpg', 'image_serial_35_38_cropped_line.jpg', 'image_serial_48_43_cropped_line.jpg', 'image_serial_25_8_cropped_line.jpg', 'image_serial_48_19_cropped_line.jpg', 'image_serial_22_26_cropped_line.jpg', 'image_serial_135_20_cropped_line.jpg', 'image_serial_15_8_cropped_line.jpg', 'image_serial_27_8_cropped_line.jpg', 'image_serial_30_34_cropped_line.jpg', 'image_serial_24_5_cropped_line.jpg', 'image_serial_38_21_cropped_line.jpg', 'image_serial_31_9_cropped_line.jpg', 'image_serial_29_23_cropped_line.jpg', 'image_serial_128_24_cropped_line.jpg', 'image_serial_38_24_cropped_line.jpg', 'image_serial_40_5_cropped_line.jpg', 'image_serial_130_20_cropped_line.jpg', 'image_serial_35_39_cropped_line.jpg', 'image_serial_34_20_cropped_line.jpg', 'image_serial_52_41_cropped_line.jpg', 'image_serial_32_35_cropped_line.jpg', 'image_serial_23_11_cropped_line.jpg', 'image_serial_133_8_cropped_line.jpg', 'image_serial_52_39_cropped_line.jpg', 'image_serial_29_36_cropped_line.jpg', 'image_serial_135_9_cropped_line.jpg', 'image_serial_46_37_cropped_line.jpg', 'image_serial_53_9_cropped_line.jpg', 'image_serial_22_18_cropped_line.jpg', 'image_serial_35_33_cropped_line.jpg', 'image_serial_35_10_cropped_line.jpg', 'image_serial_30_21_cropped_line.jpg', 'image_serial_18_15_cropped_line.jpg', 'image_serial_48_11_cropped_line.jpg', 'image_serial_32_39_cropped_line.jpg', 'image_serial_129_28_cropped_line.jpg', 'image_serial_32_28_cropped_line.jpg', 'image_serial_29_41_cropped_line.jpg', 'image_serial_44_8_cropped_line.jpg', 'image_serial_24_13_cropped_line.jpg', 'image_serial_134_4_cropped_line.jpg', 'image_serial_19_4_cropped_line.jpg', 'image_serial_44_0_cropped_line.jpg', 'image_serial_29_2_cropped_line.jpg', 'image_serial_38_27_cropped_line.jpg', 'image_serial_40_40_cropped_line.jpg', 'image_serial_15_0_cropped_line.jpg', 'image_serial_40_29_cropped_line.jpg', 'image_serial_36_11_cropped_line.jpg', 'image_serial_48_28_cropped_line.jpg', 'image_serial_34_21_cropped_line.jpg', 'image_serial_128_32_cropped_line.jpg', 'image_serial_132_9_cropped_line.jpg', 'image_serial_43_6_cropped_line.jpg', 'image_serial_35_25_cropped_line.jpg', 'image_serial_48_36_cropped_line.jpg', 'image_serial_39_3_cropped_line.jpg', 'image_serial_52_23_cropped_line.jpg', 'image_serial_14_19_cropped_line.jpg', 'image_serial_30_28_cropped_line.jpg', 'image_serial_130_25_cropped_line.jpg', 'image_serial_46_40_cropped_line.jpg', 'image_serial_132_16_cropped_line.jpg', 'image_serial_13_13_cropped_line.jpg', 'image_serial_130_33_cropped_line.jpg', 'image_serial_30_17_cropped_line.jpg', 'image_serial_31_35_cropped_line.jpg', 'image_serial_26_2_cropped_line.jpg', 'image_serial_131_12_cropped_line.jpg', 'image_serial_132_17_cropped_line.jpg', 'image_serial_31_41_cropped_line.jpg', 'image_serial_37_6_cropped_line.jpg', 'image_serial_14_13_cropped_line.jpg', 'image_serial_42_18_cropped_line.jpg', 'image_serial_19_21_cropped_line.jpg', 'image_serial_25_10_cropped_line.jpg', 'image_serial_129_22_cropped_line.jpg', 'image_serial_36_15_cropped_line.jpg', 'image_serial_50_29_cropped_line.jpg', 'image_serial_26_36_cropped_line.jpg', 'image_serial_21_16_cropped_line.jpg', 'image_serial_23_17_cropped_line.jpg', 'image_serial_15_20_cropped_line.jpg', 'image_serial_29_35_cropped_line.jpg', 'image_serial_53_2_cropped_line.jpg', 'image_serial_17_14_cropped_line.jpg', 'image_serial_50_30_cropped_line.jpg', 'image_serial_15_11_cropped_line.jpg', 'image_serial_43_20_cropped_line.jpg', 'image_serial_128_20_cropped_line.jpg', 'image_serial_32_32_cropped_line.jpg', 'image_serial_137_8_cropped_line.jpg', 'image_serial_52_28_cropped_line.jpg', 'image_serial_38_13_cropped_line.jpg', 'image_serial_39_32_cropped_line.jpg', 'image_serial_134_13_cropped_line.jpg', 'image_serial_52_22_cropped_line.jpg', 'image_serial_40_26_cropped_line.jpg', 'image_serial_23_14_cropped_line.jpg', 'image_serial_51_29_cropped_line.jpg', 'image_serial_48_44_cropped_line.jpg', 'image_serial_19_18_cropped_line.jpg', 'image_serial_54_6_cropped_line.jpg', 'image_serial_47_5_cropped_line.jpg', 'image_serial_18_5_cropped_line.jpg', 'image_serial_134_11_cropped_line.jpg', 'image_serial_22_15_cropped_line.jpg', 'image_serial_12_16_cropped_line.jpg', 'image_serial_22_27_cropped_line.jpg', 'image_serial_48_48_cropped_line.jpg', 'image_serial_16_12_cropped_line.jpg', 'image_serial_131_17_cropped_line.jpg', 'image_serial_26_8_cropped_line.jpg', 'image_serial_14_4_cropped_line.jpg', 'image_serial_21_15_cropped_line.jpg', 'image_serial_26_0_cropped_line.jpg', 'image_serial_51_42_cropped_line.jpg', 'image_serial_135_23_cropped_line.jpg', 'image_serial_136_2_cropped_line.jpg', 'image_serial_30_1_cropped_line.jpg', 'image_serial_130_15_cropped_line.jpg', 'image_serial_22_28_cropped_line.jpg', 'image_serial_129_4_cropped_line.jpg', 'image_serial_42_32_cropped_line.jpg', 'image_serial_137_6_cropped_line.jpg', 'image_serial_136_26_cropped_line.jpg', 'image_serial_52_15_cropped_line.jpg', 'image_serial_15_31_cropped_line.jpg', 'image_serial_128_29_cropped_line.jpg', 'image_serial_42_17_cropped_line.jpg', 'image_serial_31_39_cropped_line.jpg', 'image_serial_128_22_cropped_line.jpg', 'image_serial_26_31_cropped_line.jpg', 'image_serial_29_13_cropped_line.jpg', 'image_serial_21_33_cropped_line.jpg', 'image_serial_40_10_cropped_line.jpg', 'image_serial_40_17_cropped_line.jpg', 'image_serial_46_41_cropped_line.jpg', 'image_serial_39_35_cropped_line.jpg', 'image_serial_131_2_cropped_line.jpg', 'image_serial_26_28_cropped_line.jpg', 'image_serial_50_13_cropped_line.jpg', 'image_serial_31_18_cropped_line.jpg', 'image_serial_14_5_cropped_line.jpg', 'image_serial_12_11_cropped_line.jpg', 'image_serial_23_1_cropped_line.jpg', 'image_serial_45_17_cropped_line.jpg', 'image_serial_54_2_cropped_line.jpg', 'image_serial_18_13_cropped_line.jpg', 'image_serial_30_31_cropped_line.jpg', 'image_serial_46_15_cropped_line.jpg', 'image_serial_31_22_cropped_line.jpg', 'image_serial_36_24_cropped_line.jpg', 'image_serial_30_36_cropped_line.jpg', 'image_serial_46_1_cropped_line.jpg', 'image_serial_35_26_cropped_line.jpg', 'image_serial_26_12_cropped_line.jpg', 'image_serial_34_6_cropped_line.jpg', 'image_serial_134_22_cropped_line.jpg', 'image_serial_24_24_cropped_line.jpg', 'image_serial_18_4_cropped_line.jpg', 'image_serial_52_40_cropped_line.jpg', 'image_serial_26_25_cropped_line.jpg', 'image_serial_19_11_cropped_line.jpg', 'image_serial_27_2_cropped_line.jpg', 'image_serial_40_2_cropped_line.jpg', 'image_serial_132_18_cropped_line.jpg', 'image_serial_35_29_cropped_line.jpg', 'image_serial_47_21_cropped_line.jpg', 'image_serial_34_34_cropped_line.jpg', 'image_serial_50_7_cropped_line.jpg', 'image_serial_37_15_cropped_line.jpg', 'image_serial_26_1_cropped_line.jpg', 'image_serial_136_15_cropped_line.jpg', 'image_serial_40_14_cropped_line.jpg', 'image_serial_15_6_cropped_line.jpg', 'image_serial_16_33_cropped_line.jpg', 'image_serial_23_24_cropped_line.jpg', 'image_serial_135_12_cropped_line.jpg', 'image_serial_133_3_cropped_line.jpg', 'image_serial_38_33_cropped_line.jpg', 'image_serial_46_34_cropped_line.jpg', 'image_serial_14_11_cropped_line.jpg', 'image_serial_51_9_cropped_line.jpg', 'image_serial_18_10_cropped_line.jpg', 'image_serial_43_36_cropped_line.jpg', 'image_serial_21_21_cropped_line.jpg', 'image_serial_32_42_cropped_line.jpg', 'image_serial_133_23_cropped_line.jpg', 'image_serial_51_56_cropped_line.jpg', 'image_serial_52_25_cropped_line.jpg', 'image_serial_51_45_cropped_line.jpg', 'image_serial_52_20_cropped_line.jpg', 'image_serial_42_2_cropped_line.jpg', 'image_serial_43_29_cropped_line.jpg', 'image_serial_38_28_cropped_line.jpg', 'image_serial_45_2_cropped_line.jpg', 'image_serial_133_19_cropped_line.jpg', 'image_serial_44_10_cropped_line.jpg', 'image_serial_15_3_cropped_line.jpg', 'image_serial_18_2_cropped_line.jpg', 'image_serial_131_34_cropped_line.jpg', 'image_serial_24_12_cropped_line.jpg', 'image_serial_137_13_cropped_line.jpg', 'image_serial_27_0_cropped_line.jpg', 'image_serial_49_41_cropped_line.jpg', 'image_serial_54_7_cropped_line.jpg', 'image_serial_48_39_cropped_line.jpg', 'image_serial_42_25_cropped_line.jpg', 'image_serial_22_20_cropped_line.jpg', 'image_serial_17_12_cropped_line.jpg', 'image_serial_30_37_cropped_line.jpg', 'image_serial_13_15_cropped_line.jpg', 'image_serial_53_14_cropped_line.jpg', 'image_serial_133_10_cropped_line.jpg', 'image_serial_134_19_cropped_line.jpg', 'image_serial_134_17_cropped_line.jpg', 'image_serial_135_5_cropped_line.jpg', 'image_serial_26_7_cropped_line.jpg', 'image_serial_29_19_cropped_line.jpg', 'image_serial_128_25_cropped_line.jpg', 'image_serial_29_21_cropped_line.jpg', 'image_serial_43_9_cropped_line.jpg', 'image_serial_24_14_cropped_line.jpg', 'image_serial_24_22_cropped_line.jpg', 'image_serial_25_25_cropped_line.jpg', 'image_serial_134_10_cropped_line.jpg', 'image_serial_44_2_cropped_line.jpg', 'image_serial_34_22_cropped_line.jpg', 'image_serial_49_3_cropped_line.jpg', 'image_serial_50_37_cropped_line.jpg', 'image_serial_129_30_cropped_line.jpg', 'image_serial_16_18_cropped_line.jpg', 'image_serial_18_23_cropped_line.jpg', 'image_serial_23_26_cropped_line.jpg', 'image_serial_44_5_cropped_line.jpg', 'image_serial_17_20_cropped_line.jpg', 'image_serial_132_3_cropped_line.jpg', 'image_serial_131_32_cropped_line.jpg', 'image_serial_53_4_cropped_line.jpg', 'image_serial_130_5_cropped_line.jpg', 'image_serial_31_14_cropped_line.jpg', 'image_serial_41_20_cropped_line.jpg', 'image_serial_27_1_cropped_line.jpg', 'image_serial_42_24_cropped_line.jpg', 'image_serial_40_32_cropped_line.jpg', 'image_serial_132_15_cropped_line.jpg', 'image_serial_26_32_cropped_line.jpg', 'image_serial_128_30_cropped_line.jpg', 'image_serial_18_26_cropped_line.jpg', 'image_serial_14_2_cropped_line.jpg', 'image_serial_45_21_cropped_line.jpg', 'image_serial_21_0_cropped_line.jpg', 'image_serial_26_18_cropped_line.jpg', 'image_serial_41_2_cropped_line.jpg', 'image_serial_15_5_cropped_line.jpg', 'image_serial_16_3_cropped_line.jpg', 'image_serial_22_19_cropped_line.jpg', 'image_serial_40_21_cropped_line.jpg', 'image_serial_49_30_cropped_line.jpg', 'image_serial_30_12_cropped_line.jpg', 'image_serial_17_25_cropped_line.jpg', 'image_serial_14_20_cropped_line.jpg', 'image_serial_30_13_cropped_line.jpg', 'image_serial_48_22_cropped_line.jpg']\n",
      "                                file_name  \\\n",
      "0     image_serial_12_12_cropped_line.jpg   \n",
      "1     image_serial_37_14_cropped_line.jpg   \n",
      "2     image_serial_34_41_cropped_line.jpg   \n",
      "3     image_serial_32_23_cropped_line.jpg   \n",
      "4     image_serial_34_46_cropped_line.jpg   \n",
      "...                                   ...   \n",
      "1676  image_serial_30_12_cropped_line.jpg   \n",
      "1677  image_serial_17_25_cropped_line.jpg   \n",
      "1678  image_serial_14_20_cropped_line.jpg   \n",
      "1679  image_serial_30_13_cropped_line.jpg   \n",
      "1680  image_serial_48_22_cropped_line.jpg   \n",
      "\n",
      "                                                   text  \n",
      "0                Въ темной безднѣ плыветъ одиноко луна.  \n",
      "1                И я лишь, смертный, зналъ, какъ хороша  \n",
      "2     Вдоль по старой стѣнѣ на вѣтви страдающей розы...  \n",
      "3                                Ничто пощады не даетъ,  \n",
      "4               ба страдаютъ. Одинъ потерялъ свою розу,  \n",
      "...                                                 ...  \n",
      "1676                     Въ освѣжающій сумрак ночной...  \n",
      "1677                             Жизнь холодную забудь!  \n",
      "1678                                        Baudelaire.  \n",
      "1679                 На востокѣ проснулся алѣющий день,  \n",
      "1680                                    Путникъ, ропщи,  \n",
      "\n",
      "[1681 rows x 2 columns]\n"
     ]
    }
   ],
   "source": [
    "import os\n",
    "import pandas as pd\n",
    "\n",
    "# Define folder path\n",
    "folder_path = 'cropped/'\n",
    "\n",
    "# Function to get filenames with specific extensions\n",
    "def get_filenames(folder_path, extensions):\n",
    "    filenames = []\n",
    "    for file in os.listdir(folder_path):\n",
    "        if file.endswith(extensions):\n",
    "            filenames.append(file)\n",
    "    return filenames\n",
    "\n",
    "# Get list of jpeg and txt filenames\n",
    "jpeg_files = get_filenames(folder_path, '.jpg')\n",
    "txt_files = get_filenames(folder_path, '.txt')\n",
    "\n",
    "# Create DataFrame\n",
    "data = []\n",
    "for jpeg_file in jpeg_files:\n",
    "    filename, _ = os.path.splitext(jpeg_file)\n",
    "    filename_fixed = filename.replace(\"cropped_line\", \"text\")\n",
    "    matching_txt = [txt for txt in txt_files if txt.startswith(filename_fixed)]\n",
    "    if not matching_txt:\n",
    "      continue\n",
    "    try:\n",
    "      with open(f\"{folder_path}/{matching_txt[0]}\") as text_file:\n",
    "        text = text_file.read()\n",
    "        if text:\n",
    "            data.append({'file_name': jpeg_file, 'text': text})\n",
    "        else:\n",
    "            data.append({'file_name': jpeg_file, 'text': ''})\n",
    "    except FileNotFoundError as e:\n",
    "      print(e)\n",
    "\n",
    "df = pd.DataFrame(data)\n",
    "df"
   ]
  },
  {
   "cell_type": "code",
   "execution_count": 2,
   "metadata": {},
   "outputs": [],
   "source": [
    "from sklearn.model_selection import train_test_split\n",
    "\n",
    "train_df, test_df = train_test_split(df, test_size=0.2)\n",
    "# we reset the indices to start from zero\n",
    "train_df.reset_index(drop=True, inplace=True)\n",
    "test_df.reset_index(drop=True, inplace=True)"
   ]
  },
  {
   "cell_type": "code",
   "execution_count": 3,
   "metadata": {},
   "outputs": [],
   "source": [
    "import torch\n",
    "from torch.utils.data import Dataset\n",
    "from PIL import Image\n",
    "\n",
    "class IAMDataset(Dataset):\n",
    "    def __init__(self, root_dir, df, processor, max_target_length=128):\n",
    "        self.root_dir = root_dir\n",
    "        self.df = df\n",
    "        self.processor = processor\n",
    "        self.max_target_length = max_target_length\n",
    "\n",
    "    def __len__(self):\n",
    "        return len(self.df)\n",
    "\n",
    "    def __getitem__(self, idx):\n",
    "        # get file name + text\n",
    "        file_name = self.df['file_name'][idx]\n",
    "        text = self.df['text'][idx]\n",
    "        # prepare image (i.e. resize + normalize)\n",
    "        image = Image.open(self.root_dir + file_name).convert(\"RGB\")\n",
    "        pixel_values = self.processor(image, return_tensors=\"pt\").pixel_values\n",
    "        # add labels (input_ids) by encoding the text\n",
    "        labels = self.processor.tokenizer(text,\n",
    "                                          padding=\"max_length\",\n",
    "                                          max_length=self.max_target_length).input_ids\n",
    "        # important: make sure that PAD tokens are ignored by the loss function\n",
    "        labels = [label if label != self.processor.tokenizer.pad_token_id else -100 for label in labels]\n",
    "\n",
    "        encoding = {\"pixel_values\": pixel_values.squeeze(), \"labels\": torch.tensor(labels)}\n",
    "        return encoding"
   ]
  },
  {
   "cell_type": "code",
   "execution_count": 4,
   "metadata": {},
   "outputs": [
    {
     "name": "stderr",
     "output_type": "stream",
     "text": [
      "/home/maria/projects/blok/venv/lib/python3.10/site-packages/tqdm/auto.py:21: TqdmWarning: IProgress not found. Please update jupyter and ipywidgets. See https://ipywidgets.readthedocs.io/en/stable/user_install.html\n",
      "  from .autonotebook import tqdm as notebook_tqdm\n"
     ]
    }
   ],
   "source": [
    "from transformers import TrOCRProcessor\n",
    "\n",
    "# get the hugging face model and show it the data \n",
    "processor = TrOCRProcessor.from_pretrained(\"raxtemur/trocr-base-ru\")\n",
    "train_dataset = IAMDataset(root_dir='cropped/',\n",
    "                           df=train_df,\n",
    "                           processor=processor)\n",
    "eval_dataset = IAMDataset(root_dir='cropped/',\n",
    "                           df=test_df,\n",
    "                           processor=processor)"
   ]
  },
  {
   "cell_type": "code",
   "execution_count": 5,
   "metadata": {},
   "outputs": [
    {
     "name": "stdout",
     "output_type": "stream",
     "text": [
      "Number of training examples: 1344\n",
      "Number of validation examples: 337\n"
     ]
    }
   ],
   "source": [
    "print(\"Number of training examples:\", len(train_dataset))\n",
    "print(\"Number of validation examples:\", len(eval_dataset))"
   ]
  },
  {
   "cell_type": "code",
   "execution_count": 6,
   "metadata": {},
   "outputs": [
    {
     "name": "stdout",
     "output_type": "stream",
     "text": [
      "pixel_values torch.Size([3, 384, 384])\n",
      "labels torch.Size([128])\n"
     ]
    }
   ],
   "source": [
    "encoding = train_dataset[0]\n",
    "for k,v in encoding.items():\n",
    "  print(k, v.shape)"
   ]
  },
  {
   "cell_type": "code",
   "execution_count": 7,
   "metadata": {},
   "outputs": [
    {
     "data": {
      "image/jpeg": "[encoded data removed]",
      "image/png": "[encoded data removed]",
      "text/plain": [
       "<PIL.Image.Image image mode=RGB size=401x59>"
      ]
     },
     "execution_count": 7,
     "metadata": {},
     "output_type": "execute_result"
    }
   ],
   "source": [
    "image = Image.open(train_dataset.root_dir + train_df['file_name'][0]).convert(\"RGB\")\n",
    "image"
   ]
  },
  {
   "cell_type": "code",
   "execution_count": 8,
   "metadata": {},
   "outputs": [
    {
     "name": "stdout",
     "output_type": "stream",
     "text": [
      "Съ цвѣтами на груди, на головѣ, въ рукахъ...\n"
     ]
    }
   ],
   "source": [
    "labels = encoding['labels']\n",
    "labels[labels == -100] = processor.tokenizer.pad_token_id\n",
    "label_str = processor.decode(labels, skip_special_tokens=True)\n",
    "print(label_str)"
   ]
  },
  {
   "cell_type": "code",
   "execution_count": 9,
   "metadata": {},
   "outputs": [
    {
     "name": "stderr",
     "output_type": "stream",
     "text": [
      "/home/maria/projects/blok/venv/lib/python3.10/site-packages/torch/cuda/__init__.py:619: UserWarning: Can't initialize NVML\n",
      "  warnings.warn(\"Can't initialize NVML\")\n"
     ]
    }
   ],
   "source": [
    "from transformers import VisionEncoderDecoderModel\n",
    "\n",
    "model = VisionEncoderDecoderModel.from_pretrained(\"raxtemur/trocr-base-ru\")"
   ]
  },
  {
   "cell_type": "code",
   "execution_count": 87,
   "metadata": {},
   "outputs": [],
   "source": [
    "# the config I didn't use because it's already in the model\n",
    "\n",
    "# # set special tokens used for creating the decoder_input_ids from the labels\n",
    "# model.config.decoder_start_token_id = processor.tokenizer.cls_token_id\n",
    "# model.config.pad_token_id = processor.tokenizer.pad_token_id\n",
    "# # make sure vocab size is set correctly\n",
    "# model.config.vocab_size = model.config.decoder.vocab_size\n",
    "\n",
    "# # set beam search parameters\n",
    "# model.config.eos_token_id = processor.tokenizer.sep_token_id\n",
    "# model.config.max_length = 64\n",
    "# model.config.early_stopping = True\n",
    "# model.config.no_repeat_ngram_size = 3\n",
    "# model.config.length_penalty = 2.0\n",
    "# model.config.num_beams = 4"
   ]
  },
  {
   "cell_type": "code",
   "execution_count": 10,
   "metadata": {},
   "outputs": [],
   "source": [
    "from transformers import Seq2SeqTrainer, Seq2SeqTrainingArguments\n",
    "\n",
    "training_args = Seq2SeqTrainingArguments(\n",
    "    predict_with_generate=True,\n",
    "    evaluation_strategy=\"steps\",\n",
    "    per_device_train_batch_size=8,\n",
    "    per_device_eval_batch_size=8,\n",
    "    fp16=False,  # turn it off because my model didn't like it\n",
    "    output_dir=\"model\",\n",
    "    logging_steps=2,\n",
    "    save_steps=1000,\n",
    "    eval_steps=200,\n",
    ")"
   ]
  },
  {
   "cell_type": "code",
   "execution_count": 11,
   "metadata": {},
   "outputs": [
    {
     "name": "stderr",
     "output_type": "stream",
     "text": [
      "/tmp/ipykernel_2160076/152175726.py:3: FutureWarning: load_metric is deprecated and will be removed in the next major version of datasets. Use 'evaluate.load' instead, from the new library 🤗 Evaluate: https://huggingface.co/docs/evaluate\n",
      "  cer_metric = load_metric(\"cer\")\n",
      "/home/maria/projects/blok/venv/lib/python3.10/site-packages/datasets/load.py:759: FutureWarning: The repository for cer contains custom code which must be executed to correctly load the metric. You can inspect the repository content at https://raw.githubusercontent.com/huggingface/datasets/2.19.0/metrics/cer/cer.py\n",
      "You can avoid this message in future by passing the argument `trust_remote_code=True`.\n",
      "Passing `trust_remote_code=True` will be mandatory to load this metric from the next major release of `datasets`.\n",
      "  warnings.warn(\n"
     ]
    }
   ],
   "source": [
    "from datasets import load_metric\n",
    "\n",
    "cer_metric = load_metric(\"cer\")"
   ]
  },
  {
   "cell_type": "code",
   "execution_count": 12,
   "metadata": {},
   "outputs": [],
   "source": [
    "def compute_metrics(pred):\n",
    "    labels_ids = pred.label_ids\n",
    "    pred_ids = pred.predictions\n",
    "\n",
    "    pred_str = processor.batch_decode(pred_ids, skip_special_tokens=True)\n",
    "    labels_ids[labels_ids == -100] = processor.tokenizer.pad_token_id\n",
    "    label_str = processor.batch_decode(labels_ids, skip_special_tokens=True)\n",
    "\n",
    "    cer = cer_metric.compute(predictions=pred_str, references=label_str)\n",
    "\n",
    "    return {\"cer\": cer}"
   ]
  },
  {
   "cell_type": "code",
   "execution_count": 17,
   "metadata": {},
   "outputs": [
    {
     "name": "stderr",
     "output_type": "stream",
     "text": [
      "Some non-default generation parameters are set in the model config. These should go into a GenerationConfig file (https://huggingface.co/docs/transformers/generation_strategies#save-a-custom-decoding-strategy-with-your-model) instead. This warning will be raised to an exception in v4.41.\n",
      "Non-default generation parameters: {'max_length': 64}\n"
     ]
    }
   ],
   "source": [
    "#  define the folder to save trained model\n",
    "trainer.save_model(\"model\")"
   ]
  },
  {
   "cell_type": "code",
   "execution_count": 13,
   "metadata": {},
   "outputs": [
    {
     "name": "stderr",
     "output_type": "stream",
     "text": [
      "/home/maria/projects/blok/venv/lib/python3.10/site-packages/transformers/models/trocr/processing_trocr.py:136: FutureWarning: `feature_extractor` is deprecated and will be removed in v5. Use `image_processor` instead.\n",
      "  warnings.warn(\n",
      "  0%|          | 2/504 [00:23<1:36:37, 11.55s/it]"
     ]
    },
    {
     "name": "stdout",
     "output_type": "stream",
     "text": [
      "{'loss': 1.5437, 'grad_norm': 9.51470947265625, 'learning_rate': 4.9801587301587306e-05, 'epoch': 0.01}\n"
     ]
    },
    {
     "name": "stderr",
     "output_type": "stream",
     "text": [
      "  1%|          | 4/504 [00:45<1:35:22, 11.45s/it]"
     ]
    },
    {
     "name": "stdout",
     "output_type": "stream",
     "text": [
      "{'loss': 1.0926, 'grad_norm': 8.087806701660156, 'learning_rate': 4.960317460317461e-05, 'epoch': 0.02}\n"
     ]
    },
    {
     "name": "stderr",
     "output_type": "stream",
     "text": [
      "  1%|          | 6/504 [01:06<1:30:26, 10.90s/it]"
     ]
    },
    {
     "name": "stdout",
     "output_type": "stream",
     "text": [
      "{'loss': 0.8643, 'grad_norm': 18.628372192382812, 'learning_rate': 4.940476190476191e-05, 'epoch': 0.04}\n"
     ]
    },
    {
     "name": "stderr",
     "output_type": "stream",
     "text": [
      "  2%|▏         | 8/504 [01:27<1:28:28, 10.70s/it]"
     ]
    },
    {
     "name": "stdout",
     "output_type": "stream",
     "text": [
      "{'loss': 0.6795, 'grad_norm': 13.90930461883545, 'learning_rate': 4.9206349206349204e-05, 'epoch': 0.05}\n"
     ]
    },
    {
     "name": "stderr",
     "output_type": "stream",
     "text": [
      "  2%|▏         | 10/504 [01:49<1:28:15, 10.72s/it]"
     ]
    },
    {
     "name": "stdout",
     "output_type": "stream",
     "text": [
      "{'loss': 0.5856, 'grad_norm': 4.585747241973877, 'learning_rate': 4.900793650793651e-05, 'epoch': 0.06}\n"
     ]
    },
    {
     "name": "stderr",
     "output_type": "stream",
     "text": [
      "  2%|▏         | 12/504 [02:11<1:28:22, 10.78s/it]"
     ]
    },
    {
     "name": "stdout",
     "output_type": "stream",
     "text": [
      "{'loss': 0.5071, 'grad_norm': 4.025274753570557, 'learning_rate': 4.880952380952381e-05, 'epoch': 0.07}\n"
     ]
    },
    {
     "name": "stderr",
     "output_type": "stream",
     "text": [
      "  3%|▎         | 14/504 [02:32<1:27:27, 10.71s/it]"
     ]
    },
    {
     "name": "stdout",
     "output_type": "stream",
     "text": [
      "{'loss': 0.4196, 'grad_norm': 4.651594638824463, 'learning_rate': 4.8611111111111115e-05, 'epoch': 0.08}\n"
     ]
    },
    {
     "name": "stderr",
     "output_type": "stream",
     "text": [
      "  3%|▎         | 16/504 [02:55<1:29:24, 10.99s/it]"
     ]
    },
    {
     "name": "stdout",
     "output_type": "stream",
     "text": [
      "{'loss': 0.3794, 'grad_norm': 3.9300625324249268, 'learning_rate': 4.841269841269841e-05, 'epoch': 0.1}\n"
     ]
    },
    {
     "name": "stderr",
     "output_type": "stream",
     "text": [
      "  4%|▎         | 18/504 [03:21<1:37:49, 12.08s/it]"
     ]
    },
    {
     "name": "stdout",
     "output_type": "stream",
     "text": [
      "{'loss': 0.2725, 'grad_norm': 3.3276925086975098, 'learning_rate': 4.8214285714285716e-05, 'epoch': 0.11}\n"
     ]
    },
    {
     "name": "stderr",
     "output_type": "stream",
     "text": [
      "  4%|▍         | 20/504 [03:43<1:33:45, 11.62s/it]"
     ]
    },
    {
     "name": "stdout",
     "output_type": "stream",
     "text": [
      "{'loss': 0.3523, 'grad_norm': 3.3639628887176514, 'learning_rate': 4.801587301587302e-05, 'epoch': 0.12}\n"
     ]
    },
    {
     "name": "stderr",
     "output_type": "stream",
     "text": [
      "  4%|▍         | 22/504 [04:05<1:30:08, 11.22s/it]"
     ]
    },
    {
     "name": "stdout",
     "output_type": "stream",
     "text": [
      "{'loss': 0.7775, 'grad_norm': 3.9229650497436523, 'learning_rate': 4.781746031746032e-05, 'epoch': 0.13}\n"
     ]
    },
    {
     "name": "stderr",
     "output_type": "stream",
     "text": [
      "  5%|▍         | 24/504 [04:29<1:34:00, 11.75s/it]"
     ]
    },
    {
     "name": "stdout",
     "output_type": "stream",
     "text": [
      "{'loss': 0.2899, 'grad_norm': 2.950727701187134, 'learning_rate': 4.761904761904762e-05, 'epoch': 0.14}\n"
     ]
    },
    {
     "name": "stderr",
     "output_type": "stream",
     "text": [
      "  5%|▌         | 26/504 [04:52<1:32:35, 11.62s/it]"
     ]
    },
    {
     "name": "stdout",
     "output_type": "stream",
     "text": [
      "{'loss': 0.2993, 'grad_norm': 2.326591968536377, 'learning_rate': 4.7420634920634924e-05, 'epoch': 0.15}\n"
     ]
    },
    {
     "name": "stderr",
     "output_type": "stream",
     "text": [
      "  6%|▌         | 28/504 [05:16<1:32:18, 11.64s/it]"
     ]
    },
    {
     "name": "stdout",
     "output_type": "stream",
     "text": [
      "{'loss': 0.4104, 'grad_norm': 3.659022808074951, 'learning_rate': 4.722222222222222e-05, 'epoch': 0.17}\n"
     ]
    },
    {
     "name": "stderr",
     "output_type": "stream",
     "text": [
      "  6%|▌         | 30/504 [05:39<1:31:27, 11.58s/it]"
     ]
    },
    {
     "name": "stdout",
     "output_type": "stream",
     "text": [
      "{'loss': 0.2482, 'grad_norm': 3.978132724761963, 'learning_rate': 4.7023809523809525e-05, 'epoch': 0.18}\n"
     ]
    },
    {
     "name": "stderr",
     "output_type": "stream",
     "text": [
      "  6%|▋         | 32/504 [06:03<1:33:28, 11.88s/it]"
     ]
    },
    {
     "name": "stdout",
     "output_type": "stream",
     "text": [
      "{'loss': 0.2998, 'grad_norm': 3.7969436645507812, 'learning_rate': 4.682539682539683e-05, 'epoch': 0.19}\n"
     ]
    },
    {
     "name": "stderr",
     "output_type": "stream",
     "text": [
      "  7%|▋         | 34/504 [06:27<1:33:57, 11.99s/it]"
     ]
    },
    {
     "name": "stdout",
     "output_type": "stream",
     "text": [
      "{'loss': 0.2814, 'grad_norm': 3.403782367706299, 'learning_rate': 4.662698412698413e-05, 'epoch': 0.2}\n"
     ]
    },
    {
     "name": "stderr",
     "output_type": "stream",
     "text": [
      "  7%|▋         | 36/504 [06:51<1:32:38, 11.88s/it]"
     ]
    },
    {
     "name": "stdout",
     "output_type": "stream",
     "text": [
      "{'loss': 0.2834, 'grad_norm': 3.093905210494995, 'learning_rate': 4.642857142857143e-05, 'epoch': 0.21}\n"
     ]
    },
    {
     "name": "stderr",
     "output_type": "stream",
     "text": [
      "  8%|▊         | 38/504 [07:13<1:29:08, 11.48s/it]"
     ]
    },
    {
     "name": "stdout",
     "output_type": "stream",
     "text": [
      "{'loss': 0.2481, 'grad_norm': 1.9351292848587036, 'learning_rate': 4.623015873015873e-05, 'epoch': 0.23}\n"
     ]
    },
    {
     "name": "stderr",
     "output_type": "stream",
     "text": [
      "  8%|▊         | 40/504 [07:36<1:29:59, 11.64s/it]"
     ]
    },
    {
     "name": "stdout",
     "output_type": "stream",
     "text": [
      "{'loss': 0.1876, 'grad_norm': 1.770957589149475, 'learning_rate': 4.603174603174603e-05, 'epoch': 0.24}\n"
     ]
    },
    {
     "name": "stderr",
     "output_type": "stream",
     "text": [
      "  8%|▊         | 42/504 [07:59<1:29:14, 11.59s/it]"
     ]
    },
    {
     "name": "stdout",
     "output_type": "stream",
     "text": [
      "{'loss': 0.3404, 'grad_norm': 2.6767423152923584, 'learning_rate': 4.5833333333333334e-05, 'epoch': 0.25}\n"
     ]
    },
    {
     "name": "stderr",
     "output_type": "stream",
     "text": [
      "  9%|▊         | 44/504 [08:23<1:29:23, 11.66s/it]"
     ]
    },
    {
     "name": "stdout",
     "output_type": "stream",
     "text": [
      "{'loss': 0.3166, 'grad_norm': 3.4348649978637695, 'learning_rate': 4.563492063492064e-05, 'epoch': 0.26}\n"
     ]
    },
    {
     "name": "stderr",
     "output_type": "stream",
     "text": [
      "  9%|▉         | 46/504 [08:46<1:28:00, 11.53s/it]"
     ]
    },
    {
     "name": "stdout",
     "output_type": "stream",
     "text": [
      "{'loss': 0.2082, 'grad_norm': 3.489997625350952, 'learning_rate': 4.543650793650794e-05, 'epoch': 0.27}\n"
     ]
    },
    {
     "name": "stderr",
     "output_type": "stream",
     "text": [
      " 10%|▉         | 48/504 [09:12<1:35:07, 12.52s/it]"
     ]
    },
    {
     "name": "stdout",
     "output_type": "stream",
     "text": [
      "{'loss': 0.2625, 'grad_norm': 2.157973051071167, 'learning_rate': 4.523809523809524e-05, 'epoch': 0.29}\n"
     ]
    },
    {
     "name": "stderr",
     "output_type": "stream",
     "text": [
      " 10%|▉         | 50/504 [09:36<1:33:03, 12.30s/it]"
     ]
    },
    {
     "name": "stdout",
     "output_type": "stream",
     "text": [
      "{'loss': 0.4827, 'grad_norm': 5.192949295043945, 'learning_rate': 4.503968253968254e-05, 'epoch': 0.3}\n"
     ]
    },
    {
     "name": "stderr",
     "output_type": "stream",
     "text": [
      " 10%|█         | 52/504 [10:03<1:35:44, 12.71s/it]"
     ]
    },
    {
     "name": "stdout",
     "output_type": "stream",
     "text": [
      "{'loss': 0.2864, 'grad_norm': 2.3127849102020264, 'learning_rate': 4.4841269841269846e-05, 'epoch': 0.31}\n"
     ]
    },
    {
     "name": "stderr",
     "output_type": "stream",
     "text": [
      " 11%|█         | 54/504 [10:26<1:30:32, 12.07s/it]"
     ]
    },
    {
     "name": "stdout",
     "output_type": "stream",
     "text": [
      "{'loss': 0.1494, 'grad_norm': 1.8128023147583008, 'learning_rate': 4.464285714285715e-05, 'epoch': 0.32}\n"
     ]
    },
    {
     "name": "stderr",
     "output_type": "stream",
     "text": [
      " 11%|█         | 56/504 [10:49<1:29:07, 11.94s/it]"
     ]
    },
    {
     "name": "stdout",
     "output_type": "stream",
     "text": [
      "{'loss': 0.2781, 'grad_norm': 3.5420007705688477, 'learning_rate': 4.4444444444444447e-05, 'epoch': 0.33}\n"
     ]
    },
    {
     "name": "stderr",
     "output_type": "stream",
     "text": [
      " 12%|█▏        | 58/504 [11:14<1:29:55, 12.10s/it]"
     ]
    },
    {
     "name": "stdout",
     "output_type": "stream",
     "text": [
      "{'loss': 0.1653, 'grad_norm': 2.36010479927063, 'learning_rate': 4.4246031746031744e-05, 'epoch': 0.35}\n"
     ]
    },
    {
     "name": "stderr",
     "output_type": "stream",
     "text": [
      " 12%|█▏        | 60/504 [11:36<1:26:52, 11.74s/it]"
     ]
    },
    {
     "name": "stdout",
     "output_type": "stream",
     "text": [
      "{'loss': 0.255, 'grad_norm': 2.6671082973480225, 'learning_rate': 4.404761904761905e-05, 'epoch': 0.36}\n"
     ]
    },
    {
     "name": "stderr",
     "output_type": "stream",
     "text": [
      " 12%|█▏        | 62/504 [11:59<1:25:03, 11.55s/it]"
     ]
    },
    {
     "name": "stdout",
     "output_type": "stream",
     "text": [
      "{'loss': 0.2328, 'grad_norm': 3.981950521469116, 'learning_rate': 4.384920634920635e-05, 'epoch': 0.37}\n"
     ]
    },
    {
     "name": "stderr",
     "output_type": "stream",
     "text": [
      " 13%|█▎        | 64/504 [12:22<1:23:26, 11.38s/it]"
     ]
    },
    {
     "name": "stdout",
     "output_type": "stream",
     "text": [
      "{'loss': 0.2624, 'grad_norm': 4.1267991065979, 'learning_rate': 4.3650793650793655e-05, 'epoch': 0.38}\n"
     ]
    },
    {
     "name": "stderr",
     "output_type": "stream",
     "text": [
      " 13%|█▎        | 66/504 [12:45<1:23:22, 11.42s/it]"
     ]
    },
    {
     "name": "stdout",
     "output_type": "stream",
     "text": [
      "{'loss': 0.2211, 'grad_norm': 13.883563041687012, 'learning_rate': 4.345238095238096e-05, 'epoch': 0.39}\n"
     ]
    },
    {
     "name": "stderr",
     "output_type": "stream",
     "text": [
      " 13%|█▎        | 68/504 [13:08<1:24:09, 11.58s/it]"
     ]
    },
    {
     "name": "stdout",
     "output_type": "stream",
     "text": [
      "{'loss': 0.1361, 'grad_norm': 2.587019681930542, 'learning_rate': 4.3253968253968256e-05, 'epoch': 0.4}\n"
     ]
    },
    {
     "name": "stderr",
     "output_type": "stream",
     "text": [
      " 14%|█▍        | 70/504 [13:31<1:23:28, 11.54s/it]"
     ]
    },
    {
     "name": "stdout",
     "output_type": "stream",
     "text": [
      "{'loss': 0.2606, 'grad_norm': 4.761039733886719, 'learning_rate': 4.305555555555556e-05, 'epoch': 0.42}\n"
     ]
    },
    {
     "name": "stderr",
     "output_type": "stream",
     "text": [
      " 14%|█▍        | 72/504 [13:54<1:22:24, 11.45s/it]"
     ]
    },
    {
     "name": "stdout",
     "output_type": "stream",
     "text": [
      "{'loss': 0.2112, 'grad_norm': 3.693406343460083, 'learning_rate': 4.2857142857142856e-05, 'epoch': 0.43}\n"
     ]
    },
    {
     "name": "stderr",
     "output_type": "stream",
     "text": [
      " 15%|█▍        | 74/504 [14:18<1:25:31, 11.93s/it]"
     ]
    },
    {
     "name": "stdout",
     "output_type": "stream",
     "text": [
      "{'loss': 0.1606, 'grad_norm': 2.1961610317230225, 'learning_rate': 4.265873015873016e-05, 'epoch': 0.44}\n"
     ]
    },
    {
     "name": "stderr",
     "output_type": "stream",
     "text": [
      " 15%|█▌        | 76/504 [14:43<1:26:33, 12.13s/it]"
     ]
    },
    {
     "name": "stdout",
     "output_type": "stream",
     "text": [
      "{'loss': 0.3747, 'grad_norm': 15.9905424118042, 'learning_rate': 4.2460317460317464e-05, 'epoch': 0.45}\n"
     ]
    },
    {
     "name": "stderr",
     "output_type": "stream",
     "text": [
      " 15%|█▌        | 78/504 [15:06<1:24:10, 11.85s/it]"
     ]
    },
    {
     "name": "stdout",
     "output_type": "stream",
     "text": [
      "{'loss': 0.1934, 'grad_norm': 2.1392579078674316, 'learning_rate': 4.226190476190476e-05, 'epoch': 0.46}\n"
     ]
    },
    {
     "name": "stderr",
     "output_type": "stream",
     "text": [
      " 16%|█▌        | 80/504 [15:29<1:22:38, 11.69s/it]"
     ]
    },
    {
     "name": "stdout",
     "output_type": "stream",
     "text": [
      "{'loss': 0.2262, 'grad_norm': 1.7615247964859009, 'learning_rate': 4.2063492063492065e-05, 'epoch': 0.48}\n"
     ]
    },
    {
     "name": "stderr",
     "output_type": "stream",
     "text": [
      " 16%|█▋        | 82/504 [15:53<1:22:39, 11.75s/it]"
     ]
    },
    {
     "name": "stdout",
     "output_type": "stream",
     "text": [
      "{'loss': 0.1517, 'grad_norm': 1.3162872791290283, 'learning_rate': 4.186507936507937e-05, 'epoch': 0.49}\n"
     ]
    },
    {
     "name": "stderr",
     "output_type": "stream",
     "text": [
      " 17%|█▋        | 84/504 [16:17<1:23:17, 11.90s/it]"
     ]
    },
    {
     "name": "stdout",
     "output_type": "stream",
     "text": [
      "{'loss': 0.1038, 'grad_norm': 1.5844025611877441, 'learning_rate': 4.166666666666667e-05, 'epoch': 0.5}\n"
     ]
    },
    {
     "name": "stderr",
     "output_type": "stream",
     "text": [
      " 17%|█▋        | 86/504 [16:41<1:23:26, 11.98s/it]"
     ]
    },
    {
     "name": "stdout",
     "output_type": "stream",
     "text": [
      "{'loss': 0.1989, 'grad_norm': 3.24811053276062, 'learning_rate': 4.1468253968253976e-05, 'epoch': 0.51}\n"
     ]
    },
    {
     "name": "stderr",
     "output_type": "stream",
     "text": [
      " 17%|█▋        | 88/504 [17:05<1:22:57, 11.97s/it]"
     ]
    },
    {
     "name": "stdout",
     "output_type": "stream",
     "text": [
      "{'loss': 0.1953, 'grad_norm': 2.620392084121704, 'learning_rate': 4.126984126984127e-05, 'epoch': 0.52}\n"
     ]
    },
    {
     "name": "stderr",
     "output_type": "stream",
     "text": [
      " 18%|█▊        | 90/504 [17:28<1:20:06, 11.61s/it]"
     ]
    },
    {
     "name": "stdout",
     "output_type": "stream",
     "text": [
      "{'loss': 0.272, 'grad_norm': 2.052253007888794, 'learning_rate': 4.107142857142857e-05, 'epoch': 0.54}\n"
     ]
    },
    {
     "name": "stderr",
     "output_type": "stream",
     "text": [
      " 18%|█▊        | 92/504 [17:51<1:19:44, 11.61s/it]"
     ]
    },
    {
     "name": "stdout",
     "output_type": "stream",
     "text": [
      "{'loss': 0.0988, 'grad_norm': 1.4905415773391724, 'learning_rate': 4.0873015873015874e-05, 'epoch': 0.55}\n"
     ]
    },
    {
     "name": "stderr",
     "output_type": "stream",
     "text": [
      " 19%|█▊        | 94/504 [18:14<1:18:41, 11.52s/it]"
     ]
    },
    {
     "name": "stdout",
     "output_type": "stream",
     "text": [
      "{'loss': 0.1951, 'grad_norm': 2.352978229522705, 'learning_rate': 4.067460317460318e-05, 'epoch': 0.56}\n"
     ]
    },
    {
     "name": "stderr",
     "output_type": "stream",
     "text": [
      " 19%|█▉        | 96/504 [18:36<1:17:48, 11.44s/it]"
     ]
    },
    {
     "name": "stdout",
     "output_type": "stream",
     "text": [
      "{'loss': 0.2023, 'grad_norm': 2.0355515480041504, 'learning_rate': 4.047619047619048e-05, 'epoch': 0.57}\n"
     ]
    },
    {
     "name": "stderr",
     "output_type": "stream",
     "text": [
      " 19%|█▉        | 98/504 [18:59<1:17:17, 11.42s/it]"
     ]
    },
    {
     "name": "stdout",
     "output_type": "stream",
     "text": [
      "{'loss': 0.1944, 'grad_norm': 2.4688711166381836, 'learning_rate': 4.027777777777778e-05, 'epoch': 0.58}\n"
     ]
    },
    {
     "name": "stderr",
     "output_type": "stream",
     "text": [
      " 20%|█▉        | 100/504 [19:22<1:16:40, 11.39s/it]"
     ]
    },
    {
     "name": "stdout",
     "output_type": "stream",
     "text": [
      "{'loss': 0.1341, 'grad_norm': 2.773732900619507, 'learning_rate': 4.007936507936508e-05, 'epoch': 0.6}\n"
     ]
    },
    {
     "name": "stderr",
     "output_type": "stream",
     "text": [
      " 20%|██        | 102/504 [19:45<1:16:11, 11.37s/it]"
     ]
    },
    {
     "name": "stdout",
     "output_type": "stream",
     "text": [
      "{'loss': 0.19, 'grad_norm': 1.9025886058807373, 'learning_rate': 3.9880952380952386e-05, 'epoch': 0.61}\n"
     ]
    },
    {
     "name": "stderr",
     "output_type": "stream",
     "text": [
      " 21%|██        | 104/504 [20:08<1:16:50, 11.53s/it]"
     ]
    },
    {
     "name": "stdout",
     "output_type": "stream",
     "text": [
      "{'loss': 0.2424, 'grad_norm': 4.293429374694824, 'learning_rate': 3.968253968253968e-05, 'epoch': 0.62}\n"
     ]
    },
    {
     "name": "stderr",
     "output_type": "stream",
     "text": [
      " 21%|██        | 106/504 [20:31<1:16:26, 11.52s/it]"
     ]
    },
    {
     "name": "stdout",
     "output_type": "stream",
     "text": [
      "{'loss': 0.36, 'grad_norm': 3.2380473613739014, 'learning_rate': 3.9484126984126986e-05, 'epoch': 0.63}\n"
     ]
    },
    {
     "name": "stderr",
     "output_type": "stream",
     "text": [
      " 21%|██▏       | 108/504 [20:53<1:14:48, 11.33s/it]"
     ]
    },
    {
     "name": "stdout",
     "output_type": "stream",
     "text": [
      "{'loss': 0.1318, 'grad_norm': 2.0073370933532715, 'learning_rate': 3.928571428571429e-05, 'epoch': 0.64}\n"
     ]
    },
    {
     "name": "stderr",
     "output_type": "stream",
     "text": [
      " 22%|██▏       | 110/504 [21:16<1:14:56, 11.41s/it]"
     ]
    },
    {
     "name": "stdout",
     "output_type": "stream",
     "text": [
      "{'loss': 0.1837, 'grad_norm': 2.8820831775665283, 'learning_rate': 3.908730158730159e-05, 'epoch': 0.65}\n"
     ]
    },
    {
     "name": "stderr",
     "output_type": "stream",
     "text": [
      " 22%|██▏       | 112/504 [21:40<1:15:36, 11.57s/it]"
     ]
    },
    {
     "name": "stdout",
     "output_type": "stream",
     "text": [
      "{'loss': 0.1455, 'grad_norm': 2.484062910079956, 'learning_rate': 3.888888888888889e-05, 'epoch': 0.67}\n"
     ]
    },
    {
     "name": "stderr",
     "output_type": "stream",
     "text": [
      " 23%|██▎       | 114/504 [22:02<1:13:46, 11.35s/it]"
     ]
    },
    {
     "name": "stdout",
     "output_type": "stream",
     "text": [
      "{'loss': 0.1172, 'grad_norm': 1.2192140817642212, 'learning_rate': 3.8690476190476195e-05, 'epoch': 0.68}\n"
     ]
    },
    {
     "name": "stderr",
     "output_type": "stream",
     "text": [
      " 23%|██▎       | 116/504 [22:25<1:14:37, 11.54s/it]"
     ]
    },
    {
     "name": "stdout",
     "output_type": "stream",
     "text": [
      "{'loss': 0.0859, 'grad_norm': 1.6650240421295166, 'learning_rate': 3.84920634920635e-05, 'epoch': 0.69}\n"
     ]
    },
    {
     "name": "stderr",
     "output_type": "stream",
     "text": [
      " 23%|██▎       | 118/504 [22:48<1:13:58, 11.50s/it]"
     ]
    },
    {
     "name": "stdout",
     "output_type": "stream",
     "text": [
      "{'loss': 0.1048, 'grad_norm': 2.4379799365997314, 'learning_rate': 3.8293650793650795e-05, 'epoch': 0.7}\n"
     ]
    },
    {
     "name": "stderr",
     "output_type": "stream",
     "text": [
      " 24%|██▍       | 120/504 [23:12<1:15:25, 11.79s/it]"
     ]
    },
    {
     "name": "stdout",
     "output_type": "stream",
     "text": [
      "{'loss': 0.2427, 'grad_norm': 2.931823968887329, 'learning_rate': 3.809523809523809e-05, 'epoch': 0.71}\n"
     ]
    },
    {
     "name": "stderr",
     "output_type": "stream",
     "text": [
      " 24%|██▍       | 122/504 [23:36<1:15:50, 11.91s/it]"
     ]
    },
    {
     "name": "stdout",
     "output_type": "stream",
     "text": [
      "{'loss': 0.1025, 'grad_norm': 2.803757905960083, 'learning_rate': 3.7896825396825396e-05, 'epoch': 0.73}\n"
     ]
    },
    {
     "name": "stderr",
     "output_type": "stream",
     "text": [
      " 25%|██▍       | 124/504 [24:00<1:15:01, 11.85s/it]"
     ]
    },
    {
     "name": "stdout",
     "output_type": "stream",
     "text": [
      "{'loss': 0.1535, 'grad_norm': 2.5663671493530273, 'learning_rate': 3.76984126984127e-05, 'epoch': 0.74}\n"
     ]
    },
    {
     "name": "stderr",
     "output_type": "stream",
     "text": [
      " 25%|██▌       | 126/504 [24:25<1:17:32, 12.31s/it]"
     ]
    },
    {
     "name": "stdout",
     "output_type": "stream",
     "text": [
      "{'loss': 0.1384, 'grad_norm': 1.7980495691299438, 'learning_rate': 3.7500000000000003e-05, 'epoch': 0.75}\n"
     ]
    },
    {
     "name": "stderr",
     "output_type": "stream",
     "text": [
      " 25%|██▌       | 128/504 [24:49<1:16:08, 12.15s/it]"
     ]
    },
    {
     "name": "stdout",
     "output_type": "stream",
     "text": [
      "{'loss': 0.2271, 'grad_norm': 2.0705435276031494, 'learning_rate': 3.730158730158731e-05, 'epoch': 0.76}\n"
     ]
    },
    {
     "name": "stderr",
     "output_type": "stream",
     "text": [
      " 26%|██▌       | 130/504 [25:12<1:13:43, 11.83s/it]"
     ]
    },
    {
     "name": "stdout",
     "output_type": "stream",
     "text": [
      "{'loss': 0.1088, 'grad_norm': 2.6126067638397217, 'learning_rate': 3.7103174603174604e-05, 'epoch': 0.77}\n"
     ]
    },
    {
     "name": "stderr",
     "output_type": "stream",
     "text": [
      " 26%|██▌       | 132/504 [25:36<1:13:40, 11.88s/it]"
     ]
    },
    {
     "name": "stdout",
     "output_type": "stream",
     "text": [
      "{'loss': 0.1538, 'grad_norm': 3.5481202602386475, 'learning_rate': 3.690476190476191e-05, 'epoch': 0.79}\n"
     ]
    },
    {
     "name": "stderr",
     "output_type": "stream",
     "text": [
      " 27%|██▋       | 134/504 [25:59<1:12:55, 11.82s/it]"
     ]
    },
    {
     "name": "stdout",
     "output_type": "stream",
     "text": [
      "{'loss': 0.2869, 'grad_norm': 12.464423179626465, 'learning_rate': 3.6706349206349205e-05, 'epoch': 0.8}\n"
     ]
    },
    {
     "name": "stderr",
     "output_type": "stream",
     "text": [
      " 27%|██▋       | 136/504 [26:23<1:12:34, 11.83s/it]"
     ]
    },
    {
     "name": "stdout",
     "output_type": "stream",
     "text": [
      "{'loss': 0.292, 'grad_norm': 2.7755672931671143, 'learning_rate': 3.650793650793651e-05, 'epoch': 0.81}\n"
     ]
    },
    {
     "name": "stderr",
     "output_type": "stream",
     "text": [
      " 27%|██▋       | 138/504 [26:47<1:12:06, 11.82s/it]"
     ]
    },
    {
     "name": "stdout",
     "output_type": "stream",
     "text": [
      "{'loss': 0.1732, 'grad_norm': 1.988230586051941, 'learning_rate': 3.630952380952381e-05, 'epoch': 0.82}\n"
     ]
    },
    {
     "name": "stderr",
     "output_type": "stream",
     "text": [
      " 28%|██▊       | 140/504 [27:10<1:10:40, 11.65s/it]"
     ]
    },
    {
     "name": "stdout",
     "output_type": "stream",
     "text": [
      "{'loss': 0.1579, 'grad_norm': 2.652527332305908, 'learning_rate': 3.611111111111111e-05, 'epoch': 0.83}\n"
     ]
    },
    {
     "name": "stderr",
     "output_type": "stream",
     "text": [
      " 28%|██▊       | 142/504 [27:34<1:11:37, 11.87s/it]"
     ]
    },
    {
     "name": "stdout",
     "output_type": "stream",
     "text": [
      "{'loss': 0.0906, 'grad_norm': 1.1687625646591187, 'learning_rate': 3.591269841269841e-05, 'epoch': 0.85}\n"
     ]
    },
    {
     "name": "stderr",
     "output_type": "stream",
     "text": [
      " 29%|██▊       | 144/504 [27:56<1:08:51, 11.48s/it]"
     ]
    },
    {
     "name": "stdout",
     "output_type": "stream",
     "text": [
      "{'loss': 0.2591, 'grad_norm': 2.615457057952881, 'learning_rate': 3.571428571428572e-05, 'epoch': 0.86}\n"
     ]
    },
    {
     "name": "stderr",
     "output_type": "stream",
     "text": [
      " 29%|██▉       | 146/504 [28:19<1:08:43, 11.52s/it]"
     ]
    },
    {
     "name": "stdout",
     "output_type": "stream",
     "text": [
      "{'loss': 0.2393, 'grad_norm': 2.459632158279419, 'learning_rate': 3.551587301587302e-05, 'epoch': 0.87}\n"
     ]
    },
    {
     "name": "stderr",
     "output_type": "stream",
     "text": [
      " 29%|██▉       | 148/504 [28:42<1:07:53, 11.44s/it]"
     ]
    },
    {
     "name": "stdout",
     "output_type": "stream",
     "text": [
      "{'loss': 0.2139, 'grad_norm': 1.4784178733825684, 'learning_rate': 3.5317460317460324e-05, 'epoch': 0.88}\n"
     ]
    },
    {
     "name": "stderr",
     "output_type": "stream",
     "text": [
      " 30%|██▉       | 150/504 [29:05<1:07:31, 11.45s/it]"
     ]
    },
    {
     "name": "stdout",
     "output_type": "stream",
     "text": [
      "{'loss': 0.1933, 'grad_norm': 2.2031357288360596, 'learning_rate': 3.511904761904762e-05, 'epoch': 0.89}\n"
     ]
    },
    {
     "name": "stderr",
     "output_type": "stream",
     "text": [
      " 30%|███       | 152/504 [29:29<1:09:54, 11.92s/it]"
     ]
    },
    {
     "name": "stdout",
     "output_type": "stream",
     "text": [
      "{'loss': 0.1877, 'grad_norm': 2.6975085735321045, 'learning_rate': 3.492063492063492e-05, 'epoch': 0.9}\n"
     ]
    },
    {
     "name": "stderr",
     "output_type": "stream",
     "text": [
      " 31%|███       | 154/504 [29:52<1:08:15, 11.70s/it]"
     ]
    },
    {
     "name": "stdout",
     "output_type": "stream",
     "text": [
      "{'loss': 0.1855, 'grad_norm': 3.1826319694519043, 'learning_rate': 3.472222222222222e-05, 'epoch': 0.92}\n"
     ]
    },
    {
     "name": "stderr",
     "output_type": "stream",
     "text": [
      " 31%|███       | 156/504 [30:15<1:07:27, 11.63s/it]"
     ]
    },
    {
     "name": "stdout",
     "output_type": "stream",
     "text": [
      "{'loss': 0.3052, 'grad_norm': 2.8348228931427, 'learning_rate': 3.4523809523809526e-05, 'epoch': 0.93}\n"
     ]
    },
    {
     "name": "stderr",
     "output_type": "stream",
     "text": [
      " 31%|███▏      | 158/504 [30:38<1:06:12, 11.48s/it]"
     ]
    },
    {
     "name": "stdout",
     "output_type": "stream",
     "text": [
      "{'loss': 0.147, 'grad_norm': 2.3153810501098633, 'learning_rate': 3.432539682539683e-05, 'epoch': 0.94}\n"
     ]
    },
    {
     "name": "stderr",
     "output_type": "stream",
     "text": [
      " 32%|███▏      | 160/504 [31:01<1:04:58, 11.33s/it]"
     ]
    },
    {
     "name": "stdout",
     "output_type": "stream",
     "text": [
      "{'loss': 0.0757, 'grad_norm': 1.2598754167556763, 'learning_rate': 3.412698412698413e-05, 'epoch': 0.95}\n"
     ]
    },
    {
     "name": "stderr",
     "output_type": "stream",
     "text": [
      " 32%|███▏      | 162/504 [31:22<1:03:04, 11.07s/it]"
     ]
    },
    {
     "name": "stdout",
     "output_type": "stream",
     "text": [
      "{'loss': 0.237, 'grad_norm': 2.6589555740356445, 'learning_rate': 3.392857142857143e-05, 'epoch': 0.96}\n"
     ]
    },
    {
     "name": "stderr",
     "output_type": "stream",
     "text": [
      " 33%|███▎      | 164/504 [31:44<1:02:18, 11.00s/it]"
     ]
    },
    {
     "name": "stdout",
     "output_type": "stream",
     "text": [
      "{'loss': 0.1565, 'grad_norm': 1.997422456741333, 'learning_rate': 3.3730158730158734e-05, 'epoch': 0.98}\n"
     ]
    },
    {
     "name": "stderr",
     "output_type": "stream",
     "text": [
      " 33%|███▎      | 166/504 [32:06<1:02:18, 11.06s/it]"
     ]
    },
    {
     "name": "stdout",
     "output_type": "stream",
     "text": [
      "{'loss': 0.1372, 'grad_norm': 1.3858586549758911, 'learning_rate': 3.353174603174603e-05, 'epoch': 0.99}\n"
     ]
    },
    {
     "name": "stderr",
     "output_type": "stream",
     "text": [
      " 33%|███▎      | 168/504 [32:28<1:01:35, 11.00s/it]"
     ]
    },
    {
     "name": "stdout",
     "output_type": "stream",
     "text": [
      "{'loss': 0.1438, 'grad_norm': 1.5845214128494263, 'learning_rate': 3.3333333333333335e-05, 'epoch': 1.0}\n"
     ]
    },
    {
     "name": "stderr",
     "output_type": "stream",
     "text": [
      " 34%|███▎      | 170/504 [32:50<1:01:16, 11.01s/it]"
     ]
    },
    {
     "name": "stdout",
     "output_type": "stream",
     "text": [
      "{'loss': 0.0813, 'grad_norm': 1.1982430219650269, 'learning_rate': 3.313492063492064e-05, 'epoch': 1.01}\n"
     ]
    },
    {
     "name": "stderr",
     "output_type": "stream",
     "text": [
      " 34%|███▍      | 172/504 [33:13<1:01:27, 11.11s/it]"
     ]
    },
    {
     "name": "stdout",
     "output_type": "stream",
     "text": [
      "{'loss': 0.0406, 'grad_norm': 14.960155487060547, 'learning_rate': 3.2936507936507936e-05, 'epoch': 1.02}\n"
     ]
    },
    {
     "name": "stderr",
     "output_type": "stream",
     "text": [
      " 35%|███▍      | 174/504 [33:35<1:01:01, 11.10s/it]"
     ]
    },
    {
     "name": "stdout",
     "output_type": "stream",
     "text": [
      "{'loss': 0.039, 'grad_norm': 1.846452236175537, 'learning_rate': 3.273809523809524e-05, 'epoch': 1.04}\n"
     ]
    },
    {
     "name": "stderr",
     "output_type": "stream",
     "text": [
      " 35%|███▍      | 176/504 [33:57<1:00:54, 11.14s/it]"
     ]
    },
    {
     "name": "stdout",
     "output_type": "stream",
     "text": [
      "{'loss': 0.0846, 'grad_norm': 1.4849069118499756, 'learning_rate': 3.253968253968254e-05, 'epoch': 1.05}\n"
     ]
    },
    {
     "name": "stderr",
     "output_type": "stream",
     "text": [
      " 35%|███▌      | 178/504 [34:20<1:01:26, 11.31s/it]"
     ]
    },
    {
     "name": "stdout",
     "output_type": "stream",
     "text": [
      "{'loss': 0.2069, 'grad_norm': 0.9807093739509583, 'learning_rate': 3.234126984126985e-05, 'epoch': 1.06}\n"
     ]
    },
    {
     "name": "stderr",
     "output_type": "stream",
     "text": [
      " 36%|███▌      | 180/504 [34:43<1:01:03, 11.31s/it]"
     ]
    },
    {
     "name": "stdout",
     "output_type": "stream",
     "text": [
      "{'loss': 0.0299, 'grad_norm': 0.8520599007606506, 'learning_rate': 3.2142857142857144e-05, 'epoch': 1.07}\n"
     ]
    },
    {
     "name": "stderr",
     "output_type": "stream",
     "text": [
      " 36%|███▌      | 182/504 [35:06<1:01:37, 11.48s/it]"
     ]
    },
    {
     "name": "stdout",
     "output_type": "stream",
     "text": [
      "{'loss': 0.0612, 'grad_norm': 1.5001047849655151, 'learning_rate': 3.194444444444444e-05, 'epoch': 1.08}\n"
     ]
    },
    {
     "name": "stderr",
     "output_type": "stream",
     "text": [
      " 37%|███▋      | 184/504 [35:29<1:00:41, 11.38s/it]"
     ]
    },
    {
     "name": "stdout",
     "output_type": "stream",
     "text": [
      "{'loss': 0.08, 'grad_norm': 1.1738194227218628, 'learning_rate': 3.1746031746031745e-05, 'epoch': 1.1}\n"
     ]
    },
    {
     "name": "stderr",
     "output_type": "stream",
     "text": [
      " 37%|███▋      | 186/504 [35:51<1:00:05, 11.34s/it]"
     ]
    },
    {
     "name": "stdout",
     "output_type": "stream",
     "text": [
      "{'loss': 0.0568, 'grad_norm': 1.2978730201721191, 'learning_rate': 3.154761904761905e-05, 'epoch': 1.11}\n"
     ]
    },
    {
     "name": "stderr",
     "output_type": "stream",
     "text": [
      " 37%|███▋      | 188/504 [36:14<59:29, 11.30s/it]  "
     ]
    },
    {
     "name": "stdout",
     "output_type": "stream",
     "text": [
      "{'loss': 0.1325, 'grad_norm': 0.6824354529380798, 'learning_rate': 3.134920634920635e-05, 'epoch': 1.12}\n"
     ]
    },
    {
     "name": "stderr",
     "output_type": "stream",
     "text": [
      " 38%|███▊      | 190/504 [36:38<1:01:09, 11.69s/it]"
     ]
    },
    {
     "name": "stdout",
     "output_type": "stream",
     "text": [
      "{'loss': 0.0707, 'grad_norm': 1.1188812255859375, 'learning_rate': 3.1150793650793656e-05, 'epoch': 1.13}\n"
     ]
    },
    {
     "name": "stderr",
     "output_type": "stream",
     "text": [
      " 38%|███▊      | 192/504 [37:01<1:00:16, 11.59s/it]"
     ]
    },
    {
     "name": "stdout",
     "output_type": "stream",
     "text": [
      "{'loss': 0.0499, 'grad_norm': 1.3679906129837036, 'learning_rate': 3.095238095238095e-05, 'epoch': 1.14}\n"
     ]
    },
    {
     "name": "stderr",
     "output_type": "stream",
     "text": [
      " 38%|███▊      | 194/504 [37:24<59:07, 11.45s/it]  "
     ]
    },
    {
     "name": "stdout",
     "output_type": "stream",
     "text": [
      "{'loss': 0.0738, 'grad_norm': 0.5948514342308044, 'learning_rate': 3.075396825396826e-05, 'epoch': 1.15}\n"
     ]
    },
    {
     "name": "stderr",
     "output_type": "stream",
     "text": [
      " 39%|███▉      | 196/504 [37:45<57:09, 11.13s/it]"
     ]
    },
    {
     "name": "stdout",
     "output_type": "stream",
     "text": [
      "{'loss': 0.1187, 'grad_norm': 1.4085664749145508, 'learning_rate': 3.055555555555556e-05, 'epoch': 1.17}\n"
     ]
    },
    {
     "name": "stderr",
     "output_type": "stream",
     "text": [
      " 39%|███▉      | 198/504 [38:10<1:00:34, 11.88s/it]"
     ]
    },
    {
     "name": "stdout",
     "output_type": "stream",
     "text": [
      "{'loss': 0.0643, 'grad_norm': 1.1306462287902832, 'learning_rate': 3.0357142857142857e-05, 'epoch': 1.18}\n"
     ]
    },
    {
     "name": "stderr",
     "output_type": "stream",
     "text": [
      " 40%|███▉      | 200/504 [38:35<1:00:49, 12.00s/it]"
     ]
    },
    {
     "name": "stdout",
     "output_type": "stream",
     "text": [
      "{'loss': 0.0278, 'grad_norm': 0.35041627287864685, 'learning_rate': 3.0158730158730158e-05, 'epoch': 1.19}\n"
     ]
    },
    {
     "name": "stderr",
     "output_type": "stream",
     "text": [
      "                                                   \n",
      " 40%|███▉      | 200/504 [1:11:47<1:00:49, 12.00s/it]"
     ]
    },
    {
     "name": "stdout",
     "output_type": "stream",
     "text": [
      "{'eval_loss': 0.16227935254573822, 'eval_cer': 0.06696474992201311, 'eval_runtime': 1992.7235, 'eval_samples_per_second': 0.169, 'eval_steps_per_second': 0.022, 'epoch': 1.19}\n"
     ]
    },
    {
     "name": "stderr",
     "output_type": "stream",
     "text": [
      " 40%|████      | 202/504 [1:12:10<36:04:49, 430.10s/it]"
     ]
    },
    {
     "name": "stdout",
     "output_type": "stream",
     "text": [
      "{'loss': 0.1033, 'grad_norm': 0.38943666219711304, 'learning_rate': 2.996031746031746e-05, 'epoch': 1.2}\n"
     ]
    },
    {
     "name": "stderr",
     "output_type": "stream",
     "text": [
      " 40%|████      | 204/504 [1:12:37<18:07:52, 217.58s/it]"
     ]
    },
    {
     "name": "stdout",
     "output_type": "stream",
     "text": [
      "{'loss': 0.0257, 'grad_norm': 0.7681599259376526, 'learning_rate': 2.9761904761904762e-05, 'epoch': 1.21}\n"
     ]
    },
    {
     "name": "stderr",
     "output_type": "stream",
     "text": [
      " 41%|████      | 206/504 [1:13:01<9:21:03, 112.96s/it] "
     ]
    },
    {
     "name": "stdout",
     "output_type": "stream",
     "text": [
      "{'loss': 0.0465, 'grad_norm': 0.9456906914710999, 'learning_rate': 2.9563492063492066e-05, 'epoch': 1.23}\n"
     ]
    },
    {
     "name": "stderr",
     "output_type": "stream",
     "text": [
      " 41%|████▏     | 208/504 [1:13:25<5:03:19, 61.49s/it] "
     ]
    },
    {
     "name": "stdout",
     "output_type": "stream",
     "text": [
      "{'loss': 0.0722, 'grad_norm': 2.860952377319336, 'learning_rate': 2.9365079365079366e-05, 'epoch': 1.24}\n"
     ]
    },
    {
     "name": "stderr",
     "output_type": "stream",
     "text": [
      " 42%|████▏     | 210/504 [1:13:52<3:00:27, 36.83s/it]"
     ]
    },
    {
     "name": "stdout",
     "output_type": "stream",
     "text": [
      "{'loss': 0.1363, 'grad_norm': 1.012251615524292, 'learning_rate': 2.916666666666667e-05, 'epoch': 1.25}\n"
     ]
    },
    {
     "name": "stderr",
     "output_type": "stream",
     "text": [
      " 42%|████▏     | 212/504 [1:14:15<1:56:13, 23.88s/it]"
     ]
    },
    {
     "name": "stdout",
     "output_type": "stream",
     "text": [
      "{'loss': 0.0666, 'grad_norm': 2.2154009342193604, 'learning_rate': 2.8968253968253974e-05, 'epoch': 1.26}\n"
     ]
    },
    {
     "name": "stderr",
     "output_type": "stream",
     "text": [
      " 42%|████▏     | 214/504 [1:14:43<1:30:13, 18.67s/it]"
     ]
    },
    {
     "name": "stdout",
     "output_type": "stream",
     "text": [
      "{'loss': 0.0889, 'grad_norm': 1.487865686416626, 'learning_rate': 2.876984126984127e-05, 'epoch': 1.27}\n"
     ]
    },
    {
     "name": "stderr",
     "output_type": "stream",
     "text": [
      " 43%|████▎     | 216/504 [1:15:07<1:13:05, 15.23s/it]"
     ]
    },
    {
     "name": "stdout",
     "output_type": "stream",
     "text": [
      "{'loss': 0.0464, 'grad_norm': 1.2475255727767944, 'learning_rate': 2.857142857142857e-05, 'epoch': 1.29}\n"
     ]
    },
    {
     "name": "stderr",
     "output_type": "stream",
     "text": [
      " 43%|████▎     | 218/504 [1:15:34<1:10:16, 14.74s/it]"
     ]
    },
    {
     "name": "stdout",
     "output_type": "stream",
     "text": [
      "{'loss': 0.0954, 'grad_norm': 1.501086711883545, 'learning_rate': 2.8373015873015875e-05, 'epoch': 1.3}\n"
     ]
    },
    {
     "name": "stderr",
     "output_type": "stream",
     "text": [
      " 44%|████▎     | 220/504 [1:16:04<1:09:30, 14.68s/it]"
     ]
    },
    {
     "name": "stdout",
     "output_type": "stream",
     "text": [
      "{'loss': 0.0667, 'grad_norm': 0.9707135558128357, 'learning_rate': 2.8174603174603175e-05, 'epoch': 1.31}\n"
     ]
    },
    {
     "name": "stderr",
     "output_type": "stream",
     "text": [
      " 44%|████▍     | 222/504 [1:16:28<1:02:42, 13.34s/it]"
     ]
    },
    {
     "name": "stdout",
     "output_type": "stream",
     "text": [
      "{'loss': 0.0657, 'grad_norm': 1.0798590183258057, 'learning_rate': 2.797619047619048e-05, 'epoch': 1.32}\n"
     ]
    },
    {
     "name": "stderr",
     "output_type": "stream",
     "text": [
      " 44%|████▍     | 224/504 [1:16:53<59:05, 12.66s/it]  "
     ]
    },
    {
     "name": "stdout",
     "output_type": "stream",
     "text": [
      "{'loss': 0.0756, 'grad_norm': 1.5279685258865356, 'learning_rate': 2.777777777777778e-05, 'epoch': 1.33}\n"
     ]
    },
    {
     "name": "stderr",
     "output_type": "stream",
     "text": [
      " 45%|████▍     | 226/504 [1:17:15<55:14, 11.92s/it]"
     ]
    },
    {
     "name": "stdout",
     "output_type": "stream",
     "text": [
      "{'loss': 0.0702, 'grad_norm': 1.2893755435943604, 'learning_rate': 2.7579365079365083e-05, 'epoch': 1.35}\n"
     ]
    },
    {
     "name": "stderr",
     "output_type": "stream",
     "text": [
      " 45%|████▌     | 228/504 [1:17:38<54:06, 11.76s/it]"
     ]
    },
    {
     "name": "stdout",
     "output_type": "stream",
     "text": [
      "{'loss': 0.1001, 'grad_norm': 28.477825164794922, 'learning_rate': 2.7380952380952383e-05, 'epoch': 1.36}\n"
     ]
    },
    {
     "name": "stderr",
     "output_type": "stream",
     "text": [
      " 46%|████▌     | 230/504 [1:18:00<52:00, 11.39s/it]"
     ]
    },
    {
     "name": "stdout",
     "output_type": "stream",
     "text": [
      "{'loss': 0.1593, 'grad_norm': 0.7807213068008423, 'learning_rate': 2.718253968253968e-05, 'epoch': 1.37}\n"
     ]
    },
    {
     "name": "stderr",
     "output_type": "stream",
     "text": [
      " 46%|████▌     | 232/504 [1:18:25<54:42, 12.07s/it]"
     ]
    },
    {
     "name": "stdout",
     "output_type": "stream",
     "text": [
      "{'loss': 0.0364, 'grad_norm': 1.6106408834457397, 'learning_rate': 2.6984126984126984e-05, 'epoch': 1.38}\n"
     ]
    },
    {
     "name": "stderr",
     "output_type": "stream",
     "text": [
      " 46%|████▋     | 234/504 [1:18:53<58:54, 13.09s/it]"
     ]
    },
    {
     "name": "stdout",
     "output_type": "stream",
     "text": [
      "{'loss': 0.0747, 'grad_norm': 1.132495403289795, 'learning_rate': 2.6785714285714288e-05, 'epoch': 1.39}\n"
     ]
    },
    {
     "name": "stderr",
     "output_type": "stream",
     "text": [
      " 47%|████▋     | 236/504 [1:19:18<56:08, 12.57s/it]"
     ]
    },
    {
     "name": "stdout",
     "output_type": "stream",
     "text": [
      "{'loss': 0.0271, 'grad_norm': 0.6707450151443481, 'learning_rate': 2.6587301587301588e-05, 'epoch': 1.4}\n"
     ]
    },
    {
     "name": "stderr",
     "output_type": "stream",
     "text": [
      " 47%|████▋     | 238/504 [1:19:41<53:35, 12.09s/it]"
     ]
    },
    {
     "name": "stdout",
     "output_type": "stream",
     "text": [
      "{'loss': 0.0339, 'grad_norm': 1.0807442665100098, 'learning_rate': 2.6388888888888892e-05, 'epoch': 1.42}\n"
     ]
    },
    {
     "name": "stderr",
     "output_type": "stream",
     "text": [
      " 48%|████▊     | 240/504 [1:20:10<58:11, 13.22s/it]"
     ]
    },
    {
     "name": "stdout",
     "output_type": "stream",
     "text": [
      "{'loss': 0.0322, 'grad_norm': 0.47639742493629456, 'learning_rate': 2.6190476190476192e-05, 'epoch': 1.43}\n"
     ]
    },
    {
     "name": "stderr",
     "output_type": "stream",
     "text": [
      " 48%|████▊     | 242/504 [1:20:33<54:21, 12.45s/it]"
     ]
    },
    {
     "name": "stdout",
     "output_type": "stream",
     "text": [
      "{'loss': 0.0552, 'grad_norm': 0.9965709447860718, 'learning_rate': 2.5992063492063496e-05, 'epoch': 1.44}\n"
     ]
    },
    {
     "name": "stderr",
     "output_type": "stream",
     "text": [
      " 48%|████▊     | 244/504 [1:20:57<52:46, 12.18s/it]"
     ]
    },
    {
     "name": "stdout",
     "output_type": "stream",
     "text": [
      "{'loss': 0.0826, 'grad_norm': 1.7626875638961792, 'learning_rate': 2.5793650793650796e-05, 'epoch': 1.45}\n"
     ]
    },
    {
     "name": "stderr",
     "output_type": "stream",
     "text": [
      " 49%|████▉     | 246/504 [1:21:23<54:01, 12.57s/it]"
     ]
    },
    {
     "name": "stdout",
     "output_type": "stream",
     "text": [
      "{'loss': 0.0751, 'grad_norm': 1.1055527925491333, 'learning_rate': 2.5595238095238093e-05, 'epoch': 1.46}\n"
     ]
    },
    {
     "name": "stderr",
     "output_type": "stream",
     "text": [
      " 49%|████▉     | 248/504 [1:21:51<56:15, 13.19s/it]"
     ]
    },
    {
     "name": "stdout",
     "output_type": "stream",
     "text": [
      "{'loss': 0.1204, 'grad_norm': 1.5527137517929077, 'learning_rate': 2.5396825396825397e-05, 'epoch': 1.48}\n"
     ]
    },
    {
     "name": "stderr",
     "output_type": "stream",
     "text": [
      " 50%|████▉     | 250/504 [1:22:18<56:36, 13.37s/it]"
     ]
    },
    {
     "name": "stdout",
     "output_type": "stream",
     "text": [
      "{'loss': 0.0286, 'grad_norm': 0.8651438355445862, 'learning_rate': 2.5198412698412697e-05, 'epoch': 1.49}\n"
     ]
    },
    {
     "name": "stderr",
     "output_type": "stream",
     "text": [
      " 50%|█████     | 252/504 [1:22:43<54:23, 12.95s/it]"
     ]
    },
    {
     "name": "stdout",
     "output_type": "stream",
     "text": [
      "{'loss': 0.1043, 'grad_norm': 3.5733041763305664, 'learning_rate': 2.5e-05, 'epoch': 1.5}\n"
     ]
    },
    {
     "name": "stderr",
     "output_type": "stream",
     "text": [
      " 50%|█████     | 254/504 [1:23:10<54:56, 13.19s/it]"
     ]
    },
    {
     "name": "stdout",
     "output_type": "stream",
     "text": [
      "{'loss': 0.0665, 'grad_norm': 2.0496904850006104, 'learning_rate': 2.4801587301587305e-05, 'epoch': 1.51}\n"
     ]
    },
    {
     "name": "stderr",
     "output_type": "stream",
     "text": [
      " 51%|█████     | 256/504 [1:23:35<53:19, 12.90s/it]"
     ]
    },
    {
     "name": "stdout",
     "output_type": "stream",
     "text": [
      "{'loss': 0.1249, 'grad_norm': 1.0070422887802124, 'learning_rate': 2.4603174603174602e-05, 'epoch': 1.52}\n"
     ]
    },
    {
     "name": "stderr",
     "output_type": "stream",
     "text": [
      " 51%|█████     | 258/504 [1:24:01<52:27, 12.80s/it]"
     ]
    },
    {
     "name": "stdout",
     "output_type": "stream",
     "text": [
      "{'loss': 0.065, 'grad_norm': 4.387132167816162, 'learning_rate': 2.4404761904761906e-05, 'epoch': 1.54}\n"
     ]
    },
    {
     "name": "stderr",
     "output_type": "stream",
     "text": [
      " 52%|█████▏    | 260/504 [1:24:24<49:36, 12.20s/it]"
     ]
    },
    {
     "name": "stdout",
     "output_type": "stream",
     "text": [
      "{'loss': 0.1144, 'grad_norm': 1.5842318534851074, 'learning_rate': 2.4206349206349206e-05, 'epoch': 1.55}\n"
     ]
    },
    {
     "name": "stderr",
     "output_type": "stream",
     "text": [
      " 52%|█████▏    | 262/504 [1:24:46<46:45, 11.59s/it]"
     ]
    },
    {
     "name": "stdout",
     "output_type": "stream",
     "text": [
      "{'loss': 0.0744, 'grad_norm': 1.4790074825286865, 'learning_rate': 2.400793650793651e-05, 'epoch': 1.56}\n"
     ]
    },
    {
     "name": "stderr",
     "output_type": "stream",
     "text": [
      " 52%|█████▏    | 264/504 [1:25:09<45:47, 11.45s/it]"
     ]
    },
    {
     "name": "stdout",
     "output_type": "stream",
     "text": [
      "{'loss': 0.0285, 'grad_norm': 0.9718909859657288, 'learning_rate': 2.380952380952381e-05, 'epoch': 1.57}\n"
     ]
    },
    {
     "name": "stderr",
     "output_type": "stream",
     "text": [
      " 53%|█████▎    | 266/504 [1:25:36<49:30, 12.48s/it]"
     ]
    },
    {
     "name": "stdout",
     "output_type": "stream",
     "text": [
      "{'loss': 0.0504, 'grad_norm': 0.7825841307640076, 'learning_rate': 2.361111111111111e-05, 'epoch': 1.58}\n"
     ]
    },
    {
     "name": "stderr",
     "output_type": "stream",
     "text": [
      " 53%|█████▎    | 268/504 [1:26:03<50:41, 12.89s/it]"
     ]
    },
    {
     "name": "stdout",
     "output_type": "stream",
     "text": [
      "{'loss': 0.0896, 'grad_norm': 5.288191318511963, 'learning_rate': 2.3412698412698414e-05, 'epoch': 1.6}\n"
     ]
    },
    {
     "name": "stderr",
     "output_type": "stream",
     "text": [
      " 54%|█████▎    | 270/504 [1:26:25<46:33, 11.94s/it]"
     ]
    },
    {
     "name": "stdout",
     "output_type": "stream",
     "text": [
      "{'loss': 0.0402, 'grad_norm': 2.997694492340088, 'learning_rate': 2.3214285714285715e-05, 'epoch': 1.61}\n"
     ]
    },
    {
     "name": "stderr",
     "output_type": "stream",
     "text": [
      " 54%|█████▍    | 272/504 [1:26:49<45:24, 11.74s/it]"
     ]
    },
    {
     "name": "stdout",
     "output_type": "stream",
     "text": [
      "{'loss': 0.0652, 'grad_norm': 1.7108559608459473, 'learning_rate': 2.3015873015873015e-05, 'epoch': 1.62}\n"
     ]
    },
    {
     "name": "stderr",
     "output_type": "stream",
     "text": [
      " 54%|█████▍    | 274/504 [1:27:11<44:03, 11.49s/it]"
     ]
    },
    {
     "name": "stdout",
     "output_type": "stream",
     "text": [
      "{'loss': 0.063, 'grad_norm': 1.3634666204452515, 'learning_rate': 2.281746031746032e-05, 'epoch': 1.63}\n"
     ]
    },
    {
     "name": "stderr",
     "output_type": "stream",
     "text": [
      " 55%|█████▍    | 276/504 [1:27:33<42:52, 11.28s/it]"
     ]
    },
    {
     "name": "stdout",
     "output_type": "stream",
     "text": [
      "{'loss': 0.2248, 'grad_norm': 1.0815882682800293, 'learning_rate': 2.261904761904762e-05, 'epoch': 1.64}\n"
     ]
    },
    {
     "name": "stderr",
     "output_type": "stream",
     "text": [
      " 55%|█████▌    | 278/504 [1:27:56<42:31, 11.29s/it]"
     ]
    },
    {
     "name": "stdout",
     "output_type": "stream",
     "text": [
      "{'loss': 0.1394, 'grad_norm': 1.03717839717865, 'learning_rate': 2.2420634920634923e-05, 'epoch': 1.65}\n"
     ]
    },
    {
     "name": "stderr",
     "output_type": "stream",
     "text": [
      " 56%|█████▌    | 280/504 [1:28:18<41:49, 11.20s/it]"
     ]
    },
    {
     "name": "stdout",
     "output_type": "stream",
     "text": [
      "{'loss': 0.029, 'grad_norm': 0.6613247990608215, 'learning_rate': 2.2222222222222223e-05, 'epoch': 1.67}\n"
     ]
    },
    {
     "name": "stderr",
     "output_type": "stream",
     "text": [
      " 56%|█████▌    | 282/504 [1:28:46<47:25, 12.82s/it]"
     ]
    },
    {
     "name": "stdout",
     "output_type": "stream",
     "text": [
      "{'loss': 0.0375, 'grad_norm': 0.7320906519889832, 'learning_rate': 2.2023809523809524e-05, 'epoch': 1.68}\n"
     ]
    },
    {
     "name": "stderr",
     "output_type": "stream",
     "text": [
      " 56%|█████▋    | 284/504 [1:29:10<45:23, 12.38s/it]"
     ]
    },
    {
     "name": "stdout",
     "output_type": "stream",
     "text": [
      "{'loss': 0.0711, 'grad_norm': 0.6726363301277161, 'learning_rate': 2.1825396825396827e-05, 'epoch': 1.69}\n"
     ]
    },
    {
     "name": "stderr",
     "output_type": "stream",
     "text": [
      " 57%|█████▋    | 286/504 [1:29:34<44:07, 12.14s/it]"
     ]
    },
    {
     "name": "stdout",
     "output_type": "stream",
     "text": [
      "{'loss': 0.0823, 'grad_norm': 1.2251957654953003, 'learning_rate': 2.1626984126984128e-05, 'epoch': 1.7}\n"
     ]
    },
    {
     "name": "stderr",
     "output_type": "stream",
     "text": [
      " 57%|█████▋    | 288/504 [1:29:58<42:40, 11.86s/it]"
     ]
    },
    {
     "name": "stdout",
     "output_type": "stream",
     "text": [
      "{'loss': 0.0557, 'grad_norm': 1.4079234600067139, 'learning_rate': 2.1428571428571428e-05, 'epoch': 1.71}\n"
     ]
    },
    {
     "name": "stderr",
     "output_type": "stream",
     "text": [
      " 58%|█████▊    | 290/504 [1:30:21<42:24, 11.89s/it]"
     ]
    },
    {
     "name": "stdout",
     "output_type": "stream",
     "text": [
      "{'loss': 0.0443, 'grad_norm': 1.4052067995071411, 'learning_rate': 2.1230158730158732e-05, 'epoch': 1.73}\n"
     ]
    },
    {
     "name": "stderr",
     "output_type": "stream",
     "text": [
      " 58%|█████▊    | 292/504 [1:30:45<42:17, 11.97s/it]"
     ]
    },
    {
     "name": "stdout",
     "output_type": "stream",
     "text": [
      "{'loss': 0.0527, 'grad_norm': 2.274721622467041, 'learning_rate': 2.1031746031746032e-05, 'epoch': 1.74}\n"
     ]
    },
    {
     "name": "stderr",
     "output_type": "stream",
     "text": [
      " 58%|█████▊    | 294/504 [1:31:10<43:21, 12.39s/it]"
     ]
    },
    {
     "name": "stdout",
     "output_type": "stream",
     "text": [
      "{'loss': 0.0355, 'grad_norm': 1.7305972576141357, 'learning_rate': 2.0833333333333336e-05, 'epoch': 1.75}\n"
     ]
    },
    {
     "name": "stderr",
     "output_type": "stream",
     "text": [
      " 59%|█████▊    | 296/504 [1:31:35<42:02, 12.13s/it]"
     ]
    },
    {
     "name": "stdout",
     "output_type": "stream",
     "text": [
      "{'loss': 0.0494, 'grad_norm': 1.064823865890503, 'learning_rate': 2.0634920634920636e-05, 'epoch': 1.76}\n"
     ]
    },
    {
     "name": "stderr",
     "output_type": "stream",
     "text": [
      " 59%|█████▉    | 298/504 [1:31:57<39:46, 11.59s/it]"
     ]
    },
    {
     "name": "stdout",
     "output_type": "stream",
     "text": [
      "{'loss': 0.0393, 'grad_norm': 1.0295851230621338, 'learning_rate': 2.0436507936507937e-05, 'epoch': 1.77}\n"
     ]
    },
    {
     "name": "stderr",
     "output_type": "stream",
     "text": [
      " 60%|█████▉    | 300/504 [1:32:19<38:58, 11.46s/it]"
     ]
    },
    {
     "name": "stdout",
     "output_type": "stream",
     "text": [
      "{'loss': 0.1104, 'grad_norm': 0.940552830696106, 'learning_rate': 2.023809523809524e-05, 'epoch': 1.79}\n"
     ]
    },
    {
     "name": "stderr",
     "output_type": "stream",
     "text": [
      " 60%|█████▉    | 302/504 [1:32:42<38:08, 11.33s/it]"
     ]
    },
    {
     "name": "stdout",
     "output_type": "stream",
     "text": [
      "{'loss': 0.0511, 'grad_norm': 1.4066416025161743, 'learning_rate': 2.003968253968254e-05, 'epoch': 1.8}\n"
     ]
    },
    {
     "name": "stderr",
     "output_type": "stream",
     "text": [
      " 60%|██████    | 304/504 [1:33:04<37:43, 11.32s/it]"
     ]
    },
    {
     "name": "stdout",
     "output_type": "stream",
     "text": [
      "{'loss': 0.05, 'grad_norm': 0.6221312880516052, 'learning_rate': 1.984126984126984e-05, 'epoch': 1.81}\n"
     ]
    },
    {
     "name": "stderr",
     "output_type": "stream",
     "text": [
      " 61%|██████    | 306/504 [1:33:27<37:09, 11.26s/it]"
     ]
    },
    {
     "name": "stdout",
     "output_type": "stream",
     "text": [
      "{'loss': 0.0737, 'grad_norm': 0.8724800944328308, 'learning_rate': 1.9642857142857145e-05, 'epoch': 1.82}\n"
     ]
    },
    {
     "name": "stderr",
     "output_type": "stream",
     "text": [
      " 61%|██████    | 308/504 [1:33:50<37:31, 11.49s/it]"
     ]
    },
    {
     "name": "stdout",
     "output_type": "stream",
     "text": [
      "{'loss': 0.0131, 'grad_norm': 0.06800169497728348, 'learning_rate': 1.9444444444444445e-05, 'epoch': 1.83}\n"
     ]
    },
    {
     "name": "stderr",
     "output_type": "stream",
     "text": [
      " 62%|██████▏   | 310/504 [1:34:13<37:15, 11.52s/it]"
     ]
    },
    {
     "name": "stdout",
     "output_type": "stream",
     "text": [
      "{'loss': 0.0877, 'grad_norm': 3.922541618347168, 'learning_rate': 1.924603174603175e-05, 'epoch': 1.85}\n"
     ]
    },
    {
     "name": "stderr",
     "output_type": "stream",
     "text": [
      " 62%|██████▏   | 312/504 [1:34:37<37:02, 11.57s/it]"
     ]
    },
    {
     "name": "stdout",
     "output_type": "stream",
     "text": [
      "{'loss': 0.0714, 'grad_norm': 2.0883936882019043, 'learning_rate': 1.9047619047619046e-05, 'epoch': 1.86}\n"
     ]
    },
    {
     "name": "stderr",
     "output_type": "stream",
     "text": [
      " 62%|██████▏   | 314/504 [1:35:00<36:24, 11.50s/it]"
     ]
    },
    {
     "name": "stdout",
     "output_type": "stream",
     "text": [
      "{'loss': 0.0666, 'grad_norm': 1.4582041501998901, 'learning_rate': 1.884920634920635e-05, 'epoch': 1.87}\n"
     ]
    },
    {
     "name": "stderr",
     "output_type": "stream",
     "text": [
      " 63%|██████▎   | 316/504 [1:35:26<39:16, 12.53s/it]"
     ]
    },
    {
     "name": "stdout",
     "output_type": "stream",
     "text": [
      "{'loss': 0.0967, 'grad_norm': 1.090659499168396, 'learning_rate': 1.8650793650793654e-05, 'epoch': 1.88}\n"
     ]
    },
    {
     "name": "stderr",
     "output_type": "stream",
     "text": [
      " 63%|██████▎   | 318/504 [1:35:51<38:29, 12.42s/it]"
     ]
    },
    {
     "name": "stdout",
     "output_type": "stream",
     "text": [
      "{'loss': 0.0461, 'grad_norm': 1.1521331071853638, 'learning_rate': 1.8452380952380954e-05, 'epoch': 1.89}\n"
     ]
    },
    {
     "name": "stderr",
     "output_type": "stream",
     "text": [
      " 63%|██████▎   | 320/504 [1:36:15<37:52, 12.35s/it]"
     ]
    },
    {
     "name": "stdout",
     "output_type": "stream",
     "text": [
      "{'loss': 0.0309, 'grad_norm': 0.5303102135658264, 'learning_rate': 1.8253968253968254e-05, 'epoch': 1.9}\n"
     ]
    },
    {
     "name": "stderr",
     "output_type": "stream",
     "text": [
      " 64%|██████▍   | 322/504 [1:36:39<36:22, 11.99s/it]"
     ]
    },
    {
     "name": "stdout",
     "output_type": "stream",
     "text": [
      "{'loss': 0.0682, 'grad_norm': 2.2318108081817627, 'learning_rate': 1.8055555555555555e-05, 'epoch': 1.92}\n"
     ]
    },
    {
     "name": "stderr",
     "output_type": "stream",
     "text": [
      " 64%|██████▍   | 324/504 [1:37:03<35:58, 11.99s/it]"
     ]
    },
    {
     "name": "stdout",
     "output_type": "stream",
     "text": [
      "{'loss': 0.0912, 'grad_norm': 1.5223580598831177, 'learning_rate': 1.785714285714286e-05, 'epoch': 1.93}\n"
     ]
    },
    {
     "name": "stderr",
     "output_type": "stream",
     "text": [
      " 65%|██████▍   | 326/504 [1:37:26<35:21, 11.92s/it]"
     ]
    },
    {
     "name": "stdout",
     "output_type": "stream",
     "text": [
      "{'loss': 0.0267, 'grad_norm': 0.9152346849441528, 'learning_rate': 1.7658730158730162e-05, 'epoch': 1.94}\n"
     ]
    },
    {
     "name": "stderr",
     "output_type": "stream",
     "text": [
      " 65%|██████▌   | 328/504 [1:37:49<34:32, 11.78s/it]"
     ]
    },
    {
     "name": "stdout",
     "output_type": "stream",
     "text": [
      "{'loss': 0.1152, 'grad_norm': 5.895785331726074, 'learning_rate': 1.746031746031746e-05, 'epoch': 1.95}\n"
     ]
    },
    {
     "name": "stderr",
     "output_type": "stream",
     "text": [
      " 65%|██████▌   | 330/504 [1:38:11<33:05, 11.41s/it]"
     ]
    },
    {
     "name": "stdout",
     "output_type": "stream",
     "text": [
      "{'loss': 0.0758, 'grad_norm': 2.269718885421753, 'learning_rate': 1.7261904761904763e-05, 'epoch': 1.96}\n"
     ]
    },
    {
     "name": "stderr",
     "output_type": "stream",
     "text": [
      " 66%|██████▌   | 332/504 [1:38:34<32:21, 11.29s/it]"
     ]
    },
    {
     "name": "stdout",
     "output_type": "stream",
     "text": [
      "{'loss': 0.0165, 'grad_norm': 0.5758682489395142, 'learning_rate': 1.7063492063492063e-05, 'epoch': 1.98}\n"
     ]
    },
    {
     "name": "stderr",
     "output_type": "stream",
     "text": [
      " 66%|██████▋   | 334/504 [1:38:56<31:53, 11.25s/it]"
     ]
    },
    {
     "name": "stdout",
     "output_type": "stream",
     "text": [
      "{'loss': 0.0335, 'grad_norm': 0.349735826253891, 'learning_rate': 1.6865079365079367e-05, 'epoch': 1.99}\n"
     ]
    },
    {
     "name": "stderr",
     "output_type": "stream",
     "text": [
      " 67%|██████▋   | 336/504 [1:39:19<31:55, 11.40s/it]"
     ]
    },
    {
     "name": "stdout",
     "output_type": "stream",
     "text": [
      "{'loss': 0.0598, 'grad_norm': 1.8890931606292725, 'learning_rate': 1.6666666666666667e-05, 'epoch': 2.0}\n"
     ]
    },
    {
     "name": "stderr",
     "output_type": "stream",
     "text": [
      " 67%|██████▋   | 338/504 [1:39:42<31:19, 11.33s/it]"
     ]
    },
    {
     "name": "stdout",
     "output_type": "stream",
     "text": [
      "{'loss': 0.0292, 'grad_norm': 0.3301370143890381, 'learning_rate': 1.6468253968253968e-05, 'epoch': 2.01}\n"
     ]
    },
    {
     "name": "stderr",
     "output_type": "stream",
     "text": [
      " 67%|██████▋   | 340/504 [1:40:08<33:34, 12.28s/it]"
     ]
    },
    {
     "name": "stdout",
     "output_type": "stream",
     "text": [
      "{'loss': 0.0373, 'grad_norm': 0.6919732093811035, 'learning_rate': 1.626984126984127e-05, 'epoch': 2.02}\n"
     ]
    },
    {
     "name": "stderr",
     "output_type": "stream",
     "text": [
      " 68%|██████▊   | 342/504 [1:40:32<33:12, 12.30s/it]"
     ]
    },
    {
     "name": "stdout",
     "output_type": "stream",
     "text": [
      "{'loss': 0.0138, 'grad_norm': 0.3837181329727173, 'learning_rate': 1.6071428571428572e-05, 'epoch': 2.04}\n"
     ]
    },
    {
     "name": "stderr",
     "output_type": "stream",
     "text": [
      " 68%|██████▊   | 344/504 [1:40:55<31:27, 11.80s/it]"
     ]
    },
    {
     "name": "stdout",
     "output_type": "stream",
     "text": [
      "{'loss': 0.0219, 'grad_norm': 0.40964391827583313, 'learning_rate': 1.5873015873015872e-05, 'epoch': 2.05}\n"
     ]
    },
    {
     "name": "stderr",
     "output_type": "stream",
     "text": [
      " 69%|██████▊   | 346/504 [1:41:19<31:11, 11.85s/it]"
     ]
    },
    {
     "name": "stdout",
     "output_type": "stream",
     "text": [
      "{'loss': 0.1537, 'grad_norm': 1.3158351182937622, 'learning_rate': 1.5674603174603176e-05, 'epoch': 2.06}\n"
     ]
    },
    {
     "name": "stderr",
     "output_type": "stream",
     "text": [
      " 69%|██████▉   | 348/504 [1:41:41<29:52, 11.49s/it]"
     ]
    },
    {
     "name": "stdout",
     "output_type": "stream",
     "text": [
      "{'loss': 0.0316, 'grad_norm': 0.3477257490158081, 'learning_rate': 1.5476190476190476e-05, 'epoch': 2.07}\n"
     ]
    },
    {
     "name": "stderr",
     "output_type": "stream",
     "text": [
      " 69%|██████▉   | 350/504 [1:42:07<31:18, 12.20s/it]"
     ]
    },
    {
     "name": "stdout",
     "output_type": "stream",
     "text": [
      "{'loss': 0.0536, 'grad_norm': 1.1889705657958984, 'learning_rate': 1.527777777777778e-05, 'epoch': 2.08}\n"
     ]
    },
    {
     "name": "stderr",
     "output_type": "stream",
     "text": [
      " 70%|██████▉   | 352/504 [1:42:30<30:03, 11.86s/it]"
     ]
    },
    {
     "name": "stdout",
     "output_type": "stream",
     "text": [
      "{'loss': 0.041, 'grad_norm': 13.79543399810791, 'learning_rate': 1.5079365079365079e-05, 'epoch': 2.1}\n"
     ]
    },
    {
     "name": "stderr",
     "output_type": "stream",
     "text": [
      " 70%|███████   | 354/504 [1:42:54<30:07, 12.05s/it]"
     ]
    },
    {
     "name": "stdout",
     "output_type": "stream",
     "text": [
      "{'loss': 0.0427, 'grad_norm': 1.0077273845672607, 'learning_rate': 1.4880952380952381e-05, 'epoch': 2.11}\n"
     ]
    },
    {
     "name": "stderr",
     "output_type": "stream",
     "text": [
      " 71%|███████   | 356/504 [1:43:18<29:16, 11.87s/it]"
     ]
    },
    {
     "name": "stdout",
     "output_type": "stream",
     "text": [
      "{'loss': 0.0159, 'grad_norm': 0.5649654865264893, 'learning_rate': 1.4682539682539683e-05, 'epoch': 2.12}\n"
     ]
    },
    {
     "name": "stderr",
     "output_type": "stream",
     "text": [
      " 71%|███████   | 358/504 [1:43:43<29:25, 12.09s/it]"
     ]
    },
    {
     "name": "stdout",
     "output_type": "stream",
     "text": [
      "{'loss': 0.0172, 'grad_norm': 0.21220563352108002, 'learning_rate': 1.4484126984126987e-05, 'epoch': 2.13}\n"
     ]
    },
    {
     "name": "stderr",
     "output_type": "stream",
     "text": [
      " 71%|███████▏  | 360/504 [1:44:07<29:08, 12.14s/it]"
     ]
    },
    {
     "name": "stdout",
     "output_type": "stream",
     "text": [
      "{'loss': 0.0194, 'grad_norm': 1.2248075008392334, 'learning_rate': 1.4285714285714285e-05, 'epoch': 2.14}\n"
     ]
    },
    {
     "name": "stderr",
     "output_type": "stream",
     "text": [
      " 72%|███████▏  | 362/504 [1:44:30<27:59, 11.83s/it]"
     ]
    },
    {
     "name": "stdout",
     "output_type": "stream",
     "text": [
      "{'loss': 0.0109, 'grad_norm': 3.7056100368499756, 'learning_rate': 1.4087301587301587e-05, 'epoch': 2.15}\n"
     ]
    },
    {
     "name": "stderr",
     "output_type": "stream",
     "text": [
      " 72%|███████▏  | 364/504 [1:44:54<27:41, 11.87s/it]"
     ]
    },
    {
     "name": "stdout",
     "output_type": "stream",
     "text": [
      "{'loss': 0.0112, 'grad_norm': 0.5253272652626038, 'learning_rate': 1.388888888888889e-05, 'epoch': 2.17}\n"
     ]
    },
    {
     "name": "stderr",
     "output_type": "stream",
     "text": [
      " 73%|███████▎  | 366/504 [1:45:16<26:30, 11.53s/it]"
     ]
    },
    {
     "name": "stdout",
     "output_type": "stream",
     "text": [
      "{'loss': 0.0291, 'grad_norm': 2.7253940105438232, 'learning_rate': 1.3690476190476192e-05, 'epoch': 2.18}\n"
     ]
    },
    {
     "name": "stderr",
     "output_type": "stream",
     "text": [
      " 73%|███████▎  | 368/504 [1:45:39<25:45, 11.36s/it]"
     ]
    },
    {
     "name": "stdout",
     "output_type": "stream",
     "text": [
      "{'loss': 0.0096, 'grad_norm': 0.49161842465400696, 'learning_rate': 1.3492063492063492e-05, 'epoch': 2.19}\n"
     ]
    },
    {
     "name": "stderr",
     "output_type": "stream",
     "text": [
      " 73%|███████▎  | 370/504 [1:46:01<25:22, 11.36s/it]"
     ]
    },
    {
     "name": "stdout",
     "output_type": "stream",
     "text": [
      "{'loss': 0.0383, 'grad_norm': 0.6304593086242676, 'learning_rate': 1.3293650793650794e-05, 'epoch': 2.2}\n"
     ]
    },
    {
     "name": "stderr",
     "output_type": "stream",
     "text": [
      " 74%|███████▍  | 372/504 [1:46:23<24:36, 11.18s/it]"
     ]
    },
    {
     "name": "stdout",
     "output_type": "stream",
     "text": [
      "{'loss': 0.0266, 'grad_norm': 0.32825663685798645, 'learning_rate': 1.3095238095238096e-05, 'epoch': 2.21}\n"
     ]
    },
    {
     "name": "stderr",
     "output_type": "stream",
     "text": [
      " 74%|███████▍  | 374/504 [1:46:47<24:49, 11.46s/it]"
     ]
    },
    {
     "name": "stdout",
     "output_type": "stream",
     "text": [
      "{'loss': 0.0104, 'grad_norm': 0.3307451903820038, 'learning_rate': 1.2896825396825398e-05, 'epoch': 2.23}\n"
     ]
    },
    {
     "name": "stderr",
     "output_type": "stream",
     "text": [
      " 75%|███████▍  | 376/504 [1:47:09<23:53, 11.20s/it]"
     ]
    },
    {
     "name": "stdout",
     "output_type": "stream",
     "text": [
      "{'loss': 0.0161, 'grad_norm': 0.876201868057251, 'learning_rate': 1.2698412698412699e-05, 'epoch': 2.24}\n"
     ]
    },
    {
     "name": "stderr",
     "output_type": "stream",
     "text": [
      " 75%|███████▌  | 378/504 [1:47:34<24:51, 11.84s/it]"
     ]
    },
    {
     "name": "stdout",
     "output_type": "stream",
     "text": [
      "{'loss': 0.0384, 'grad_norm': 0.8867169618606567, 'learning_rate': 1.25e-05, 'epoch': 2.25}\n"
     ]
    },
    {
     "name": "stderr",
     "output_type": "stream",
     "text": [
      " 75%|███████▌  | 380/504 [1:48:01<26:13, 12.69s/it]"
     ]
    },
    {
     "name": "stdout",
     "output_type": "stream",
     "text": [
      "{'loss': 0.0303, 'grad_norm': 0.6464748382568359, 'learning_rate': 1.2301587301587301e-05, 'epoch': 2.26}\n"
     ]
    },
    {
     "name": "stderr",
     "output_type": "stream",
     "text": [
      " 76%|███████▌  | 382/504 [1:48:26<25:34, 12.58s/it]"
     ]
    },
    {
     "name": "stdout",
     "output_type": "stream",
     "text": [
      "{'loss': 0.013, 'grad_norm': 0.5614424347877502, 'learning_rate': 1.2103174603174603e-05, 'epoch': 2.27}\n"
     ]
    },
    {
     "name": "stderr",
     "output_type": "stream",
     "text": [
      " 76%|███████▌  | 384/504 [1:48:48<23:28, 11.74s/it]"
     ]
    },
    {
     "name": "stdout",
     "output_type": "stream",
     "text": [
      "{'loss': 0.1025, 'grad_norm': 3.3431737422943115, 'learning_rate': 1.1904761904761905e-05, 'epoch': 2.29}\n"
     ]
    },
    {
     "name": "stderr",
     "output_type": "stream",
     "text": [
      " 77%|███████▋  | 386/504 [1:49:16<25:27, 12.95s/it]"
     ]
    },
    {
     "name": "stdout",
     "output_type": "stream",
     "text": [
      "{'loss': 0.0356, 'grad_norm': 0.7036703824996948, 'learning_rate': 1.1706349206349207e-05, 'epoch': 2.3}\n"
     ]
    },
    {
     "name": "stderr",
     "output_type": "stream",
     "text": [
      " 77%|███████▋  | 388/504 [1:49:38<23:10, 11.99s/it]"
     ]
    },
    {
     "name": "stdout",
     "output_type": "stream",
     "text": [
      "{'loss': 0.0083, 'grad_norm': 0.6316749453544617, 'learning_rate': 1.1507936507936508e-05, 'epoch': 2.31}\n"
     ]
    },
    {
     "name": "stderr",
     "output_type": "stream",
     "text": [
      " 77%|███████▋  | 390/504 [1:50:00<21:46, 11.46s/it]"
     ]
    },
    {
     "name": "stdout",
     "output_type": "stream",
     "text": [
      "{'loss': 0.0253, 'grad_norm': 0.5740384459495544, 'learning_rate': 1.130952380952381e-05, 'epoch': 2.32}\n"
     ]
    },
    {
     "name": "stderr",
     "output_type": "stream",
     "text": [
      " 78%|███████▊  | 392/504 [1:50:26<22:55, 12.28s/it]"
     ]
    },
    {
     "name": "stdout",
     "output_type": "stream",
     "text": [
      "{'loss': 0.0177, 'grad_norm': 0.6144191026687622, 'learning_rate': 1.1111111111111112e-05, 'epoch': 2.33}\n"
     ]
    },
    {
     "name": "stderr",
     "output_type": "stream",
     "text": [
      " 78%|███████▊  | 394/504 [1:50:49<21:54, 11.95s/it]"
     ]
    },
    {
     "name": "stdout",
     "output_type": "stream",
     "text": [
      "{'loss': 0.0477, 'grad_norm': 1.428518533706665, 'learning_rate': 1.0912698412698414e-05, 'epoch': 2.35}\n"
     ]
    },
    {
     "name": "stderr",
     "output_type": "stream",
     "text": [
      " 79%|███████▊  | 396/504 [1:51:12<20:52, 11.60s/it]"
     ]
    },
    {
     "name": "stdout",
     "output_type": "stream",
     "text": [
      "{'loss': 0.0031, 'grad_norm': 0.22755195200443268, 'learning_rate': 1.0714285714285714e-05, 'epoch': 2.36}\n"
     ]
    },
    {
     "name": "stderr",
     "output_type": "stream",
     "text": [
      " 79%|███████▉  | 398/504 [1:51:35<20:18, 11.50s/it]"
     ]
    },
    {
     "name": "stdout",
     "output_type": "stream",
     "text": [
      "{'loss': 0.093, 'grad_norm': 0.8930684924125671, 'learning_rate': 1.0515873015873016e-05, 'epoch': 2.37}\n"
     ]
    },
    {
     "name": "stderr",
     "output_type": "stream",
     "text": [
      " 79%|███████▉  | 400/504 [1:51:57<19:43, 11.38s/it]"
     ]
    },
    {
     "name": "stdout",
     "output_type": "stream",
     "text": [
      "{'loss': 0.0058, 'grad_norm': 0.331546813249588, 'learning_rate': 1.0317460317460318e-05, 'epoch': 2.38}\n"
     ]
    },
    {
     "name": "stderr",
     "output_type": "stream",
     "text": [
      "                                                   \n",
      " 79%|███████▉  | 400/504 [2:26:17<19:43, 11.38s/it]"
     ]
    },
    {
     "name": "stdout",
     "output_type": "stream",
     "text": [
      "{'eval_loss': 0.1503758728504181, 'eval_cer': 0.05833419985442446, 'eval_runtime': 2059.7162, 'eval_samples_per_second': 0.164, 'eval_steps_per_second': 0.021, 'epoch': 2.38}\n"
     ]
    },
    {
     "name": "stderr",
     "output_type": "stream",
     "text": [
      " 80%|███████▉  | 402/504 [2:26:41<12:35:08, 444.20s/it]"
     ]
    },
    {
     "name": "stdout",
     "output_type": "stream",
     "text": [
      "{'loss': 0.0085, 'grad_norm': 0.5835555195808411, 'learning_rate': 1.011904761904762e-05, 'epoch': 2.39}\n"
     ]
    },
    {
     "name": "stderr",
     "output_type": "stream",
     "text": [
      " 80%|████████  | 404/504 [2:27:04<6:12:42, 223.62s/it] "
     ]
    },
    {
     "name": "stdout",
     "output_type": "stream",
     "text": [
      "{'loss': 0.0298, 'grad_norm': 0.6957175135612488, 'learning_rate': 9.92063492063492e-06, 'epoch': 2.4}\n"
     ]
    },
    {
     "name": "stderr",
     "output_type": "stream",
     "text": [
      " 81%|████████  | 406/504 [2:27:27<3:08:35, 115.46s/it]"
     ]
    },
    {
     "name": "stdout",
     "output_type": "stream",
     "text": [
      "{'loss': 0.0303, 'grad_norm': 0.8028071522712708, 'learning_rate': 9.722222222222223e-06, 'epoch': 2.42}\n"
     ]
    },
    {
     "name": "stderr",
     "output_type": "stream",
     "text": [
      " 81%|████████  | 408/504 [2:27:51<1:39:55, 62.46s/it] "
     ]
    },
    {
     "name": "stdout",
     "output_type": "stream",
     "text": [
      "{'loss': 0.0154, 'grad_norm': 0.419901967048645, 'learning_rate': 9.523809523809523e-06, 'epoch': 2.43}\n"
     ]
    },
    {
     "name": "stderr",
     "output_type": "stream",
     "text": [
      " 81%|████████▏ | 410/504 [2:28:18<59:07, 37.74s/it]  "
     ]
    },
    {
     "name": "stdout",
     "output_type": "stream",
     "text": [
      "{'loss': 0.0131, 'grad_norm': 1.375827670097351, 'learning_rate': 9.325396825396827e-06, 'epoch': 2.44}\n"
     ]
    },
    {
     "name": "stderr",
     "output_type": "stream",
     "text": [
      " 82%|████████▏ | 412/504 [2:28:47<39:28, 25.74s/it]"
     ]
    },
    {
     "name": "stdout",
     "output_type": "stream",
     "text": [
      "{'loss': 0.071, 'grad_norm': 1.7721744775772095, 'learning_rate': 9.126984126984127e-06, 'epoch': 2.45}\n"
     ]
    },
    {
     "name": "stderr",
     "output_type": "stream",
     "text": [
      " 82%|████████▏ | 414/504 [2:29:13<29:20, 19.56s/it]"
     ]
    },
    {
     "name": "stdout",
     "output_type": "stream",
     "text": [
      "{'loss': 0.0047, 'grad_norm': 0.6925014853477478, 'learning_rate': 8.92857142857143e-06, 'epoch': 2.46}\n"
     ]
    },
    {
     "name": "stderr",
     "output_type": "stream",
     "text": [
      " 83%|████████▎ | 416/504 [2:29:41<24:07, 16.45s/it]"
     ]
    },
    {
     "name": "stdout",
     "output_type": "stream",
     "text": [
      "{'loss': 0.0483, 'grad_norm': 0.9005399346351624, 'learning_rate': 8.73015873015873e-06, 'epoch': 2.48}\n"
     ]
    },
    {
     "name": "stderr",
     "output_type": "stream",
     "text": [
      " 83%|████████▎ | 418/504 [2:30:03<19:53, 13.88s/it]"
     ]
    },
    {
     "name": "stdout",
     "output_type": "stream",
     "text": [
      "{'loss': 0.0095, 'grad_norm': 0.8261063098907471, 'learning_rate': 8.531746031746032e-06, 'epoch': 2.49}\n"
     ]
    },
    {
     "name": "stderr",
     "output_type": "stream",
     "text": [
      " 83%|████████▎ | 420/504 [2:30:28<18:08, 12.96s/it]"
     ]
    },
    {
     "name": "stdout",
     "output_type": "stream",
     "text": [
      "{'loss': 0.0261, 'grad_norm': 0.0822373479604721, 'learning_rate': 8.333333333333334e-06, 'epoch': 2.5}\n"
     ]
    },
    {
     "name": "stderr",
     "output_type": "stream",
     "text": [
      " 84%|████████▎ | 422/504 [2:30:51<16:41, 12.21s/it]"
     ]
    },
    {
     "name": "stdout",
     "output_type": "stream",
     "text": [
      "{'loss': 0.0343, 'grad_norm': 2.091099739074707, 'learning_rate': 8.134920634920636e-06, 'epoch': 2.51}\n"
     ]
    },
    {
     "name": "stderr",
     "output_type": "stream",
     "text": [
      " 84%|████████▍ | 424/504 [2:31:14<15:52, 11.91s/it]"
     ]
    },
    {
     "name": "stdout",
     "output_type": "stream",
     "text": [
      "{'loss': 0.0135, 'grad_norm': 0.47669076919555664, 'learning_rate': 7.936507936507936e-06, 'epoch': 2.52}\n"
     ]
    },
    {
     "name": "stderr",
     "output_type": "stream",
     "text": [
      " 85%|████████▍ | 426/504 [2:31:36<14:57, 11.51s/it]"
     ]
    },
    {
     "name": "stdout",
     "output_type": "stream",
     "text": [
      "{'loss': 0.0214, 'grad_norm': 1.6023540496826172, 'learning_rate': 7.738095238095238e-06, 'epoch': 2.54}\n"
     ]
    },
    {
     "name": "stderr",
     "output_type": "stream",
     "text": [
      " 85%|████████▍ | 428/504 [2:31:59<14:20, 11.32s/it]"
     ]
    },
    {
     "name": "stdout",
     "output_type": "stream",
     "text": [
      "{'loss': 0.009, 'grad_norm': 0.5514971017837524, 'learning_rate': 7.5396825396825394e-06, 'epoch': 2.55}\n"
     ]
    },
    {
     "name": "stderr",
     "output_type": "stream",
     "text": [
      " 85%|████████▌ | 430/504 [2:32:26<15:44, 12.76s/it]"
     ]
    },
    {
     "name": "stdout",
     "output_type": "stream",
     "text": [
      "{'loss': 0.0112, 'grad_norm': 0.6407166719436646, 'learning_rate': 7.3412698412698415e-06, 'epoch': 2.56}\n"
     ]
    },
    {
     "name": "stderr",
     "output_type": "stream",
     "text": [
      " 86%|████████▌ | 432/504 [2:32:54<15:53, 13.24s/it]"
     ]
    },
    {
     "name": "stdout",
     "output_type": "stream",
     "text": [
      "{'loss': 0.0389, 'grad_norm': 1.0745702981948853, 'learning_rate': 7.142857142857143e-06, 'epoch': 2.57}\n"
     ]
    },
    {
     "name": "stderr",
     "output_type": "stream",
     "text": [
      " 86%|████████▌ | 434/504 [2:33:18<14:39, 12.57s/it]"
     ]
    },
    {
     "name": "stdout",
     "output_type": "stream",
     "text": [
      "{'loss': 0.0096, 'grad_norm': 0.691635012626648, 'learning_rate': 6.944444444444445e-06, 'epoch': 2.58}\n"
     ]
    },
    {
     "name": "stderr",
     "output_type": "stream",
     "text": [
      " 87%|████████▋ | 436/504 [2:33:47<15:22, 13.57s/it]"
     ]
    },
    {
     "name": "stdout",
     "output_type": "stream",
     "text": [
      "{'loss': 0.0207, 'grad_norm': 1.2499620914459229, 'learning_rate': 6.746031746031746e-06, 'epoch': 2.6}\n"
     ]
    },
    {
     "name": "stderr",
     "output_type": "stream",
     "text": [
      " 87%|████████▋ | 438/504 [2:34:13<14:52, 13.52s/it]"
     ]
    },
    {
     "name": "stdout",
     "output_type": "stream",
     "text": [
      "{'loss': 0.0208, 'grad_norm': 0.3742799460887909, 'learning_rate': 6.547619047619048e-06, 'epoch': 2.61}\n"
     ]
    },
    {
     "name": "stderr",
     "output_type": "stream",
     "text": [
      " 87%|████████▋ | 440/504 [2:34:40<14:37, 13.71s/it]"
     ]
    },
    {
     "name": "stdout",
     "output_type": "stream",
     "text": [
      "{'loss': 0.0216, 'grad_norm': 0.39779767394065857, 'learning_rate': 6.349206349206349e-06, 'epoch': 2.62}\n"
     ]
    },
    {
     "name": "stderr",
     "output_type": "stream",
     "text": [
      " 88%|████████▊ | 442/504 [2:35:12<15:25, 14.93s/it]"
     ]
    },
    {
     "name": "stdout",
     "output_type": "stream",
     "text": [
      "{'loss': 0.0039, 'grad_norm': 0.13098984956741333, 'learning_rate': 6.1507936507936505e-06, 'epoch': 2.63}\n"
     ]
    },
    {
     "name": "stderr",
     "output_type": "stream",
     "text": [
      " 88%|████████▊ | 444/504 [2:35:43<15:11, 15.20s/it]"
     ]
    },
    {
     "name": "stdout",
     "output_type": "stream",
     "text": [
      "{'loss': 0.1024, 'grad_norm': 0.6945418119430542, 'learning_rate': 5.9523809523809525e-06, 'epoch': 2.64}\n"
     ]
    },
    {
     "name": "stderr",
     "output_type": "stream",
     "text": [
      " 88%|████████▊ | 446/504 [2:36:12<14:16, 14.77s/it]"
     ]
    },
    {
     "name": "stdout",
     "output_type": "stream",
     "text": [
      "{'loss': 0.0731, 'grad_norm': 2.9868085384368896, 'learning_rate': 5.753968253968254e-06, 'epoch': 2.65}\n"
     ]
    },
    {
     "name": "stderr",
     "output_type": "stream",
     "text": [
      " 89%|████████▉ | 448/504 [2:36:35<12:12, 13.07s/it]"
     ]
    },
    {
     "name": "stdout",
     "output_type": "stream",
     "text": [
      "{'loss': 0.017, 'grad_norm': 1.1917670965194702, 'learning_rate': 5.555555555555556e-06, 'epoch': 2.67}\n"
     ]
    },
    {
     "name": "stderr",
     "output_type": "stream",
     "text": [
      " 89%|████████▉ | 450/504 [2:37:01<11:41, 12.98s/it]"
     ]
    },
    {
     "name": "stdout",
     "output_type": "stream",
     "text": [
      "{'loss': 0.0172, 'grad_norm': 0.7953898906707764, 'learning_rate': 5.357142857142857e-06, 'epoch': 2.68}\n"
     ]
    },
    {
     "name": "stderr",
     "output_type": "stream",
     "text": [
      " 90%|████████▉ | 452/504 [2:37:23<10:27, 12.06s/it]"
     ]
    },
    {
     "name": "stdout",
     "output_type": "stream",
     "text": [
      "{'loss': 0.0063, 'grad_norm': 0.311034232378006, 'learning_rate': 5.158730158730159e-06, 'epoch': 2.69}\n"
     ]
    },
    {
     "name": "stderr",
     "output_type": "stream",
     "text": [
      " 90%|█████████ | 454/504 [2:37:50<10:36, 12.72s/it]"
     ]
    },
    {
     "name": "stdout",
     "output_type": "stream",
     "text": [
      "{'loss': 0.0169, 'grad_norm': 0.37028682231903076, 'learning_rate': 4.96031746031746e-06, 'epoch': 2.7}\n"
     ]
    },
    {
     "name": "stderr",
     "output_type": "stream",
     "text": [
      " 90%|█████████ | 456/504 [2:38:13<09:52, 12.34s/it]"
     ]
    },
    {
     "name": "stdout",
     "output_type": "stream",
     "text": [
      "{'loss': 0.0319, 'grad_norm': 0.9722166657447815, 'learning_rate': 4.7619047619047615e-06, 'epoch': 2.71}\n"
     ]
    },
    {
     "name": "stderr",
     "output_type": "stream",
     "text": [
      " 91%|█████████ | 458/504 [2:38:43<10:26, 13.61s/it]"
     ]
    },
    {
     "name": "stdout",
     "output_type": "stream",
     "text": [
      "{'loss': 0.0184, 'grad_norm': 0.6490198969841003, 'learning_rate': 4.563492063492064e-06, 'epoch': 2.73}\n"
     ]
    },
    {
     "name": "stderr",
     "output_type": "stream",
     "text": [
      " 91%|█████████▏| 460/504 [2:39:11<10:08, 13.84s/it]"
     ]
    },
    {
     "name": "stdout",
     "output_type": "stream",
     "text": [
      "{'loss': 0.0146, 'grad_norm': 0.12136490643024445, 'learning_rate': 4.365079365079365e-06, 'epoch': 2.74}\n"
     ]
    },
    {
     "name": "stderr",
     "output_type": "stream",
     "text": [
      " 92%|█████████▏| 462/504 [2:39:34<08:47, 12.56s/it]"
     ]
    },
    {
     "name": "stdout",
     "output_type": "stream",
     "text": [
      "{'loss': 0.0027, 'grad_norm': 0.24874062836170197, 'learning_rate': 4.166666666666667e-06, 'epoch': 2.75}\n"
     ]
    },
    {
     "name": "stderr",
     "output_type": "stream",
     "text": [
      " 92%|█████████▏| 464/504 [2:40:04<09:16, 13.91s/it]"
     ]
    },
    {
     "name": "stdout",
     "output_type": "stream",
     "text": [
      "{'loss': 0.0166, 'grad_norm': 1.5548863410949707, 'learning_rate': 3.968253968253968e-06, 'epoch': 2.76}\n"
     ]
    },
    {
     "name": "stderr",
     "output_type": "stream",
     "text": [
      " 92%|█████████▏| 466/504 [2:40:32<08:49, 13.94s/it]"
     ]
    },
    {
     "name": "stdout",
     "output_type": "stream",
     "text": [
      "{'loss': 0.1457, 'grad_norm': 0.7418316602706909, 'learning_rate': 3.7698412698412697e-06, 'epoch': 2.77}\n"
     ]
    },
    {
     "name": "stderr",
     "output_type": "stream",
     "text": [
      " 93%|█████████▎| 468/504 [2:41:01<08:27, 14.10s/it]"
     ]
    },
    {
     "name": "stdout",
     "output_type": "stream",
     "text": [
      "{'loss': 0.0143, 'grad_norm': 0.518636167049408, 'learning_rate': 3.5714285714285714e-06, 'epoch': 2.79}\n"
     ]
    },
    {
     "name": "stderr",
     "output_type": "stream",
     "text": [
      " 93%|█████████▎| 470/504 [2:41:24<07:19, 12.93s/it]"
     ]
    },
    {
     "name": "stdout",
     "output_type": "stream",
     "text": [
      "{'loss': 0.0069, 'grad_norm': 0.11203683912754059, 'learning_rate': 3.373015873015873e-06, 'epoch': 2.8}\n"
     ]
    },
    {
     "name": "stderr",
     "output_type": "stream",
     "text": [
      " 94%|█████████▎| 472/504 [2:41:48<06:41, 12.56s/it]"
     ]
    },
    {
     "name": "stdout",
     "output_type": "stream",
     "text": [
      "{'loss': 0.0072, 'grad_norm': 0.4720090627670288, 'learning_rate': 3.1746031746031746e-06, 'epoch': 2.81}\n"
     ]
    },
    {
     "name": "stderr",
     "output_type": "stream",
     "text": [
      " 94%|█████████▍| 474/504 [2:42:15<06:31, 13.04s/it]"
     ]
    },
    {
     "name": "stdout",
     "output_type": "stream",
     "text": [
      "{'loss': 0.0733, 'grad_norm': 1.532882571220398, 'learning_rate': 2.9761904761904763e-06, 'epoch': 2.82}\n"
     ]
    },
    {
     "name": "stderr",
     "output_type": "stream",
     "text": [
      " 94%|█████████▍| 476/504 [2:42:45<06:31, 13.98s/it]"
     ]
    },
    {
     "name": "stdout",
     "output_type": "stream",
     "text": [
      "{'loss': 0.0336, 'grad_norm': 0.37086614966392517, 'learning_rate': 2.777777777777778e-06, 'epoch': 2.83}\n"
     ]
    },
    {
     "name": "stderr",
     "output_type": "stream",
     "text": [
      " 95%|█████████▍| 478/504 [2:43:13<05:59, 13.83s/it]"
     ]
    },
    {
     "name": "stdout",
     "output_type": "stream",
     "text": [
      "{'loss': 0.0352, 'grad_norm': 1.0367472171783447, 'learning_rate': 2.5793650793650795e-06, 'epoch': 2.85}\n"
     ]
    },
    {
     "name": "stderr",
     "output_type": "stream",
     "text": [
      " 95%|█████████▌| 480/504 [2:43:35<04:57, 12.40s/it]"
     ]
    },
    {
     "name": "stdout",
     "output_type": "stream",
     "text": [
      "{'loss': 0.0432, 'grad_norm': 0.8184218406677246, 'learning_rate': 2.3809523809523808e-06, 'epoch': 2.86}\n"
     ]
    },
    {
     "name": "stderr",
     "output_type": "stream",
     "text": [
      " 96%|█████████▌| 482/504 [2:44:04<04:59, 13.62s/it]"
     ]
    },
    {
     "name": "stdout",
     "output_type": "stream",
     "text": [
      "{'loss': 0.0161, 'grad_norm': 0.2202368825674057, 'learning_rate': 2.1825396825396824e-06, 'epoch': 2.87}\n"
     ]
    },
    {
     "name": "stderr",
     "output_type": "stream",
     "text": [
      " 96%|█████████▌| 484/504 [2:44:30<04:24, 13.22s/it]"
     ]
    },
    {
     "name": "stdout",
     "output_type": "stream",
     "text": [
      "{'loss': 0.013, 'grad_norm': 0.3238314986228943, 'learning_rate': 1.984126984126984e-06, 'epoch': 2.88}\n"
     ]
    },
    {
     "name": "stderr",
     "output_type": "stream",
     "text": [
      " 96%|█████████▋| 486/504 [2:45:00<04:15, 14.22s/it]"
     ]
    },
    {
     "name": "stdout",
     "output_type": "stream",
     "text": [
      "{'loss': 0.0152, 'grad_norm': 0.4177344739437103, 'learning_rate': 1.7857142857142857e-06, 'epoch': 2.89}\n"
     ]
    },
    {
     "name": "stderr",
     "output_type": "stream",
     "text": [
      " 97%|█████████▋| 488/504 [2:45:27<03:39, 13.72s/it]"
     ]
    },
    {
     "name": "stdout",
     "output_type": "stream",
     "text": [
      "{'loss': 0.0153, 'grad_norm': 0.5678666234016418, 'learning_rate': 1.5873015873015873e-06, 'epoch': 2.9}\n"
     ]
    },
    {
     "name": "stderr",
     "output_type": "stream",
     "text": [
      " 97%|█████████▋| 490/504 [2:45:50<02:55, 12.56s/it]"
     ]
    },
    {
     "name": "stdout",
     "output_type": "stream",
     "text": [
      "{'loss': 0.0133, 'grad_norm': 0.9550899863243103, 'learning_rate': 1.388888888888889e-06, 'epoch': 2.92}\n"
     ]
    },
    {
     "name": "stderr",
     "output_type": "stream",
     "text": [
      " 98%|█████████▊| 492/504 [2:46:15<02:27, 12.30s/it]"
     ]
    },
    {
     "name": "stdout",
     "output_type": "stream",
     "text": [
      "{'loss': 0.0249, 'grad_norm': 0.9909107089042664, 'learning_rate': 1.1904761904761904e-06, 'epoch': 2.93}\n"
     ]
    },
    {
     "name": "stderr",
     "output_type": "stream",
     "text": [
      " 98%|█████████▊| 494/504 [2:46:39<02:01, 12.17s/it]"
     ]
    },
    {
     "name": "stdout",
     "output_type": "stream",
     "text": [
      "{'loss': 0.0274, 'grad_norm': 1.0528218746185303, 'learning_rate': 9.92063492063492e-07, 'epoch': 2.94}\n"
     ]
    },
    {
     "name": "stderr",
     "output_type": "stream",
     "text": [
      " 98%|█████████▊| 496/504 [2:47:01<01:33, 11.64s/it]"
     ]
    },
    {
     "name": "stdout",
     "output_type": "stream",
     "text": [
      "{'loss': 0.0258, 'grad_norm': 3.895479679107666, 'learning_rate': 7.936507936507937e-07, 'epoch': 2.95}\n"
     ]
    },
    {
     "name": "stderr",
     "output_type": "stream",
     "text": [
      " 99%|█████████▉| 498/504 [2:47:28<01:15, 12.62s/it]"
     ]
    },
    {
     "name": "stdout",
     "output_type": "stream",
     "text": [
      "{'loss': 0.0171, 'grad_norm': 0.8902730941772461, 'learning_rate': 5.952380952380952e-07, 'epoch': 2.96}\n"
     ]
    },
    {
     "name": "stderr",
     "output_type": "stream",
     "text": [
      " 99%|█████████▉| 500/504 [2:47:57<00:54, 13.63s/it]"
     ]
    },
    {
     "name": "stdout",
     "output_type": "stream",
     "text": [
      "{'loss': 0.0059, 'grad_norm': 0.4214538633823395, 'learning_rate': 3.9682539682539683e-07, 'epoch': 2.98}\n"
     ]
    },
    {
     "name": "stderr",
     "output_type": "stream",
     "text": [
      "100%|█████████▉| 502/504 [2:48:24<00:27, 13.79s/it]"
     ]
    },
    {
     "name": "stdout",
     "output_type": "stream",
     "text": [
      "{'loss': 0.0492, 'grad_norm': 0.6999098658561707, 'learning_rate': 1.9841269841269841e-07, 'epoch': 2.99}\n"
     ]
    },
    {
     "name": "stderr",
     "output_type": "stream",
     "text": [
      "100%|██████████| 504/504 [2:48:48<00:00, 20.10s/it]"
     ]
    },
    {
     "name": "stdout",
     "output_type": "stream",
     "text": [
      "{'loss': 0.0357, 'grad_norm': 0.38000595569610596, 'learning_rate': 0.0, 'epoch': 3.0}\n",
      "{'train_runtime': 10128.2484, 'train_samples_per_second': 0.398, 'train_steps_per_second': 0.05, 'train_loss': 0.12438169644872052, 'epoch': 3.0}\n"
     ]
    },
    {
     "name": "stderr",
     "output_type": "stream",
     "text": [
      "\n"
     ]
    },
    {
     "data": {
      "text/plain": [
       "TrainOutput(global_step=504, training_loss=0.12438169644872052, metrics={'train_runtime': 10128.2484, 'train_samples_per_second': 0.398, 'train_steps_per_second': 0.05, 'total_flos': 3.017085890095743e+18, 'train_loss': 0.12438169644872052, 'epoch': 3.0})"
      ]
     },
     "execution_count": 13,
     "metadata": {},
     "output_type": "execute_result"
    }
   ],
   "source": [
    "from transformers import default_data_collator\n",
    "\n",
    "# instantiate trainer\n",
    "trainer = Seq2SeqTrainer(\n",
    "    model=model,\n",
    "    tokenizer=processor.feature_extractor,\n",
    "    args=training_args,\n",
    "    compute_metrics=compute_metrics,\n",
    "    train_dataset=train_dataset,\n",
    "    eval_dataset=eval_dataset,\n",
    "    data_collator=default_data_collator,\n",
    ")\n",
    "trainer.train()"
   ]
  },
  {
   "cell_type": "code",
   "execution_count": 31,
   "metadata": {},
   "outputs": [
    {
     "name": "stderr",
     "output_type": "stream",
     "text": [
      "/home/maria/projects/blok/venv/lib/python3.10/site-packages/transformers/models/vit/feature_extraction_vit.py:28: FutureWarning: The class ViTFeatureExtractor is deprecated and will be removed in version 5 of Transformers. Please use ViTImageProcessor instead.\n",
      "  warnings.warn(\n"
     ]
    }
   ],
   "source": [
    "from transformers import VisionEncoderDecoderModel, ViTFeatureExtractor, AutoTokenizer\n",
    "from PIL import Image\n",
    "import torch\n",
    "\n",
    "# Load your fine-tuned model\n",
    "model_path = \"model\"\n",
    "model = VisionEncoderDecoderModel.from_pretrained(model_path)\n",
    "\n",
    "# Load the feature extractor\n",
    "feature_extractor = ViTFeatureExtractor.from_pretrained(model_path)\n",
    "\n",
    "# Load the tokenizer from the base model\n",
    "tokenizer = AutoTokenizer.from_pretrained(\"raxtemur/trocr-base-ru\")\n",
    "\n",
    "# Load and preprocess your new image\n",
    "image_path = \"2pages/image_serial_55_2_cropped_line.jpg\"\n",
    "image = Image.open(image_path)\n",
    "inputs = feature_extractor(images=image, return_tensors=\"pt\")\n"
   ]
  },
  {
   "cell_type": "code",
   "execution_count": null,
   "metadata": {},
   "outputs": [],
   "source": [
    "from transformers import TrOCRProcessor\n",
    "\n",
    "processor = TrOCRProcessor.from_pretrained(\"microsoft/trocr-base-handwritten\")"
   ]
  },
  {
   "cell_type": "code",
   "execution_count": 83,
   "metadata": {},
   "outputs": [],
   "source": [
    "# Load and preprocess your new image\n",
    "image_path = \"2pages/image_serial_56_5_cropped_line.jpg\"\n",
    "image = Image.open(image_path)\n",
    "inputs = feature_extractor(images=image, return_tensors=\"pt\")"
   ]
  },
  {
   "cell_type": "code",
   "execution_count": 84,
   "metadata": {},
   "outputs": [
    {
     "data": {
      "image/jpeg": "[encoded data removed]",
      "image/png": "[encoded data removed]",
      "text/plain": [
       "<PIL.JpegImagePlugin.JpegImageFile image mode=RGB size=261x42>"
      ]
     },
     "execution_count": 84,
     "metadata": {},
     "output_type": "execute_result"
    }
   ],
   "source": [
    "image"
   ]
  },
  {
   "cell_type": "code",
   "execution_count": 85,
   "metadata": {},
   "outputs": [
    {
     "name": "stdout",
     "output_type": "stream",
     "text": [
      "И необузданной волной\n"
     ]
    }
   ],
   "source": [
    "pixel_values = processor(image, return_tensors=\"pt\").pixel_values\n",
    "generated_ids = model.generate(pixel_values)\n",
    "generated_text = processor.batch_decode(generated_ids, skip_special_tokens=True)[0]\n",
    "print(generated_text)"
   ]
  },
  {
   "cell_type": "code",
   "execution_count": 61,
   "metadata": {},
   "outputs": [
    {
     "name": "stdout",
     "output_type": "stream",
     "text": [
      "Надъ вѣчно пламенной звѣздой!\n"
     ]
    }
   ],
   "source": [
    "\n",
    "generated_ids = model.generate(pixel_values)\n",
    "generated_text = processor.batch_decode(generated_ids, skip_special_tokens=True)[0]\n",
    "print(generated_text)"
   ]
  },
  {
   "cell_type": "code",
   "execution_count": 86,
   "metadata": {},
   "outputs": [
    {
     "name": "stderr",
     "output_type": "stream",
     "text": [
      "100%|██████████| 43/43 [28:35<00:00, 39.90s/it]"
     ]
    },
    {
     "name": "stdout",
     "output_type": "stream",
     "text": [
      "Evaluation results: {'eval_loss': 0.15182630717754364, 'eval_cer': 0.05355100343142352, 'eval_runtime': 1761.218, 'eval_samples_per_second': 0.191, 'eval_steps_per_second': 0.024, 'epoch': 3.0}\n"
     ]
    },
    {
     "name": "stderr",
     "output_type": "stream",
     "text": [
      "\n"
     ]
    }
   ],
   "source": [
    "eval_results = trainer.evaluate()\n",
    "\n",
    "# Print the evaluation results\n",
    "print(\"Evaluation results:\", eval_results)"
   ]
  },
  {
   "cell_type": "code",
   "execution_count": null,
   "metadata": {},
   "outputs": [],
   "source": []
  }
 ],
 "metadata": {
  "kernelspec": {
   "display_name": "venv",
   "language": "python",
   "name": "python3"
  },
  "language_info": {
   "codemirror_mode": {
    "name": "ipython",
    "version": 3
   },
   "file_extension": ".py",
   "mimetype": "text/x-python",
   "name": "python",
   "nbconvert_exporter": "python",
   "pygments_lexer": "ipython3",
   "version": "3.10.12"
  }
 },
 "nbformat": 4,
 "nbformat_minor": 2
}
